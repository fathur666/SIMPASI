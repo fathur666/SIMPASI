{
  "cells": [
    {
      "cell_type": "markdown",
      "metadata": {
        "id": "t1BXxKG1FS_u"
      },
      "source": [
        "# Library Needed\n"
      ]
    },
    {
      "cell_type": "code",
      "execution_count": null,
      "metadata": {
        "colab": {
          "base_uri": "https://localhost:8080/"
        },
        "id": "twOvvUblnR1k",
        "outputId": "e2085b82-a47d-4e5d-a323-245608abb464"
      },
      "outputs": [
        {
          "output_type": "stream",
          "name": "stdout",
          "text": [
            "Python 3.7.13\n"
          ]
        }
      ],
      "source": [
        "!python --version"
      ]
    },
    {
      "cell_type": "code",
      "execution_count": null,
      "metadata": {
        "id": "28wbgEe0ndCr",
        "colab": {
          "base_uri": "https://localhost:8080/"
        },
        "outputId": "9fe2135d-f66b-4ef1-acad-619545069c90"
      },
      "outputs": [
        {
          "output_type": "stream",
          "name": "stdout",
          "text": [
            "\u001b[K     |████████████████████████████████| 88 kB 1.1 MB/s \n",
            "\u001b[K     |████████████████████████████████| 511.7 MB 4.7 kB/s \n",
            "\u001b[K     |████████████████████████████████| 1.6 MB 42.1 MB/s \n",
            "\u001b[K     |████████████████████████████████| 5.8 MB 44.0 MB/s \n",
            "\u001b[K     |████████████████████████████████| 438 kB 58.7 MB/s \n",
            "\u001b[K     |████████████████████████████████| 78 kB 3.0 MB/s \n",
            "\u001b[K     |████████████████████████████████| 1.0 MB 11.3 MB/s \n",
            "\u001b[K     |████████████████████████████████| 40 kB 5.2 MB/s \n",
            "\u001b[K     |████████████████████████████████| 511.7 MB 4.0 kB/s \n",
            "\u001b[K     |████████████████████████████████| 5.8 MB 40.9 MB/s \n",
            "\u001b[31mERROR: pip's dependency resolver does not currently take into account all the packages that are installed. This behaviour is the source of the following dependency conflicts.\n",
            "datascience 0.10.6 requires folium==0.2.1, but you have folium 0.8.3 which is incompatible.\u001b[0m\n",
            "\u001b[K     |████████████████████████████████| 11.2 MB 5.0 MB/s \n",
            "\u001b[?25h"
          ]
        }
      ],
      "source": [
        "!pip install -q tensorflow-recommenders\n",
        "!pip install -q tensorflowjs\n",
        "!pip install -q scann"
      ]
    },
    {
      "cell_type": "code",
      "execution_count": null,
      "metadata": {
        "id": "so5I41Limcv5",
        "colab": {
          "base_uri": "https://localhost:8080/"
        },
        "outputId": "87cc4ec0-c7e2-4367-f297-383f3b994adf"
      },
      "outputs": [
        {
          "output_type": "stream",
          "name": "stdout",
          "text": [
            "2.9.0\n"
          ]
        }
      ],
      "source": [
        "import pathlib\n",
        "import os\n",
        "import pprint\n",
        "import tempfile\n",
        "from google.colab import files\n",
        "\n",
        "\n",
        "from typing import Dict, Text\n",
        "\n",
        "import csv\n",
        "import pandas as pd \n",
        "import numpy as np \n",
        "import matplotlib.pyplot as plt \n",
        "\n",
        "import tensorflow as tf\n",
        "import tensorflow_datasets as tfds\n",
        "import tensorflowjs as tfjs\n",
        "import tensorflow_recommenders as tfrs\n",
        "print(tf. __version__)"
      ]
    },
    {
      "cell_type": "markdown",
      "metadata": {
        "id": "-QUqx8euFe9G"
      },
      "source": [
        "# MPASI Menu Feedback & Resep Dataset"
      ]
    },
    {
      "cell_type": "code",
      "source": [
        "#komposisi_resep_filtered\n",
        "!gdown --id 1C7vDIEsSRGSlZRzz-A6Tslh0rUaig-yF\\\n",
        "\n",
        "!mv \"/content/komposisi_resep_filtered.csv\" \"/tmp\"\n",
        "\n",
        "komposisi_resep_fix = \"/tmp/komposisi_resep_filtered.csv\""
      ],
      "metadata": {
        "colab": {
          "base_uri": "https://localhost:8080/"
        },
        "id": "hOX1nAh0PKEP",
        "outputId": "ba5e113d-7eb4-4df1-c7d5-92bfabd7a6d4"
      },
      "execution_count": null,
      "outputs": [
        {
          "output_type": "stream",
          "name": "stdout",
          "text": [
            "/usr/local/lib/python3.7/dist-packages/gdown/cli.py:131: FutureWarning: Option `--id` was deprecated in version 4.3.1 and will be removed in 5.0. You don't need to pass it anymore to use a file ID.\n",
            "  category=FutureWarning,\n",
            "Downloading...\n",
            "From: https://drive.google.com/uc?id=1C7vDIEsSRGSlZRzz-A6Tslh0rUaig-yF\n",
            "To: /content/komposisi_resep_filtered.csv\n",
            "100% 3.88k/3.88k [00:00<00:00, 6.01MB/s]\n"
          ]
        }
      ]
    },
    {
      "cell_type": "code",
      "source": [
        "komposisi_resep_pd = pd.read_csv(komposisi_resep_fix)\n",
        "komposisi_resep_pd.head()"
      ],
      "metadata": {
        "colab": {
          "base_uri": "https://localhost:8080/",
          "height": 206
        },
        "id": "rjr3bg5-CF5u",
        "outputId": "78a6dd45-1f4b-4ca4-fa3d-449124804f19"
      },
      "execution_count": null,
      "outputs": [
        {
          "output_type": "execute_result",
          "data": {
            "text/plain": [
              "   id_resep            nama_resep                                 nama_bahan\n",
              "0         1  Agar-agar Isi Blewah                   Blewah, Melon, Agar-Agar\n",
              "1         2            Apel Rebus                                       Apel\n",
              "2         3          Apricot Tahu                   Tahu Sutra, Pisang, Apel\n",
              "3         4      Biskuit Oat Ceri    Unsalted Butter, Oatmeal, Ceri, Maizena\n",
              "4         5    Biskuit Oat Wortel  Maizena, Unsalted Butter, Wortel, Oatmeal"
            ],
            "text/html": [
              "\n",
              "  <div id=\"df-45c2fe23-900e-42bb-a9ec-d5dd83dc69da\">\n",
              "    <div class=\"colab-df-container\">\n",
              "      <div>\n",
              "<style scoped>\n",
              "    .dataframe tbody tr th:only-of-type {\n",
              "        vertical-align: middle;\n",
              "    }\n",
              "\n",
              "    .dataframe tbody tr th {\n",
              "        vertical-align: top;\n",
              "    }\n",
              "\n",
              "    .dataframe thead th {\n",
              "        text-align: right;\n",
              "    }\n",
              "</style>\n",
              "<table border=\"1\" class=\"dataframe\">\n",
              "  <thead>\n",
              "    <tr style=\"text-align: right;\">\n",
              "      <th></th>\n",
              "      <th>id_resep</th>\n",
              "      <th>nama_resep</th>\n",
              "      <th>nama_bahan</th>\n",
              "    </tr>\n",
              "  </thead>\n",
              "  <tbody>\n",
              "    <tr>\n",
              "      <th>0</th>\n",
              "      <td>1</td>\n",
              "      <td>Agar-agar Isi Blewah</td>\n",
              "      <td>Blewah, Melon, Agar-Agar</td>\n",
              "    </tr>\n",
              "    <tr>\n",
              "      <th>1</th>\n",
              "      <td>2</td>\n",
              "      <td>Apel Rebus</td>\n",
              "      <td>Apel</td>\n",
              "    </tr>\n",
              "    <tr>\n",
              "      <th>2</th>\n",
              "      <td>3</td>\n",
              "      <td>Apricot Tahu</td>\n",
              "      <td>Tahu Sutra, Pisang, Apel</td>\n",
              "    </tr>\n",
              "    <tr>\n",
              "      <th>3</th>\n",
              "      <td>4</td>\n",
              "      <td>Biskuit Oat Ceri</td>\n",
              "      <td>Unsalted Butter, Oatmeal, Ceri, Maizena</td>\n",
              "    </tr>\n",
              "    <tr>\n",
              "      <th>4</th>\n",
              "      <td>5</td>\n",
              "      <td>Biskuit Oat Wortel</td>\n",
              "      <td>Maizena, Unsalted Butter, Wortel, Oatmeal</td>\n",
              "    </tr>\n",
              "  </tbody>\n",
              "</table>\n",
              "</div>\n",
              "      <button class=\"colab-df-convert\" onclick=\"convertToInteractive('df-45c2fe23-900e-42bb-a9ec-d5dd83dc69da')\"\n",
              "              title=\"Convert this dataframe to an interactive table.\"\n",
              "              style=\"display:none;\">\n",
              "        \n",
              "  <svg xmlns=\"http://www.w3.org/2000/svg\" height=\"24px\"viewBox=\"0 0 24 24\"\n",
              "       width=\"24px\">\n",
              "    <path d=\"M0 0h24v24H0V0z\" fill=\"none\"/>\n",
              "    <path d=\"M18.56 5.44l.94 2.06.94-2.06 2.06-.94-2.06-.94-.94-2.06-.94 2.06-2.06.94zm-11 1L8.5 8.5l.94-2.06 2.06-.94-2.06-.94L8.5 2.5l-.94 2.06-2.06.94zm10 10l.94 2.06.94-2.06 2.06-.94-2.06-.94-.94-2.06-.94 2.06-2.06.94z\"/><path d=\"M17.41 7.96l-1.37-1.37c-.4-.4-.92-.59-1.43-.59-.52 0-1.04.2-1.43.59L10.3 9.45l-7.72 7.72c-.78.78-.78 2.05 0 2.83L4 21.41c.39.39.9.59 1.41.59.51 0 1.02-.2 1.41-.59l7.78-7.78 2.81-2.81c.8-.78.8-2.07 0-2.86zM5.41 20L4 18.59l7.72-7.72 1.47 1.35L5.41 20z\"/>\n",
              "  </svg>\n",
              "      </button>\n",
              "      \n",
              "  <style>\n",
              "    .colab-df-container {\n",
              "      display:flex;\n",
              "      flex-wrap:wrap;\n",
              "      gap: 12px;\n",
              "    }\n",
              "\n",
              "    .colab-df-convert {\n",
              "      background-color: #E8F0FE;\n",
              "      border: none;\n",
              "      border-radius: 50%;\n",
              "      cursor: pointer;\n",
              "      display: none;\n",
              "      fill: #1967D2;\n",
              "      height: 32px;\n",
              "      padding: 0 0 0 0;\n",
              "      width: 32px;\n",
              "    }\n",
              "\n",
              "    .colab-df-convert:hover {\n",
              "      background-color: #E2EBFA;\n",
              "      box-shadow: 0px 1px 2px rgba(60, 64, 67, 0.3), 0px 1px 3px 1px rgba(60, 64, 67, 0.15);\n",
              "      fill: #174EA6;\n",
              "    }\n",
              "\n",
              "    [theme=dark] .colab-df-convert {\n",
              "      background-color: #3B4455;\n",
              "      fill: #D2E3FC;\n",
              "    }\n",
              "\n",
              "    [theme=dark] .colab-df-convert:hover {\n",
              "      background-color: #434B5C;\n",
              "      box-shadow: 0px 1px 3px 1px rgba(0, 0, 0, 0.15);\n",
              "      filter: drop-shadow(0px 1px 2px rgba(0, 0, 0, 0.3));\n",
              "      fill: #FFFFFF;\n",
              "    }\n",
              "  </style>\n",
              "\n",
              "      <script>\n",
              "        const buttonEl =\n",
              "          document.querySelector('#df-45c2fe23-900e-42bb-a9ec-d5dd83dc69da button.colab-df-convert');\n",
              "        buttonEl.style.display =\n",
              "          google.colab.kernel.accessAllowed ? 'block' : 'none';\n",
              "\n",
              "        async function convertToInteractive(key) {\n",
              "          const element = document.querySelector('#df-45c2fe23-900e-42bb-a9ec-d5dd83dc69da');\n",
              "          const dataTable =\n",
              "            await google.colab.kernel.invokeFunction('convertToInteractive',\n",
              "                                                     [key], {});\n",
              "          if (!dataTable) return;\n",
              "\n",
              "          const docLinkHtml = 'Like what you see? Visit the ' +\n",
              "            '<a target=\"_blank\" href=https://colab.research.google.com/notebooks/data_table.ipynb>data table notebook</a>'\n",
              "            + ' to learn more about interactive tables.';\n",
              "          element.innerHTML = '';\n",
              "          dataTable['output_type'] = 'display_data';\n",
              "          await google.colab.output.renderOutput(dataTable, element);\n",
              "          const docLink = document.createElement('div');\n",
              "          docLink.innerHTML = docLinkHtml;\n",
              "          element.appendChild(docLink);\n",
              "        }\n",
              "      </script>\n",
              "    </div>\n",
              "  </div>\n",
              "  "
            ]
          },
          "metadata": {},
          "execution_count": 5
        }
      ]
    },
    {
      "cell_type": "code",
      "source": [
        "#Feedback sequential\n",
        "!gdown --id 1FHCZW_U4D6L_PuO54Kv94vOuqGZ5Qgsk\\\n",
        "\n",
        "!mv \"/content/feedback_sequential.csv\" \"/tmp\"\n",
        "\n",
        "feedback_sequential_dir = \"/tmp/feedback_sequential.csv\"\n"
      ],
      "metadata": {
        "colab": {
          "base_uri": "https://localhost:8080/"
        },
        "id": "7nCyOTI5HAk4",
        "outputId": "5419ce12-cf4d-4d41-e944-9a328770caea"
      },
      "execution_count": null,
      "outputs": [
        {
          "output_type": "stream",
          "name": "stdout",
          "text": [
            "/usr/local/lib/python3.7/dist-packages/gdown/cli.py:131: FutureWarning: Option `--id` was deprecated in version 4.3.1 and will be removed in 5.0. You don't need to pass it anymore to use a file ID.\n",
            "  category=FutureWarning,\n",
            "Downloading...\n",
            "From: https://drive.google.com/uc?id=1FHCZW_U4D6L_PuO54Kv94vOuqGZ5Qgsk\n",
            "To: /content/feedback_sequential.csv\n",
            "100% 627/627 [00:00<00:00, 944kB/s]\n"
          ]
        }
      ]
    },
    {
      "cell_type": "code",
      "source": [
        "feedback_seq = pd.read_csv(feedback_sequential_dir)\n",
        "feedback_seq.head()"
      ],
      "metadata": {
        "colab": {
          "base_uri": "https://localhost:8080/",
          "height": 206
        },
        "id": "r1xRIe1t6YTG",
        "outputId": "f508330b-6427-42dc-f776-543cdb0e53bd"
      },
      "execution_count": null,
      "outputs": [
        {
          "output_type": "execute_result",
          "data": {
            "text/plain": [
              "   user_id  resep_context_id1  resep_context_id2  resep_label_id\n",
              "0        1                 26                 54              22\n",
              "1        2                 67                 66              63\n",
              "2        3                  8                 19              44\n",
              "3        5                 36                 35              69\n",
              "4        6                 76                 74              73"
            ],
            "text/html": [
              "\n",
              "  <div id=\"df-e893cc3a-eb7d-4db6-b8f2-dcf737ec566b\">\n",
              "    <div class=\"colab-df-container\">\n",
              "      <div>\n",
              "<style scoped>\n",
              "    .dataframe tbody tr th:only-of-type {\n",
              "        vertical-align: middle;\n",
              "    }\n",
              "\n",
              "    .dataframe tbody tr th {\n",
              "        vertical-align: top;\n",
              "    }\n",
              "\n",
              "    .dataframe thead th {\n",
              "        text-align: right;\n",
              "    }\n",
              "</style>\n",
              "<table border=\"1\" class=\"dataframe\">\n",
              "  <thead>\n",
              "    <tr style=\"text-align: right;\">\n",
              "      <th></th>\n",
              "      <th>user_id</th>\n",
              "      <th>resep_context_id1</th>\n",
              "      <th>resep_context_id2</th>\n",
              "      <th>resep_label_id</th>\n",
              "    </tr>\n",
              "  </thead>\n",
              "  <tbody>\n",
              "    <tr>\n",
              "      <th>0</th>\n",
              "      <td>1</td>\n",
              "      <td>26</td>\n",
              "      <td>54</td>\n",
              "      <td>22</td>\n",
              "    </tr>\n",
              "    <tr>\n",
              "      <th>1</th>\n",
              "      <td>2</td>\n",
              "      <td>67</td>\n",
              "      <td>66</td>\n",
              "      <td>63</td>\n",
              "    </tr>\n",
              "    <tr>\n",
              "      <th>2</th>\n",
              "      <td>3</td>\n",
              "      <td>8</td>\n",
              "      <td>19</td>\n",
              "      <td>44</td>\n",
              "    </tr>\n",
              "    <tr>\n",
              "      <th>3</th>\n",
              "      <td>5</td>\n",
              "      <td>36</td>\n",
              "      <td>35</td>\n",
              "      <td>69</td>\n",
              "    </tr>\n",
              "    <tr>\n",
              "      <th>4</th>\n",
              "      <td>6</td>\n",
              "      <td>76</td>\n",
              "      <td>74</td>\n",
              "      <td>73</td>\n",
              "    </tr>\n",
              "  </tbody>\n",
              "</table>\n",
              "</div>\n",
              "      <button class=\"colab-df-convert\" onclick=\"convertToInteractive('df-e893cc3a-eb7d-4db6-b8f2-dcf737ec566b')\"\n",
              "              title=\"Convert this dataframe to an interactive table.\"\n",
              "              style=\"display:none;\">\n",
              "        \n",
              "  <svg xmlns=\"http://www.w3.org/2000/svg\" height=\"24px\"viewBox=\"0 0 24 24\"\n",
              "       width=\"24px\">\n",
              "    <path d=\"M0 0h24v24H0V0z\" fill=\"none\"/>\n",
              "    <path d=\"M18.56 5.44l.94 2.06.94-2.06 2.06-.94-2.06-.94-.94-2.06-.94 2.06-2.06.94zm-11 1L8.5 8.5l.94-2.06 2.06-.94-2.06-.94L8.5 2.5l-.94 2.06-2.06.94zm10 10l.94 2.06.94-2.06 2.06-.94-2.06-.94-.94-2.06-.94 2.06-2.06.94z\"/><path d=\"M17.41 7.96l-1.37-1.37c-.4-.4-.92-.59-1.43-.59-.52 0-1.04.2-1.43.59L10.3 9.45l-7.72 7.72c-.78.78-.78 2.05 0 2.83L4 21.41c.39.39.9.59 1.41.59.51 0 1.02-.2 1.41-.59l7.78-7.78 2.81-2.81c.8-.78.8-2.07 0-2.86zM5.41 20L4 18.59l7.72-7.72 1.47 1.35L5.41 20z\"/>\n",
              "  </svg>\n",
              "      </button>\n",
              "      \n",
              "  <style>\n",
              "    .colab-df-container {\n",
              "      display:flex;\n",
              "      flex-wrap:wrap;\n",
              "      gap: 12px;\n",
              "    }\n",
              "\n",
              "    .colab-df-convert {\n",
              "      background-color: #E8F0FE;\n",
              "      border: none;\n",
              "      border-radius: 50%;\n",
              "      cursor: pointer;\n",
              "      display: none;\n",
              "      fill: #1967D2;\n",
              "      height: 32px;\n",
              "      padding: 0 0 0 0;\n",
              "      width: 32px;\n",
              "    }\n",
              "\n",
              "    .colab-df-convert:hover {\n",
              "      background-color: #E2EBFA;\n",
              "      box-shadow: 0px 1px 2px rgba(60, 64, 67, 0.3), 0px 1px 3px 1px rgba(60, 64, 67, 0.15);\n",
              "      fill: #174EA6;\n",
              "    }\n",
              "\n",
              "    [theme=dark] .colab-df-convert {\n",
              "      background-color: #3B4455;\n",
              "      fill: #D2E3FC;\n",
              "    }\n",
              "\n",
              "    [theme=dark] .colab-df-convert:hover {\n",
              "      background-color: #434B5C;\n",
              "      box-shadow: 0px 1px 3px 1px rgba(0, 0, 0, 0.15);\n",
              "      filter: drop-shadow(0px 1px 2px rgba(0, 0, 0, 0.3));\n",
              "      fill: #FFFFFF;\n",
              "    }\n",
              "  </style>\n",
              "\n",
              "      <script>\n",
              "        const buttonEl =\n",
              "          document.querySelector('#df-e893cc3a-eb7d-4db6-b8f2-dcf737ec566b button.colab-df-convert');\n",
              "        buttonEl.style.display =\n",
              "          google.colab.kernel.accessAllowed ? 'block' : 'none';\n",
              "\n",
              "        async function convertToInteractive(key) {\n",
              "          const element = document.querySelector('#df-e893cc3a-eb7d-4db6-b8f2-dcf737ec566b');\n",
              "          const dataTable =\n",
              "            await google.colab.kernel.invokeFunction('convertToInteractive',\n",
              "                                                     [key], {});\n",
              "          if (!dataTable) return;\n",
              "\n",
              "          const docLinkHtml = 'Like what you see? Visit the ' +\n",
              "            '<a target=\"_blank\" href=https://colab.research.google.com/notebooks/data_table.ipynb>data table notebook</a>'\n",
              "            + ' to learn more about interactive tables.';\n",
              "          element.innerHTML = '';\n",
              "          dataTable['output_type'] = 'display_data';\n",
              "          await google.colab.output.renderOutput(dataTable, element);\n",
              "          const docLink = document.createElement('div');\n",
              "          docLink.innerHTML = docLinkHtml;\n",
              "          element.appendChild(docLink);\n",
              "        }\n",
              "      </script>\n",
              "    </div>\n",
              "  </div>\n",
              "  "
            ]
          },
          "metadata": {},
          "execution_count": 7
        }
      ]
    },
    {
      "cell_type": "code",
      "source": [
        "contextid_list = []\n",
        "userid_list = []\n",
        "labelid_list = []\n",
        "\n",
        "with open(feedback_sequential_dir, mode=\"r\") as x:\n",
        "  reader = csv.reader(x)\n",
        "  keys = next(reader)\n",
        "  for row in reader:\n",
        "    userid_list.append(row[0])\n",
        "    contextid_list.append([int(row[1]),int(row[2])])\n",
        "    labelid_list.append(int(row[3]))\n",
        "\n",
        "\n",
        "data = {keys[0]: userid_list, \"resep_context_id\": contextid_list, keys[3]:labelid_list }\n",
        "feedback_seq_df = pd.DataFrame.from_dict(data)\n",
        "print(len(feedback_seq_df))\n",
        "feedback_seq_df.head()"
      ],
      "metadata": {
        "id": "52lgjh9vObrW",
        "outputId": "00303eff-a72d-4a87-a76d-d912795a1e13",
        "colab": {
          "base_uri": "https://localhost:8080/",
          "height": 224
        }
      },
      "execution_count": null,
      "outputs": [
        {
          "output_type": "stream",
          "name": "stdout",
          "text": [
            "45\n"
          ]
        },
        {
          "output_type": "execute_result",
          "data": {
            "text/plain": [
              "  user_id resep_context_id  resep_label_id\n",
              "0       1         [26, 54]              22\n",
              "1       2         [67, 66]              63\n",
              "2       3          [8, 19]              44\n",
              "3       5         [36, 35]              69\n",
              "4       6         [76, 74]              73"
            ],
            "text/html": [
              "\n",
              "  <div id=\"df-d7c9de51-3b9a-476f-bbfe-a5b6b95bb97b\">\n",
              "    <div class=\"colab-df-container\">\n",
              "      <div>\n",
              "<style scoped>\n",
              "    .dataframe tbody tr th:only-of-type {\n",
              "        vertical-align: middle;\n",
              "    }\n",
              "\n",
              "    .dataframe tbody tr th {\n",
              "        vertical-align: top;\n",
              "    }\n",
              "\n",
              "    .dataframe thead th {\n",
              "        text-align: right;\n",
              "    }\n",
              "</style>\n",
              "<table border=\"1\" class=\"dataframe\">\n",
              "  <thead>\n",
              "    <tr style=\"text-align: right;\">\n",
              "      <th></th>\n",
              "      <th>user_id</th>\n",
              "      <th>resep_context_id</th>\n",
              "      <th>resep_label_id</th>\n",
              "    </tr>\n",
              "  </thead>\n",
              "  <tbody>\n",
              "    <tr>\n",
              "      <th>0</th>\n",
              "      <td>1</td>\n",
              "      <td>[26, 54]</td>\n",
              "      <td>22</td>\n",
              "    </tr>\n",
              "    <tr>\n",
              "      <th>1</th>\n",
              "      <td>2</td>\n",
              "      <td>[67, 66]</td>\n",
              "      <td>63</td>\n",
              "    </tr>\n",
              "    <tr>\n",
              "      <th>2</th>\n",
              "      <td>3</td>\n",
              "      <td>[8, 19]</td>\n",
              "      <td>44</td>\n",
              "    </tr>\n",
              "    <tr>\n",
              "      <th>3</th>\n",
              "      <td>5</td>\n",
              "      <td>[36, 35]</td>\n",
              "      <td>69</td>\n",
              "    </tr>\n",
              "    <tr>\n",
              "      <th>4</th>\n",
              "      <td>6</td>\n",
              "      <td>[76, 74]</td>\n",
              "      <td>73</td>\n",
              "    </tr>\n",
              "  </tbody>\n",
              "</table>\n",
              "</div>\n",
              "      <button class=\"colab-df-convert\" onclick=\"convertToInteractive('df-d7c9de51-3b9a-476f-bbfe-a5b6b95bb97b')\"\n",
              "              title=\"Convert this dataframe to an interactive table.\"\n",
              "              style=\"display:none;\">\n",
              "        \n",
              "  <svg xmlns=\"http://www.w3.org/2000/svg\" height=\"24px\"viewBox=\"0 0 24 24\"\n",
              "       width=\"24px\">\n",
              "    <path d=\"M0 0h24v24H0V0z\" fill=\"none\"/>\n",
              "    <path d=\"M18.56 5.44l.94 2.06.94-2.06 2.06-.94-2.06-.94-.94-2.06-.94 2.06-2.06.94zm-11 1L8.5 8.5l.94-2.06 2.06-.94-2.06-.94L8.5 2.5l-.94 2.06-2.06.94zm10 10l.94 2.06.94-2.06 2.06-.94-2.06-.94-.94-2.06-.94 2.06-2.06.94z\"/><path d=\"M17.41 7.96l-1.37-1.37c-.4-.4-.92-.59-1.43-.59-.52 0-1.04.2-1.43.59L10.3 9.45l-7.72 7.72c-.78.78-.78 2.05 0 2.83L4 21.41c.39.39.9.59 1.41.59.51 0 1.02-.2 1.41-.59l7.78-7.78 2.81-2.81c.8-.78.8-2.07 0-2.86zM5.41 20L4 18.59l7.72-7.72 1.47 1.35L5.41 20z\"/>\n",
              "  </svg>\n",
              "      </button>\n",
              "      \n",
              "  <style>\n",
              "    .colab-df-container {\n",
              "      display:flex;\n",
              "      flex-wrap:wrap;\n",
              "      gap: 12px;\n",
              "    }\n",
              "\n",
              "    .colab-df-convert {\n",
              "      background-color: #E8F0FE;\n",
              "      border: none;\n",
              "      border-radius: 50%;\n",
              "      cursor: pointer;\n",
              "      display: none;\n",
              "      fill: #1967D2;\n",
              "      height: 32px;\n",
              "      padding: 0 0 0 0;\n",
              "      width: 32px;\n",
              "    }\n",
              "\n",
              "    .colab-df-convert:hover {\n",
              "      background-color: #E2EBFA;\n",
              "      box-shadow: 0px 1px 2px rgba(60, 64, 67, 0.3), 0px 1px 3px 1px rgba(60, 64, 67, 0.15);\n",
              "      fill: #174EA6;\n",
              "    }\n",
              "\n",
              "    [theme=dark] .colab-df-convert {\n",
              "      background-color: #3B4455;\n",
              "      fill: #D2E3FC;\n",
              "    }\n",
              "\n",
              "    [theme=dark] .colab-df-convert:hover {\n",
              "      background-color: #434B5C;\n",
              "      box-shadow: 0px 1px 3px 1px rgba(0, 0, 0, 0.15);\n",
              "      filter: drop-shadow(0px 1px 2px rgba(0, 0, 0, 0.3));\n",
              "      fill: #FFFFFF;\n",
              "    }\n",
              "  </style>\n",
              "\n",
              "      <script>\n",
              "        const buttonEl =\n",
              "          document.querySelector('#df-d7c9de51-3b9a-476f-bbfe-a5b6b95bb97b button.colab-df-convert');\n",
              "        buttonEl.style.display =\n",
              "          google.colab.kernel.accessAllowed ? 'block' : 'none';\n",
              "\n",
              "        async function convertToInteractive(key) {\n",
              "          const element = document.querySelector('#df-d7c9de51-3b9a-476f-bbfe-a5b6b95bb97b');\n",
              "          const dataTable =\n",
              "            await google.colab.kernel.invokeFunction('convertToInteractive',\n",
              "                                                     [key], {});\n",
              "          if (!dataTable) return;\n",
              "\n",
              "          const docLinkHtml = 'Like what you see? Visit the ' +\n",
              "            '<a target=\"_blank\" href=https://colab.research.google.com/notebooks/data_table.ipynb>data table notebook</a>'\n",
              "            + ' to learn more about interactive tables.';\n",
              "          element.innerHTML = '';\n",
              "          dataTable['output_type'] = 'display_data';\n",
              "          await google.colab.output.renderOutput(dataTable, element);\n",
              "          const docLink = document.createElement('div');\n",
              "          docLink.innerHTML = docLinkHtml;\n",
              "          element.appendChild(docLink);\n",
              "        }\n",
              "      </script>\n",
              "    </div>\n",
              "  </div>\n",
              "  "
            ]
          },
          "metadata": {},
          "execution_count": 8
        }
      ]
    },
    {
      "cell_type": "markdown",
      "metadata": {
        "id": "BUOwZ9pknOJk"
      },
      "source": [
        "# Simulasi Aplikasi SIMPASI - User Baru"
      ]
    },
    {
      "cell_type": "markdown",
      "metadata": {
        "id": "HUAk9ShCnWd7"
      },
      "source": [
        "Pada user baru, customer akan melewati tahap-tahap berikut akan berupa:\n",
        "\n",
        "1.   Log-in/Sign-up dengan email dan passsword\n",
        "2.   Meminta data bayi berupa nama, tanggal lahir, bahan yang pernah dicoba sebelumnya (suka/tidak suka/alergi)\n",
        "3.   Mendapatkan rekomendasi makanan dari riwayat makanan yang disukai/tidak disukai/alergi\n",
        "\n",
        "\n"
      ]
    },
    {
      "cell_type": "markdown",
      "metadata": {
        "id": "UEfUBqHgtCAG"
      },
      "source": [
        "Sehingga, sistem rekomendasi harus melakukan:\n",
        "\n",
        "\n",
        "1.   Meminta username/email/password untuk masuk ke akun\n",
        "2.   Meminta nama, tanggal lahir, bahan yang pernah dicoba sebelumnya *(suka/tidak suka/alergi)\n",
        "3.   Menawarkan resep berdasarkan data bahan\n",
        "4.   Menghitung Umur dan EER anak\n",
        "5.   Merekomendasikan resep yang sesuai dengan profil\n",
        "6.   Memfilter resep berdasarkan alergi bahan\n",
        "7.   Memfilter menu makanan berdasarkan umur dan EER\n",
        "8.   Menampilkan kombinasi menu dari resep yang cocok\n"
      ]
    },
    {
      "cell_type": "markdown",
      "metadata": {
        "id": "qf231mPVatdp"
      },
      "source": [
        "## *Fixed Model of SIMPASI (FLOAT)*\n",
        "\n",
        "\n",
        "\n"
      ]
    },
    {
      "cell_type": "code",
      "source": [
        "OOV_RESEP_ID = 0\n",
        "train_examples = []\n",
        "test_examples = []\n",
        "\n",
        "def generate_examples(df):\n",
        "  for item in range(len(df)):\n",
        "    context = df[\"resep_context_id\"].values[item]\n",
        "    while len(context) < 2:\n",
        "        context.append(OOV_MOVIE_ID)\n",
        "    label = df[\"resep_label_id\"].values[item]\n",
        "    feature = {\n",
        "        \"resep_context_id\":tf.train.Feature(float_list=tf.train.FloatList(value=context)),\n",
        "        \"resep_label_id\":tf.train.Feature(int64_list=tf.train.Int64List(value=[label]))\n",
        "    }\n",
        "    tf_example = tf.train.Example(features=tf.train.Features(feature=feature))\n",
        "    print(tf_example)\n",
        "    if item > 30:\n",
        "      test_examples.append(tf_example.SerializeToString())\n",
        "    else:\n",
        "      train_examples.append(tf_example.SerializeToString())\n",
        "  return train_examples, test_examples\n"
      ],
      "metadata": {
        "id": "Nr6JuHyTbR1t"
      },
      "execution_count": null,
      "outputs": []
    },
    {
      "cell_type": "code",
      "source": [
        "train_examples, test_examples = generate_examples(feedback_seq_df)"
      ],
      "metadata": {
        "colab": {
          "base_uri": "https://localhost:8080/"
        },
        "outputId": "2562f94e-7e2b-4110-a0e6-67bb573f35fa",
        "id": "zZ2_67QwbR1u"
      },
      "execution_count": null,
      "outputs": [
        {
          "output_type": "stream",
          "name": "stdout",
          "text": [
            "features {\n",
            "  feature {\n",
            "    key: \"resep_context_id\"\n",
            "    value {\n",
            "      float_list {\n",
            "        value: 26.0\n",
            "        value: 54.0\n",
            "      }\n",
            "    }\n",
            "  }\n",
            "  feature {\n",
            "    key: \"resep_label_id\"\n",
            "    value {\n",
            "      int64_list {\n",
            "        value: 22\n",
            "      }\n",
            "    }\n",
            "  }\n",
            "}\n",
            "\n",
            "features {\n",
            "  feature {\n",
            "    key: \"resep_context_id\"\n",
            "    value {\n",
            "      float_list {\n",
            "        value: 67.0\n",
            "        value: 66.0\n",
            "      }\n",
            "    }\n",
            "  }\n",
            "  feature {\n",
            "    key: \"resep_label_id\"\n",
            "    value {\n",
            "      int64_list {\n",
            "        value: 63\n",
            "      }\n",
            "    }\n",
            "  }\n",
            "}\n",
            "\n",
            "features {\n",
            "  feature {\n",
            "    key: \"resep_context_id\"\n",
            "    value {\n",
            "      float_list {\n",
            "        value: 8.0\n",
            "        value: 19.0\n",
            "      }\n",
            "    }\n",
            "  }\n",
            "  feature {\n",
            "    key: \"resep_label_id\"\n",
            "    value {\n",
            "      int64_list {\n",
            "        value: 44\n",
            "      }\n",
            "    }\n",
            "  }\n",
            "}\n",
            "\n",
            "features {\n",
            "  feature {\n",
            "    key: \"resep_context_id\"\n",
            "    value {\n",
            "      float_list {\n",
            "        value: 36.0\n",
            "        value: 35.0\n",
            "      }\n",
            "    }\n",
            "  }\n",
            "  feature {\n",
            "    key: \"resep_label_id\"\n",
            "    value {\n",
            "      int64_list {\n",
            "        value: 69\n",
            "      }\n",
            "    }\n",
            "  }\n",
            "}\n",
            "\n",
            "features {\n",
            "  feature {\n",
            "    key: \"resep_context_id\"\n",
            "    value {\n",
            "      float_list {\n",
            "        value: 76.0\n",
            "        value: 74.0\n",
            "      }\n",
            "    }\n",
            "  }\n",
            "  feature {\n",
            "    key: \"resep_label_id\"\n",
            "    value {\n",
            "      int64_list {\n",
            "        value: 73\n",
            "      }\n",
            "    }\n",
            "  }\n",
            "}\n",
            "\n",
            "features {\n",
            "  feature {\n",
            "    key: \"resep_context_id\"\n",
            "    value {\n",
            "      float_list {\n",
            "        value: 31.0\n",
            "        value: 11.0\n",
            "      }\n",
            "    }\n",
            "  }\n",
            "  feature {\n",
            "    key: \"resep_label_id\"\n",
            "    value {\n",
            "      int64_list {\n",
            "        value: 57\n",
            "      }\n",
            "    }\n",
            "  }\n",
            "}\n",
            "\n",
            "features {\n",
            "  feature {\n",
            "    key: \"resep_context_id\"\n",
            "    value {\n",
            "      float_list {\n",
            "        value: 43.0\n",
            "        value: 41.0\n",
            "      }\n",
            "    }\n",
            "  }\n",
            "  feature {\n",
            "    key: \"resep_label_id\"\n",
            "    value {\n",
            "      int64_list {\n",
            "        value: 60\n",
            "      }\n",
            "    }\n",
            "  }\n",
            "}\n",
            "\n",
            "features {\n",
            "  feature {\n",
            "    key: \"resep_context_id\"\n",
            "    value {\n",
            "      float_list {\n",
            "        value: 44.0\n",
            "        value: 67.0\n",
            "      }\n",
            "    }\n",
            "  }\n",
            "  feature {\n",
            "    key: \"resep_label_id\"\n",
            "    value {\n",
            "      int64_list {\n",
            "        value: 33\n",
            "      }\n",
            "    }\n",
            "  }\n",
            "}\n",
            "\n",
            "features {\n",
            "  feature {\n",
            "    key: \"resep_context_id\"\n",
            "    value {\n",
            "      float_list {\n",
            "        value: 13.0\n",
            "        value: 29.0\n",
            "      }\n",
            "    }\n",
            "  }\n",
            "  feature {\n",
            "    key: \"resep_label_id\"\n",
            "    value {\n",
            "      int64_list {\n",
            "        value: 22\n",
            "      }\n",
            "    }\n",
            "  }\n",
            "}\n",
            "\n",
            "features {\n",
            "  feature {\n",
            "    key: \"resep_context_id\"\n",
            "    value {\n",
            "      float_list {\n",
            "        value: 24.0\n",
            "        value: 31.0\n",
            "      }\n",
            "    }\n",
            "  }\n",
            "  feature {\n",
            "    key: \"resep_label_id\"\n",
            "    value {\n",
            "      int64_list {\n",
            "        value: 24\n",
            "      }\n",
            "    }\n",
            "  }\n",
            "}\n",
            "\n",
            "features {\n",
            "  feature {\n",
            "    key: \"resep_context_id\"\n",
            "    value {\n",
            "      float_list {\n",
            "        value: 13.0\n",
            "        value: 75.0\n",
            "      }\n",
            "    }\n",
            "  }\n",
            "  feature {\n",
            "    key: \"resep_label_id\"\n",
            "    value {\n",
            "      int64_list {\n",
            "        value: 9\n",
            "      }\n",
            "    }\n",
            "  }\n",
            "}\n",
            "\n",
            "features {\n",
            "  feature {\n",
            "    key: \"resep_context_id\"\n",
            "    value {\n",
            "      float_list {\n",
            "        value: 35.0\n",
            "        value: 36.0\n",
            "      }\n",
            "    }\n",
            "  }\n",
            "  feature {\n",
            "    key: \"resep_label_id\"\n",
            "    value {\n",
            "      int64_list {\n",
            "        value: 33\n",
            "      }\n",
            "    }\n",
            "  }\n",
            "}\n",
            "\n",
            "features {\n",
            "  feature {\n",
            "    key: \"resep_context_id\"\n",
            "    value {\n",
            "      float_list {\n",
            "        value: 13.0\n",
            "        value: 42.0\n",
            "      }\n",
            "    }\n",
            "  }\n",
            "  feature {\n",
            "    key: \"resep_label_id\"\n",
            "    value {\n",
            "      int64_list {\n",
            "        value: 16\n",
            "      }\n",
            "    }\n",
            "  }\n",
            "}\n",
            "\n",
            "features {\n",
            "  feature {\n",
            "    key: \"resep_context_id\"\n",
            "    value {\n",
            "      float_list {\n",
            "        value: 33.0\n",
            "        value: 8.0\n",
            "      }\n",
            "    }\n",
            "  }\n",
            "  feature {\n",
            "    key: \"resep_label_id\"\n",
            "    value {\n",
            "      int64_list {\n",
            "        value: 20\n",
            "      }\n",
            "    }\n",
            "  }\n",
            "}\n",
            "\n",
            "features {\n",
            "  feature {\n",
            "    key: \"resep_context_id\"\n",
            "    value {\n",
            "      float_list {\n",
            "        value: 44.0\n",
            "        value: 68.0\n",
            "      }\n",
            "    }\n",
            "  }\n",
            "  feature {\n",
            "    key: \"resep_label_id\"\n",
            "    value {\n",
            "      int64_list {\n",
            "        value: 44\n",
            "      }\n",
            "    }\n",
            "  }\n",
            "}\n",
            "\n",
            "features {\n",
            "  feature {\n",
            "    key: \"resep_context_id\"\n",
            "    value {\n",
            "      float_list {\n",
            "        value: 61.0\n",
            "        value: 31.0\n",
            "      }\n",
            "    }\n",
            "  }\n",
            "  feature {\n",
            "    key: \"resep_label_id\"\n",
            "    value {\n",
            "      int64_list {\n",
            "        value: 27\n",
            "      }\n",
            "    }\n",
            "  }\n",
            "}\n",
            "\n",
            "features {\n",
            "  feature {\n",
            "    key: \"resep_context_id\"\n",
            "    value {\n",
            "      float_list {\n",
            "        value: 21.0\n",
            "        value: 29.0\n",
            "      }\n",
            "    }\n",
            "  }\n",
            "  feature {\n",
            "    key: \"resep_label_id\"\n",
            "    value {\n",
            "      int64_list {\n",
            "        value: 45\n",
            "      }\n",
            "    }\n",
            "  }\n",
            "}\n",
            "\n",
            "features {\n",
            "  feature {\n",
            "    key: \"resep_context_id\"\n",
            "    value {\n",
            "      float_list {\n",
            "        value: 71.0\n",
            "        value: 42.0\n",
            "      }\n",
            "    }\n",
            "  }\n",
            "  feature {\n",
            "    key: \"resep_label_id\"\n",
            "    value {\n",
            "      int64_list {\n",
            "        value: 23\n",
            "      }\n",
            "    }\n",
            "  }\n",
            "}\n",
            "\n",
            "features {\n",
            "  feature {\n",
            "    key: \"resep_context_id\"\n",
            "    value {\n",
            "      float_list {\n",
            "        value: 32.0\n",
            "        value: 17.0\n",
            "      }\n",
            "    }\n",
            "  }\n",
            "  feature {\n",
            "    key: \"resep_label_id\"\n",
            "    value {\n",
            "      int64_list {\n",
            "        value: 39\n",
            "      }\n",
            "    }\n",
            "  }\n",
            "}\n",
            "\n",
            "features {\n",
            "  feature {\n",
            "    key: \"resep_context_id\"\n",
            "    value {\n",
            "      float_list {\n",
            "        value: 37.0\n",
            "        value: 17.0\n",
            "      }\n",
            "    }\n",
            "  }\n",
            "  feature {\n",
            "    key: \"resep_label_id\"\n",
            "    value {\n",
            "      int64_list {\n",
            "        value: 13\n",
            "      }\n",
            "    }\n",
            "  }\n",
            "}\n",
            "\n",
            "features {\n",
            "  feature {\n",
            "    key: \"resep_context_id\"\n",
            "    value {\n",
            "      float_list {\n",
            "        value: 31.0\n",
            "        value: 40.0\n",
            "      }\n",
            "    }\n",
            "  }\n",
            "  feature {\n",
            "    key: \"resep_label_id\"\n",
            "    value {\n",
            "      int64_list {\n",
            "        value: 47\n",
            "      }\n",
            "    }\n",
            "  }\n",
            "}\n",
            "\n",
            "features {\n",
            "  feature {\n",
            "    key: \"resep_context_id\"\n",
            "    value {\n",
            "      float_list {\n",
            "        value: 13.0\n",
            "        value: 39.0\n",
            "      }\n",
            "    }\n",
            "  }\n",
            "  feature {\n",
            "    key: \"resep_label_id\"\n",
            "    value {\n",
            "      int64_list {\n",
            "        value: 53\n",
            "      }\n",
            "    }\n",
            "  }\n",
            "}\n",
            "\n",
            "features {\n",
            "  feature {\n",
            "    key: \"resep_context_id\"\n",
            "    value {\n",
            "      float_list {\n",
            "        value: 61.0\n",
            "        value: 3.0\n",
            "      }\n",
            "    }\n",
            "  }\n",
            "  feature {\n",
            "    key: \"resep_label_id\"\n",
            "    value {\n",
            "      int64_list {\n",
            "        value: 11\n",
            "      }\n",
            "    }\n",
            "  }\n",
            "}\n",
            "\n",
            "features {\n",
            "  feature {\n",
            "    key: \"resep_context_id\"\n",
            "    value {\n",
            "      float_list {\n",
            "        value: 59.0\n",
            "        value: 56.0\n",
            "      }\n",
            "    }\n",
            "  }\n",
            "  feature {\n",
            "    key: \"resep_label_id\"\n",
            "    value {\n",
            "      int64_list {\n",
            "        value: 37\n",
            "      }\n",
            "    }\n",
            "  }\n",
            "}\n",
            "\n",
            "features {\n",
            "  feature {\n",
            "    key: \"resep_context_id\"\n",
            "    value {\n",
            "      float_list {\n",
            "        value: 15.0\n",
            "        value: 29.0\n",
            "      }\n",
            "    }\n",
            "  }\n",
            "  feature {\n",
            "    key: \"resep_label_id\"\n",
            "    value {\n",
            "      int64_list {\n",
            "        value: 25\n",
            "      }\n",
            "    }\n",
            "  }\n",
            "}\n",
            "\n",
            "features {\n",
            "  feature {\n",
            "    key: \"resep_context_id\"\n",
            "    value {\n",
            "      float_list {\n",
            "        value: 61.0\n",
            "        value: 76.0\n",
            "      }\n",
            "    }\n",
            "  }\n",
            "  feature {\n",
            "    key: \"resep_label_id\"\n",
            "    value {\n",
            "      int64_list {\n",
            "        value: 57\n",
            "      }\n",
            "    }\n",
            "  }\n",
            "}\n",
            "\n",
            "features {\n",
            "  feature {\n",
            "    key: \"resep_context_id\"\n",
            "    value {\n",
            "      float_list {\n",
            "        value: 61.0\n",
            "        value: 72.0\n",
            "      }\n",
            "    }\n",
            "  }\n",
            "  feature {\n",
            "    key: \"resep_label_id\"\n",
            "    value {\n",
            "      int64_list {\n",
            "        value: 73\n",
            "      }\n",
            "    }\n",
            "  }\n",
            "}\n",
            "\n",
            "features {\n",
            "  feature {\n",
            "    key: \"resep_context_id\"\n",
            "    value {\n",
            "      float_list {\n",
            "        value: 22.0\n",
            "        value: 25.0\n",
            "      }\n",
            "    }\n",
            "  }\n",
            "  feature {\n",
            "    key: \"resep_label_id\"\n",
            "    value {\n",
            "      int64_list {\n",
            "        value: 32\n",
            "      }\n",
            "    }\n",
            "  }\n",
            "}\n",
            "\n",
            "features {\n",
            "  feature {\n",
            "    key: \"resep_context_id\"\n",
            "    value {\n",
            "      float_list {\n",
            "        value: 28.0\n",
            "        value: 12.0\n",
            "      }\n",
            "    }\n",
            "  }\n",
            "  feature {\n",
            "    key: \"resep_label_id\"\n",
            "    value {\n",
            "      int64_list {\n",
            "        value: 29\n",
            "      }\n",
            "    }\n",
            "  }\n",
            "}\n",
            "\n",
            "features {\n",
            "  feature {\n",
            "    key: \"resep_context_id\"\n",
            "    value {\n",
            "      float_list {\n",
            "        value: 36.0\n",
            "        value: 70.0\n",
            "      }\n",
            "    }\n",
            "  }\n",
            "  feature {\n",
            "    key: \"resep_label_id\"\n",
            "    value {\n",
            "      int64_list {\n",
            "        value: 68\n",
            "      }\n",
            "    }\n",
            "  }\n",
            "}\n",
            "\n",
            "features {\n",
            "  feature {\n",
            "    key: \"resep_context_id\"\n",
            "    value {\n",
            "      float_list {\n",
            "        value: 65.0\n",
            "        value: 63.0\n",
            "      }\n",
            "    }\n",
            "  }\n",
            "  feature {\n",
            "    key: \"resep_label_id\"\n",
            "    value {\n",
            "      int64_list {\n",
            "        value: 65\n",
            "      }\n",
            "    }\n",
            "  }\n",
            "}\n",
            "\n",
            "features {\n",
            "  feature {\n",
            "    key: \"resep_context_id\"\n",
            "    value {\n",
            "      float_list {\n",
            "        value: 70.0\n",
            "        value: 36.0\n",
            "      }\n",
            "    }\n",
            "  }\n",
            "  feature {\n",
            "    key: \"resep_label_id\"\n",
            "    value {\n",
            "      int64_list {\n",
            "        value: 33\n",
            "      }\n",
            "    }\n",
            "  }\n",
            "}\n",
            "\n",
            "features {\n",
            "  feature {\n",
            "    key: \"resep_context_id\"\n",
            "    value {\n",
            "      float_list {\n",
            "        value: 8.0\n",
            "        value: 12.0\n",
            "      }\n",
            "    }\n",
            "  }\n",
            "  feature {\n",
            "    key: \"resep_label_id\"\n",
            "    value {\n",
            "      int64_list {\n",
            "        value: 13\n",
            "      }\n",
            "    }\n",
            "  }\n",
            "}\n",
            "\n",
            "features {\n",
            "  feature {\n",
            "    key: \"resep_context_id\"\n",
            "    value {\n",
            "      float_list {\n",
            "        value: 60.0\n",
            "        value: 42.0\n",
            "      }\n",
            "    }\n",
            "  }\n",
            "  feature {\n",
            "    key: \"resep_label_id\"\n",
            "    value {\n",
            "      int64_list {\n",
            "        value: 22\n",
            "      }\n",
            "    }\n",
            "  }\n",
            "}\n",
            "\n",
            "features {\n",
            "  feature {\n",
            "    key: \"resep_context_id\"\n",
            "    value {\n",
            "      float_list {\n",
            "        value: 10.0\n",
            "        value: 49.0\n",
            "      }\n",
            "    }\n",
            "  }\n",
            "  feature {\n",
            "    key: \"resep_label_id\"\n",
            "    value {\n",
            "      int64_list {\n",
            "        value: 6\n",
            "      }\n",
            "    }\n",
            "  }\n",
            "}\n",
            "\n",
            "features {\n",
            "  feature {\n",
            "    key: \"resep_context_id\"\n",
            "    value {\n",
            "      float_list {\n",
            "        value: 60.0\n",
            "        value: 71.0\n",
            "      }\n",
            "    }\n",
            "  }\n",
            "  feature {\n",
            "    key: \"resep_label_id\"\n",
            "    value {\n",
            "      int64_list {\n",
            "        value: 45\n",
            "      }\n",
            "    }\n",
            "  }\n",
            "}\n",
            "\n",
            "features {\n",
            "  feature {\n",
            "    key: \"resep_context_id\"\n",
            "    value {\n",
            "      float_list {\n",
            "        value: 45.0\n",
            "        value: 17.0\n",
            "      }\n",
            "    }\n",
            "  }\n",
            "  feature {\n",
            "    key: \"resep_label_id\"\n",
            "    value {\n",
            "      int64_list {\n",
            "        value: 32\n",
            "      }\n",
            "    }\n",
            "  }\n",
            "}\n",
            "\n",
            "features {\n",
            "  feature {\n",
            "    key: \"resep_context_id\"\n",
            "    value {\n",
            "      float_list {\n",
            "        value: 67.0\n",
            "        value: 64.0\n",
            "      }\n",
            "    }\n",
            "  }\n",
            "  feature {\n",
            "    key: \"resep_label_id\"\n",
            "    value {\n",
            "      int64_list {\n",
            "        value: 44\n",
            "      }\n",
            "    }\n",
            "  }\n",
            "}\n",
            "\n",
            "features {\n",
            "  feature {\n",
            "    key: \"resep_context_id\"\n",
            "    value {\n",
            "      float_list {\n",
            "        value: 46.0\n",
            "        value: 59.0\n",
            "      }\n",
            "    }\n",
            "  }\n",
            "  feature {\n",
            "    key: \"resep_label_id\"\n",
            "    value {\n",
            "      int64_list {\n",
            "        value: 45\n",
            "      }\n",
            "    }\n",
            "  }\n",
            "}\n",
            "\n",
            "features {\n",
            "  feature {\n",
            "    key: \"resep_context_id\"\n",
            "    value {\n",
            "      float_list {\n",
            "        value: 70.0\n",
            "        value: 35.0\n",
            "      }\n",
            "    }\n",
            "  }\n",
            "  feature {\n",
            "    key: \"resep_label_id\"\n",
            "    value {\n",
            "      int64_list {\n",
            "        value: 36\n",
            "      }\n",
            "    }\n",
            "  }\n",
            "}\n",
            "\n",
            "features {\n",
            "  feature {\n",
            "    key: \"resep_context_id\"\n",
            "    value {\n",
            "      float_list {\n",
            "        value: 12.0\n",
            "        value: 41.0\n",
            "      }\n",
            "    }\n",
            "  }\n",
            "  feature {\n",
            "    key: \"resep_label_id\"\n",
            "    value {\n",
            "      int64_list {\n",
            "        value: 45\n",
            "      }\n",
            "    }\n",
            "  }\n",
            "}\n",
            "\n",
            "features {\n",
            "  feature {\n",
            "    key: \"resep_context_id\"\n",
            "    value {\n",
            "      float_list {\n",
            "        value: 14.0\n",
            "        value: 31.0\n",
            "      }\n",
            "    }\n",
            "  }\n",
            "  feature {\n",
            "    key: \"resep_label_id\"\n",
            "    value {\n",
            "      int64_list {\n",
            "        value: 7\n",
            "      }\n",
            "    }\n",
            "  }\n",
            "}\n",
            "\n",
            "features {\n",
            "  feature {\n",
            "    key: \"resep_context_id\"\n",
            "    value {\n",
            "      float_list {\n",
            "        value: 13.0\n",
            "        value: 42.0\n",
            "      }\n",
            "    }\n",
            "  }\n",
            "  feature {\n",
            "    key: \"resep_label_id\"\n",
            "    value {\n",
            "      int64_list {\n",
            "        value: 27\n",
            "      }\n",
            "    }\n",
            "  }\n",
            "}\n",
            "\n",
            "features {\n",
            "  feature {\n",
            "    key: \"resep_context_id\"\n",
            "    value {\n",
            "      float_list {\n",
            "        value: 7.0\n",
            "        value: 62.0\n",
            "      }\n",
            "    }\n",
            "  }\n",
            "  feature {\n",
            "    key: \"resep_label_id\"\n",
            "    value {\n",
            "      int64_list {\n",
            "        value: 3\n",
            "      }\n",
            "    }\n",
            "  }\n",
            "}\n",
            "\n",
            "features {\n",
            "  feature {\n",
            "    key: \"resep_context_id\"\n",
            "    value {\n",
            "      float_list {\n",
            "        value: 14.0\n",
            "        value: 48.0\n",
            "      }\n",
            "    }\n",
            "  }\n",
            "  feature {\n",
            "    key: \"resep_label_id\"\n",
            "    value {\n",
            "      int64_list {\n",
            "        value: 68\n",
            "      }\n",
            "    }\n",
            "  }\n",
            "}\n",
            "\n"
          ]
        }
      ]
    },
    {
      "cell_type": "code",
      "source": [
        "!git clone https://github.com/tensorflow/examples\n",
        "%cd examples/lite/examples/recommendation/ml/\n",
        "!pip install -r requirements.txt"
      ],
      "metadata": {
        "colab": {
          "base_uri": "https://localhost:8080/"
        },
        "outputId": "111a423f-e8f2-4bc8-feb6-2bc4b14382c2",
        "id": "s7KQlRHkbR1u"
      },
      "execution_count": null,
      "outputs": [
        {
          "output_type": "stream",
          "name": "stdout",
          "text": [
            "Cloning into 'examples'...\n",
            "remote: Enumerating objects: 21842, done.\u001b[K\n",
            "remote: Counting objects: 100% (502/502), done.\u001b[K\n",
            "remote: Compressing objects: 100% (322/322), done.\u001b[K\n",
            "remote: Total 21842 (delta 185), reused 377 (delta 114), pack-reused 21340\u001b[K\n",
            "Receiving objects: 100% (21842/21842), 37.26 MiB | 32.50 MiB/s, done.\n",
            "Resolving deltas: 100% (11946/11946), done.\n",
            "/content/examples/lite/examples/recommendation/ml\n",
            "Looking in indexes: https://pypi.org/simple, https://us-python.pkg.dev/colab-wheels/public/simple/\n",
            "Requirement already satisfied: pandas>=1.0.5 in /usr/local/lib/python3.7/dist-packages (from -r requirements.txt (line 1)) (1.3.5)\n",
            "Requirement already satisfied: tensorflow>=2.2.0 in /usr/local/lib/python3.7/dist-packages (from -r requirements.txt (line 2)) (2.9.0)\n",
            "Requirement already satisfied: absl-py>=0.1.6 in /usr/local/lib/python3.7/dist-packages (from -r requirements.txt (line 3)) (1.2.0)\n",
            "Requirement already satisfied: numpy>=1.17.3 in /usr/local/lib/python3.7/dist-packages (from pandas>=1.0.5->-r requirements.txt (line 1)) (1.21.6)\n",
            "Requirement already satisfied: pytz>=2017.3 in /usr/local/lib/python3.7/dist-packages (from pandas>=1.0.5->-r requirements.txt (line 1)) (2022.1)\n",
            "Requirement already satisfied: python-dateutil>=2.7.3 in /usr/local/lib/python3.7/dist-packages (from pandas>=1.0.5->-r requirements.txt (line 1)) (2.8.2)\n",
            "Requirement already satisfied: opt-einsum>=2.3.2 in /usr/local/lib/python3.7/dist-packages (from tensorflow>=2.2.0->-r requirements.txt (line 2)) (3.3.0)\n",
            "Requirement already satisfied: h5py>=2.9.0 in /usr/local/lib/python3.7/dist-packages (from tensorflow>=2.2.0->-r requirements.txt (line 2)) (3.1.0)\n",
            "Requirement already satisfied: gast<=0.4.0,>=0.2.1 in /usr/local/lib/python3.7/dist-packages (from tensorflow>=2.2.0->-r requirements.txt (line 2)) (0.4.0)\n",
            "Requirement already satisfied: tensorflow-estimator<2.10.0,>=2.9.0rc0 in /usr/local/lib/python3.7/dist-packages (from tensorflow>=2.2.0->-r requirements.txt (line 2)) (2.9.0)\n",
            "Requirement already satisfied: flatbuffers<2,>=1.12 in /usr/local/lib/python3.7/dist-packages (from tensorflow>=2.2.0->-r requirements.txt (line 2)) (1.12)\n",
            "Requirement already satisfied: termcolor>=1.1.0 in /usr/local/lib/python3.7/dist-packages (from tensorflow>=2.2.0->-r requirements.txt (line 2)) (1.1.0)\n",
            "Requirement already satisfied: grpcio<2.0,>=1.24.3 in /usr/local/lib/python3.7/dist-packages (from tensorflow>=2.2.0->-r requirements.txt (line 2)) (1.47.0)\n",
            "Requirement already satisfied: tensorboard<2.10,>=2.9 in /usr/local/lib/python3.7/dist-packages (from tensorflow>=2.2.0->-r requirements.txt (line 2)) (2.9.0)\n",
            "Requirement already satisfied: tensorflow-io-gcs-filesystem>=0.23.1 in /usr/local/lib/python3.7/dist-packages (from tensorflow>=2.2.0->-r requirements.txt (line 2)) (0.26.0)\n",
            "Requirement already satisfied: six>=1.12.0 in /usr/local/lib/python3.7/dist-packages (from tensorflow>=2.2.0->-r requirements.txt (line 2)) (1.15.0)\n",
            "Requirement already satisfied: typing-extensions>=3.6.6 in /usr/local/lib/python3.7/dist-packages (from tensorflow>=2.2.0->-r requirements.txt (line 2)) (4.1.1)\n",
            "Requirement already satisfied: packaging in /usr/local/lib/python3.7/dist-packages (from tensorflow>=2.2.0->-r requirements.txt (line 2)) (20.9)\n",
            "Requirement already satisfied: libclang>=13.0.0 in /usr/local/lib/python3.7/dist-packages (from tensorflow>=2.2.0->-r requirements.txt (line 2)) (14.0.1)\n",
            "Requirement already satisfied: setuptools in /usr/local/lib/python3.7/dist-packages (from tensorflow>=2.2.0->-r requirements.txt (line 2)) (57.4.0)\n",
            "Requirement already satisfied: keras-preprocessing>=1.1.1 in /usr/local/lib/python3.7/dist-packages (from tensorflow>=2.2.0->-r requirements.txt (line 2)) (1.1.2)\n",
            "Requirement already satisfied: wrapt>=1.11.0 in /usr/local/lib/python3.7/dist-packages (from tensorflow>=2.2.0->-r requirements.txt (line 2)) (1.14.1)\n",
            "Requirement already satisfied: google-pasta>=0.1.1 in /usr/local/lib/python3.7/dist-packages (from tensorflow>=2.2.0->-r requirements.txt (line 2)) (0.2.0)\n",
            "Requirement already satisfied: protobuf>=3.9.2 in /usr/local/lib/python3.7/dist-packages (from tensorflow>=2.2.0->-r requirements.txt (line 2)) (3.20.0)\n",
            "Requirement already satisfied: astunparse>=1.6.0 in /usr/local/lib/python3.7/dist-packages (from tensorflow>=2.2.0->-r requirements.txt (line 2)) (1.6.3)\n",
            "Requirement already satisfied: keras<2.10.0,>=2.9.0rc0 in /usr/local/lib/python3.7/dist-packages (from tensorflow>=2.2.0->-r requirements.txt (line 2)) (2.9.0)\n",
            "Requirement already satisfied: wheel<1.0,>=0.23.0 in /usr/local/lib/python3.7/dist-packages (from astunparse>=1.6.0->tensorflow>=2.2.0->-r requirements.txt (line 2)) (0.37.1)\n",
            "Requirement already satisfied: cached-property in /usr/local/lib/python3.7/dist-packages (from h5py>=2.9.0->tensorflow>=2.2.0->-r requirements.txt (line 2)) (1.5.2)\n",
            "Requirement already satisfied: requests<3,>=2.21.0 in /usr/local/lib/python3.7/dist-packages (from tensorboard<2.10,>=2.9->tensorflow>=2.2.0->-r requirements.txt (line 2)) (2.23.0)\n",
            "Requirement already satisfied: markdown>=2.6.8 in /usr/local/lib/python3.7/dist-packages (from tensorboard<2.10,>=2.9->tensorflow>=2.2.0->-r requirements.txt (line 2)) (3.4.1)\n",
            "Requirement already satisfied: tensorboard-data-server<0.7.0,>=0.6.0 in /usr/local/lib/python3.7/dist-packages (from tensorboard<2.10,>=2.9->tensorflow>=2.2.0->-r requirements.txt (line 2)) (0.6.1)\n",
            "Requirement already satisfied: google-auth-oauthlib<0.5,>=0.4.1 in /usr/local/lib/python3.7/dist-packages (from tensorboard<2.10,>=2.9->tensorflow>=2.2.0->-r requirements.txt (line 2)) (0.4.6)\n",
            "Requirement already satisfied: tensorboard-plugin-wit>=1.6.0 in /usr/local/lib/python3.7/dist-packages (from tensorboard<2.10,>=2.9->tensorflow>=2.2.0->-r requirements.txt (line 2)) (1.8.1)\n",
            "Requirement already satisfied: google-auth<3,>=1.6.3 in /usr/local/lib/python3.7/dist-packages (from tensorboard<2.10,>=2.9->tensorflow>=2.2.0->-r requirements.txt (line 2)) (1.35.0)\n",
            "Requirement already satisfied: werkzeug>=1.0.1 in /usr/local/lib/python3.7/dist-packages (from tensorboard<2.10,>=2.9->tensorflow>=2.2.0->-r requirements.txt (line 2)) (1.0.1)\n",
            "Requirement already satisfied: pyasn1-modules>=0.2.1 in /usr/local/lib/python3.7/dist-packages (from google-auth<3,>=1.6.3->tensorboard<2.10,>=2.9->tensorflow>=2.2.0->-r requirements.txt (line 2)) (0.2.8)\n",
            "Requirement already satisfied: rsa<5,>=3.1.4 in /usr/local/lib/python3.7/dist-packages (from google-auth<3,>=1.6.3->tensorboard<2.10,>=2.9->tensorflow>=2.2.0->-r requirements.txt (line 2)) (4.8)\n",
            "Requirement already satisfied: cachetools<5.0,>=2.0.0 in /usr/local/lib/python3.7/dist-packages (from google-auth<3,>=1.6.3->tensorboard<2.10,>=2.9->tensorflow>=2.2.0->-r requirements.txt (line 2)) (4.2.4)\n",
            "Requirement already satisfied: requests-oauthlib>=0.7.0 in /usr/local/lib/python3.7/dist-packages (from google-auth-oauthlib<0.5,>=0.4.1->tensorboard<2.10,>=2.9->tensorflow>=2.2.0->-r requirements.txt (line 2)) (1.3.1)\n",
            "Requirement already satisfied: importlib-metadata>=4.4 in /usr/local/lib/python3.7/dist-packages (from markdown>=2.6.8->tensorboard<2.10,>=2.9->tensorflow>=2.2.0->-r requirements.txt (line 2)) (4.12.0)\n",
            "Requirement already satisfied: zipp>=0.5 in /usr/local/lib/python3.7/dist-packages (from importlib-metadata>=4.4->markdown>=2.6.8->tensorboard<2.10,>=2.9->tensorflow>=2.2.0->-r requirements.txt (line 2)) (3.8.1)\n",
            "Requirement already satisfied: pyasn1<0.5.0,>=0.4.6 in /usr/local/lib/python3.7/dist-packages (from pyasn1-modules>=0.2.1->google-auth<3,>=1.6.3->tensorboard<2.10,>=2.9->tensorflow>=2.2.0->-r requirements.txt (line 2)) (0.4.8)\n",
            "Requirement already satisfied: certifi>=2017.4.17 in /usr/local/lib/python3.7/dist-packages (from requests<3,>=2.21.0->tensorboard<2.10,>=2.9->tensorflow>=2.2.0->-r requirements.txt (line 2)) (2022.6.15)\n",
            "Requirement already satisfied: idna<3,>=2.5 in /usr/local/lib/python3.7/dist-packages (from requests<3,>=2.21.0->tensorboard<2.10,>=2.9->tensorflow>=2.2.0->-r requirements.txt (line 2)) (2.10)\n",
            "Requirement already satisfied: urllib3!=1.25.0,!=1.25.1,<1.26,>=1.21.1 in /usr/local/lib/python3.7/dist-packages (from requests<3,>=2.21.0->tensorboard<2.10,>=2.9->tensorflow>=2.2.0->-r requirements.txt (line 2)) (1.24.3)\n",
            "Requirement already satisfied: chardet<4,>=3.0.2 in /usr/local/lib/python3.7/dist-packages (from requests<3,>=2.21.0->tensorboard<2.10,>=2.9->tensorflow>=2.2.0->-r requirements.txt (line 2)) (3.0.4)\n",
            "Requirement already satisfied: oauthlib>=3.0.0 in /usr/local/lib/python3.7/dist-packages (from requests-oauthlib>=0.7.0->google-auth-oauthlib<0.5,>=0.4.1->tensorboard<2.10,>=2.9->tensorflow>=2.2.0->-r requirements.txt (line 2)) (3.2.0)\n",
            "Requirement already satisfied: pyparsing>=2.0.2 in /usr/local/lib/python3.7/dist-packages (from packaging->tensorflow>=2.2.0->-r requirements.txt (line 2)) (3.0.9)\n"
          ]
        }
      ]
    },
    {
      "cell_type": "code",
      "source": [
        "!python -m data.example_generation_movielens \\\n",
        "  --data_dir=data/raw \\\n",
        "  --output_dir=data/examples \\\n",
        "  --min_timeline_length=3 \\\n",
        "  --max_context_length=10 \\\n",
        "  --max_context_movie_genre_length=32 \\\n",
        "  --min_rating=2 \\\n",
        "  --train_data_fraction=0.9 \\\n",
        "  --build_vocabs=True"
      ],
      "metadata": {
        "colab": {
          "base_uri": "https://localhost:8080/"
        },
        "outputId": "e12cde73-b6e2-4572-f0d4-19a307702dc8",
        "id": "JMNBhH4vbR1u"
      },
      "execution_count": null,
      "outputs": [
        {
          "output_type": "stream",
          "name": "stdout",
          "text": [
            "2022-07-25 09:40:48.637088: E tensorflow/stream_executor/cuda/cuda_driver.cc:271] failed call to cuInit: CUDA_ERROR_NO_DEVICE: no CUDA-capable device is detected\n",
            "I0725 09:40:48.638154 140150846412672 example_generation_movielens.py:460] Downloading and extracting data.\n",
            "Downloading data from https://files.grouplens.org/datasets/movielens/ml-1m.zip\n",
            "5917549/5917549 [==============================] - 0s 0us/step\n",
            "I0725 09:40:49.481459 140150846412672 example_generation_movielens.py:406] Reading data to dataframes.\n",
            "/usr/local/lib/python3.7/dist-packages/pandas/util/_decorators.py:311: ParserWarning: Falling back to the 'python' engine because the 'c' engine does not support regex separators (separators > 1 char and different from '\\s+' are interpreted as regex); you can avoid this warning by specifying engine='python'.\n",
            "  return func(*args, **kwargs)\n",
            "I0725 09:41:00.755162 140150846412672 example_generation_movielens.py:408] Generating movie rating user timelines.\n",
            "I0725 09:41:10.039359 140150846412672 example_generation_movielens.py:410] Generating train and test examples.\n",
            "6040/6040 [==============================] - 126s 21ms/step\n",
            "I0725 09:43:16.624326 140150846412672 example_generation_movielens.py:421] Writing generated training examples.\n",
            "844195/844195 [==============================] - 21s 25us/step\n",
            "I0725 09:43:37.394661 140150846412672 example_generation_movielens.py:424] Writing generated testing examples.\n",
            "93799/93799 [==============================] - 2s 24us/step\n",
            "I0725 09:43:50.899862 140150846412672 example_generation_movielens.py:473] Generated dataset: {'train_size': 844195, 'test_size': 93799, 'train_file': 'data/examples/train_movielens_1m.tfrecord', 'test_file': 'data/examples/test_movielens_1m.tfrecord', 'vocab_size': 3883, 'vocab_file': 'data/examples/movie_vocab.json', 'vocab_max_id': 3952, 'year_vocab_size': 82, 'year_vocab_file': 'data/examples/movie_year_vocab.txt', 'genre_vocab_size': 19, 'genre_vocab_file': 'data/examples/movie_genre_vocab.txt'}\n"
          ]
        }
      ]
    },
    {
      "cell_type": "code",
      "source": [
        "def write_tfrecords(tf_examples, filename):\n",
        "  \"\"\"Write tf examples to tfrecord file.\"\"\"\n",
        "  with tf.io.TFRecordWriter(filename) as file_writer:\n",
        "    for example in tf_examples:\n",
        "      file_writer.write(example)\n",
        "\n",
        "output_dir = '/content/examples/lite/examples/recommendation/ml/data'\n",
        "OUTPUT_TRAINING_DATA_FILENAME = \"train_resep_float.tfrecord\"\n",
        "OUTPUT_TESTING_DATA_FILENAME = \"test_resep.tfrecord\"\n",
        "\n",
        "if not tf.io.gfile.exists(output_dir):\n",
        "  tf.io.gfile.makedirs(output_dir)\n",
        "write_tfrecords(\n",
        "    tf_examples=train_examples,\n",
        "    filename=os.path.join(output_dir, OUTPUT_TRAINING_DATA_FILENAME))\n",
        "write_tfrecords(\n",
        "    tf_examples=test_examples,\n",
        "    filename=os.path.join(output_dir, OUTPUT_TESTING_DATA_FILENAME))"
      ],
      "metadata": {
        "id": "kZJFWPaGbR1v"
      },
      "execution_count": null,
      "outputs": []
    },
    {
      "cell_type": "code",
      "source": [
        "record_iterator = tf.compat.v1.io.tf_record_iterator(path=\"/content/examples/lite/examples/recommendation/ml/data/test_resep.tfrecord\")\n",
        "for string_record in record_iterator:\n",
        "    example = tf.train.Example()\n",
        "    example.ParseFromString(string_record)\n",
        "\n",
        "    konteks_resep = (example.features.feature['resep_context_id'].float_list.value)\n",
        "    label_resep = (example.features.feature['resep_label_id'].int64_list.value)\n",
        "    print(konteks_resep, label_resep)"
      ],
      "metadata": {
        "colab": {
          "base_uri": "https://localhost:8080/"
        },
        "outputId": "9a6cfd93-36ec-4d97-8d6c-a62dc96b30cd",
        "id": "wCfkb9kwbR1v"
      },
      "execution_count": null,
      "outputs": [
        {
          "output_type": "stream",
          "name": "stdout",
          "text": [
            "[70.0, 36.0] [33]\n",
            "[8.0, 12.0] [13]\n",
            "[60.0, 42.0] [22]\n",
            "[10.0, 49.0] [6]\n",
            "[60.0, 71.0] [45]\n",
            "[45.0, 17.0] [32]\n",
            "[67.0, 64.0] [44]\n",
            "[46.0, 59.0] [45]\n",
            "[70.0, 35.0] [36]\n",
            "[12.0, 41.0] [45]\n",
            "[14.0, 31.0] [7]\n",
            "[13.0, 42.0] [27]\n",
            "[7.0, 62.0] [3]\n",
            "[14.0, 48.0] [68]\n"
          ]
        }
      ]
    },
    {
      "cell_type": "markdown",
      "source": [
        "From This Point, we do the following action  \n",
        "\n",
        "*   Change the output of the model from recommendation_model.py to only return ids not score (delete the top scores)\n",
        "*   Manually input SIMPASIconfig_sequential_float.pbtxt for input formatting to google collab to content folder\n",
        "\n"
      ],
      "metadata": {
        "id": "Qo1Va3E5M-ww"
      }
    },
    {
      "cell_type": "code",
      "source": [
        "!python -m model.recommendation_model_launcher \\\n",
        "  --training_data_filepattern \"data/train_resep_float.tfrecord\" \\\n",
        "  --testing_data_filepattern \"data/test_resep.tfrecord\" \\\n",
        "  --model_dir \"model/model_dir\" \\\n",
        "  --export_dir \"model/model_dir/export_m1\" \\\n",
        "  --input_config_file \"/content/SIMPASIconfig_sequential_float.pbtxt\" \\\n",
        "  --batch_size 32 \\\n",
        "  --learning_rate 0.01 \\\n",
        "  --steps_per_epoch 2 \\\n",
        "  --num_epochs 10 \\\n",
        "  --num_eval_steps 2 \\\n",
        "  --run_mode \"train_and_eval\" \\\n",
        "  --gradient_clip_norm 1.0 \\\n",
        "  --num_predictions 10 \\\n",
        "  --hidden_layer_dims \"32,32\" \\\n",
        "  --eval_top_k \"1,5\" \\\n",
        "  --conv_num_filter_ratios \"2,4\" \\\n",
        "  --conv_kernel_size 4 \\\n",
        "  --lstm_num_units 16"
      ],
      "metadata": {
        "colab": {
          "base_uri": "https://localhost:8080/"
        },
        "outputId": "e7074fbd-665b-4d80-80bd-33838648f120",
        "id": "vmNaHvHFbR1v"
      },
      "execution_count": null,
      "outputs": [
        {
          "output_type": "stream",
          "name": "stdout",
          "text": [
            "2022-07-25 09:51:37.903252: E tensorflow/stream_executor/cuda/cuda_driver.cc:271] failed call to cuInit: CUDA_ERROR_NO_DEVICE: no CUDA-capable device is detected\n",
            "INFO:tensorflow:Setting up train and eval input datasets.\n",
            "I0725 09:51:37.908655 140701572315008 app.py:254] Setting up train and eval input datasets.\n",
            "INFO:tensorflow:Build keras model for mode: train_and_eval.\n",
            "I0725 09:51:38.414788 140701572315008 app.py:254] Build keras model for mode: train_and_eval.\n",
            "Epoch 1/10\n",
            "2/2 [==============================] - 5s 1s/step - loss: 4.5796 - Global_Recall/Recall_1: 0.0000e+00 - Global_Recall/Recall_5: 0.0312 - global_mean_rank: 39.9741 - Batch_Recall/Recall_1: 0.0312 - Batch_Recall/Recall_5: 0.1562 - batch_mean_rank: 15.2031 - val_loss: 4.3434 - val_Global_Recall/Recall_1: 0.0781 - val_Global_Recall/Recall_5: 0.0781 - val_global_mean_rank: 31.9077 - val_Batch_Recall/Recall_1: 0.0312 - val_Batch_Recall/Recall_5: 0.1562 - val_batch_mean_rank: 15.5000\n",
            "Epoch 2/10\n",
            "2/2 [==============================] - 0s 234ms/step - loss: 4.3495 - Global_Recall/Recall_1: 0.0000e+00 - Global_Recall/Recall_5: 0.0000e+00 - global_mean_rank: 33.9834 - Batch_Recall/Recall_1: 0.0156 - Batch_Recall/Recall_5: 0.1562 - batch_mean_rank: 16.3125 - val_loss: 4.2975 - val_Global_Recall/Recall_1: 0.0000e+00 - val_Global_Recall/Recall_5: 0.2344 - val_global_mean_rank: 28.3843 - val_Batch_Recall/Recall_1: 0.0312 - val_Batch_Recall/Recall_5: 0.1719 - val_batch_mean_rank: 16.4375\n",
            "Epoch 3/10\n",
            "1/2 [==============>...............] - ETA: 0s - loss: 4.3612 - Global_Recall/Recall_1: 0.0000e+00 - Global_Recall/Recall_5: 0.0625 - global_mean_rank: 39.6797 - Batch_Recall/Recall_1: 0.0312 - Batch_Recall/Recall_5: 0.1875 - batch_mean_rank: 15.8750WARNING:tensorflow:Callback method `on_train_batch_end` is slow compared to the batch time (batch time: 0.0073s vs `on_train_batch_end` time: 0.0115s). Check your callbacks.\n",
            "W0725 09:51:43.963398 140701572315008 callbacks.py:342] Callback method `on_train_batch_end` is slow compared to the batch time (batch time: 0.0073s vs `on_train_batch_end` time: 0.0115s). Check your callbacks.\n",
            "2/2 [==============================] - 0s 343ms/step - loss: 4.3514 - Global_Recall/Recall_1: 0.0000e+00 - Global_Recall/Recall_5: 0.0469 - global_mean_rank: 38.2871 - Batch_Recall/Recall_1: 0.0312 - Batch_Recall/Recall_5: 0.1719 - batch_mean_rank: 14.5156 - val_loss: 4.2961 - val_Global_Recall/Recall_1: 0.0000e+00 - val_Global_Recall/Recall_5: 0.1250 - val_global_mean_rank: 32.0054 - val_Batch_Recall/Recall_1: 0.0000e+00 - val_Batch_Recall/Recall_5: 0.1406 - val_batch_mean_rank: 15.6719\n",
            "Epoch 4/10\n",
            "2/2 [==============================] - 0s 226ms/step - loss: 4.3585 - Global_Recall/Recall_1: 0.0000e+00 - Global_Recall/Recall_5: 0.0312 - global_mean_rank: 38.5894 - Batch_Recall/Recall_1: 0.0312 - Batch_Recall/Recall_5: 0.1406 - batch_mean_rank: 16.0625 - val_loss: 4.3560 - val_Global_Recall/Recall_1: 0.0000e+00 - val_Global_Recall/Recall_5: 0.0625 - val_global_mean_rank: 35.9824 - val_Batch_Recall/Recall_1: 0.0625 - val_Batch_Recall/Recall_5: 0.1875 - val_batch_mean_rank: 13.9688\n",
            "Epoch 5/10\n",
            "2/2 [==============================] - 0s 341ms/step - loss: 4.3571 - Global_Recall/Recall_1: 0.0000e+00 - Global_Recall/Recall_5: 0.0469 - global_mean_rank: 35.6489 - Batch_Recall/Recall_1: 0.0156 - Batch_Recall/Recall_5: 0.1250 - batch_mean_rank: 15.8594 - val_loss: 4.3077 - val_Global_Recall/Recall_1: 0.1094 - val_Global_Recall/Recall_5: 0.1094 - val_global_mean_rank: 34.0596 - val_Batch_Recall/Recall_1: 0.0312 - val_Batch_Recall/Recall_5: 0.1719 - val_batch_mean_rank: 14.9688\n",
            "Epoch 6/10\n",
            "2/2 [==============================] - 0s 232ms/step - loss: 4.3565 - Global_Recall/Recall_1: 0.0000e+00 - Global_Recall/Recall_5: 0.0781 - global_mean_rank: 40.2085 - Batch_Recall/Recall_1: 0.0469 - Batch_Recall/Recall_5: 0.1875 - batch_mean_rank: 14.2969 - val_loss: 4.3136 - val_Global_Recall/Recall_1: 0.0000e+00 - val_Global_Recall/Recall_5: 0.0938 - val_global_mean_rank: 31.1201 - val_Batch_Recall/Recall_1: 0.0312 - val_Batch_Recall/Recall_5: 0.1562 - val_batch_mean_rank: 13.9375\n",
            "Epoch 7/10\n",
            "2/2 [==============================] - 0s 340ms/step - loss: 4.3318 - Global_Recall/Recall_1: 0.0000e+00 - Global_Recall/Recall_5: 0.0781 - global_mean_rank: 40.0527 - Batch_Recall/Recall_1: 0.0625 - Batch_Recall/Recall_5: 0.2344 - batch_mean_rank: 15.2344 - val_loss: 4.3170 - val_Global_Recall/Recall_1: 0.0312 - val_Global_Recall/Recall_5: 0.1094 - val_global_mean_rank: 32.9692 - val_Batch_Recall/Recall_1: 0.0625 - val_Batch_Recall/Recall_5: 0.2656 - val_batch_mean_rank: 11.5312\n",
            "Epoch 8/10\n",
            "2/2 [==============================] - 0s 342ms/step - loss: 4.3357 - Global_Recall/Recall_1: 0.0000e+00 - Global_Recall/Recall_5: 0.0312 - global_mean_rank: 35.9854 - Batch_Recall/Recall_1: 0.0156 - Batch_Recall/Recall_5: 0.1719 - batch_mean_rank: 15.0156 - val_loss: 4.3061 - val_Global_Recall/Recall_1: 0.0000e+00 - val_Global_Recall/Recall_5: 0.1406 - val_global_mean_rank: 33.8252 - val_Batch_Recall/Recall_1: 0.0469 - val_Batch_Recall/Recall_5: 0.2656 - val_batch_mean_rank: 9.3125\n",
            "Epoch 9/10\n",
            "2/2 [==============================] - 0s 343ms/step - loss: 4.3564 - Global_Recall/Recall_1: 0.0000e+00 - Global_Recall/Recall_5: 0.0156 - global_mean_rank: 37.2354 - Batch_Recall/Recall_1: 0.0312 - Batch_Recall/Recall_5: 0.1250 - batch_mean_rank: 17.4688 - val_loss: 4.3450 - val_Global_Recall/Recall_1: 0.0781 - val_Global_Recall/Recall_5: 0.0781 - val_global_mean_rank: 35.9258 - val_Batch_Recall/Recall_1: 0.0625 - val_Batch_Recall/Recall_5: 0.1719 - val_batch_mean_rank: 14.5156\n",
            "Epoch 10/10\n",
            "2/2 [==============================] - 0s 344ms/step - loss: 4.3348 - Global_Recall/Recall_1: 0.0000e+00 - Global_Recall/Recall_5: 0.0469 - global_mean_rank: 34.3613 - Batch_Recall/Recall_1: 0.0000e+00 - Batch_Recall/Recall_5: 0.1562 - batch_mean_rank: 15.0625 - val_loss: 4.3044 - val_Global_Recall/Recall_1: 0.1406 - val_Global_Recall/Recall_5: 0.1406 - val_global_mean_rank: 31.0869 - val_Batch_Recall/Recall_1: 0.0625 - val_Batch_Recall/Recall_5: 0.2344 - val_batch_mean_rank: 13.1719\n",
            "INFO:tensorflow:<keras.callbacks.History object at 0x7ff726057790>\n",
            "I0725 09:51:47.300125 140701572315008 app.py:254] <keras.callbacks.History object at 0x7ff726057790>\n",
            "INFO:tensorflow:Exporting model to dir: model/model_dir/export_m1\n",
            "I0725 09:51:47.302510 140701572315008 app.py:254] Exporting model to dir: model/model_dir/export_m1\n",
            "WARNING:tensorflow:Skipping full serialization of Keras layer <model.recommendation_model.RecommendationModel object at 0x7ff725fb7b10>, because it is not built.\n",
            "W0725 09:51:47.593047 140701572315008 save_impl.py:72] Skipping full serialization of Keras layer <model.recommendation_model.RecommendationModel object at 0x7ff725fb7b10>, because it is not built.\n",
            "WARNING:tensorflow:Skipping full serialization of Keras layer <model.label_encoder.LabelEncoder object at 0x7ff724298c90>, because it is not built.\n",
            "W0725 09:51:47.685333 140701572315008 save_impl.py:72] Skipping full serialization of Keras layer <model.label_encoder.LabelEncoder object at 0x7ff724298c90>, because it is not built.\n",
            "W0725 09:51:47.727623 140701572315008 save.py:238] Found untraced functions such as context_encoder_1_layer_call_fn, context_encoder_1_layer_call_and_return_conditional_losses, dot_product_similarity_1_layer_call_fn, dot_product_similarity_1_layer_call_and_return_conditional_losses, resep_label_idembedding_layer_layer_call_fn while saving (showing 5 of 20). These functions will not be directly callable after loading.\n",
            "INFO:tensorflow:Assets written to: model/model_dir/export_m1/assets\n",
            "I0725 09:51:47.889946 140701572315008 builder_impl.py:780] Assets written to: model/model_dir/export_m1/assets\n",
            "WARNING:tensorflow:Detecting that an object or model or tf.train.Checkpoint is being deleted with unrestored values. See the following logs for the specific values in question. To silence these warnings, use `status.expect_partial()`. See https://www.tensorflow.org/api_docs/python/tf/train/Checkpoint#restorefor details about the status object returned by the restore function.\n",
            "W0725 09:51:47.905797 140701572315008 util.py:200] Detecting that an object or model or tf.train.Checkpoint is being deleted with unrestored values. See the following logs for the specific values in question. To silence these warnings, use `status.expect_partial()`. See https://www.tensorflow.org/api_docs/python/tf/train/Checkpoint#restorefor details about the status object returned by the restore function.\n",
            "WARNING:tensorflow:Value in checkpoint could not be found in the restored object: (root).optimizer.iter\n",
            "W0725 09:51:47.906082 140701572315008 util.py:209] Value in checkpoint could not be found in the restored object: (root).optimizer.iter\n",
            "WARNING:tensorflow:Value in checkpoint could not be found in the restored object: (root).optimizer.decay\n",
            "W0725 09:51:47.906189 140701572315008 util.py:209] Value in checkpoint could not be found in the restored object: (root).optimizer.decay\n",
            "WARNING:tensorflow:Value in checkpoint could not be found in the restored object: (root).optimizer.learning_rate\n",
            "W0725 09:51:47.906267 140701572315008 util.py:209] Value in checkpoint could not be found in the restored object: (root).optimizer.learning_rate\n",
            "WARNING:tensorflow:Value in checkpoint could not be found in the restored object: (root).optimizer's state 'accumulator' for (root).model._label_encoder._label_embedding_layer.embeddings\n",
            "W0725 09:51:47.906339 140701572315008 util.py:209] Value in checkpoint could not be found in the restored object: (root).optimizer's state 'accumulator' for (root).model._label_encoder._label_embedding_layer.embeddings\n",
            "WARNING:tensorflow:Value in checkpoint could not be found in the restored object: (root).optimizer's state 'accumulator' for (root).model._context_encoder._hidden_layers.0.kernel\n",
            "W0725 09:51:47.906411 140701572315008 util.py:209] Value in checkpoint could not be found in the restored object: (root).optimizer's state 'accumulator' for (root).model._context_encoder._hidden_layers.0.kernel\n",
            "WARNING:tensorflow:Value in checkpoint could not be found in the restored object: (root).optimizer's state 'accumulator' for (root).model._context_encoder._hidden_layers.0.bias\n",
            "W0725 09:51:47.906479 140701572315008 util.py:209] Value in checkpoint could not be found in the restored object: (root).optimizer's state 'accumulator' for (root).model._context_encoder._hidden_layers.0.bias\n",
            "WARNING:tensorflow:Value in checkpoint could not be found in the restored object: (root).optimizer's state 'accumulator' for (root).model._context_encoder._hidden_layers.1.kernel\n",
            "W0725 09:51:47.906547 140701572315008 util.py:209] Value in checkpoint could not be found in the restored object: (root).optimizer's state 'accumulator' for (root).model._context_encoder._hidden_layers.1.kernel\n",
            "WARNING:tensorflow:Value in checkpoint could not be found in the restored object: (root).optimizer's state 'accumulator' for (root).model._context_encoder._hidden_layers.1.bias\n",
            "W0725 09:51:47.906663 140701572315008 util.py:209] Value in checkpoint could not be found in the restored object: (root).optimizer's state 'accumulator' for (root).model._context_encoder._hidden_layers.1.bias\n",
            "WARNING:tensorflow:Value in checkpoint could not be found in the restored object: (root).optimizer's state 'accumulator' for (root).model._context_encoder._hidden_layers.2.kernel\n",
            "W0725 09:51:47.906751 140701572315008 util.py:209] Value in checkpoint could not be found in the restored object: (root).optimizer's state 'accumulator' for (root).model._context_encoder._hidden_layers.2.kernel\n",
            "WARNING:tensorflow:Value in checkpoint could not be found in the restored object: (root).optimizer's state 'accumulator' for (root).model._context_encoder._hidden_layers.2.bias\n",
            "W0725 09:51:47.906826 140701572315008 util.py:209] Value in checkpoint could not be found in the restored object: (root).optimizer's state 'accumulator' for (root).model._context_encoder._hidden_layers.2.bias\n",
            "WARNING:tensorflow:Value in checkpoint could not be found in the restored object: (root).optimizer's state 'accumulator' for (root).model._context_encoder._feature_group_encoders.0._conv1d_layers.0.kernel\n",
            "W0725 09:51:47.906894 140701572315008 util.py:209] Value in checkpoint could not be found in the restored object: (root).optimizer's state 'accumulator' for (root).model._context_encoder._feature_group_encoders.0._conv1d_layers.0.kernel\n",
            "WARNING:tensorflow:Value in checkpoint could not be found in the restored object: (root).optimizer's state 'accumulator' for (root).model._context_encoder._feature_group_encoders.0._conv1d_layers.0.bias\n",
            "W0725 09:51:47.906965 140701572315008 util.py:209] Value in checkpoint could not be found in the restored object: (root).optimizer's state 'accumulator' for (root).model._context_encoder._feature_group_encoders.0._conv1d_layers.0.bias\n",
            "WARNING:tensorflow:Value in checkpoint could not be found in the restored object: (root).optimizer's state 'accumulator' for (root).model._context_encoder._feature_group_encoders.0._conv1d_layers.1.kernel\n",
            "W0725 09:51:47.907047 140701572315008 util.py:209] Value in checkpoint could not be found in the restored object: (root).optimizer's state 'accumulator' for (root).model._context_encoder._feature_group_encoders.0._conv1d_layers.1.kernel\n",
            "WARNING:tensorflow:Value in checkpoint could not be found in the restored object: (root).optimizer's state 'accumulator' for (root).model._context_encoder._feature_group_encoders.0._conv1d_layers.1.bias\n",
            "W0725 09:51:47.907293 140701572315008 util.py:209] Value in checkpoint could not be found in the restored object: (root).optimizer's state 'accumulator' for (root).model._context_encoder._feature_group_encoders.0._conv1d_layers.1.bias\n",
            "INFO:tensorflow:Converting model to tflite model.\n",
            "I0725 09:51:47.908254 140701572315008 app.py:254] Converting model to tflite model.\n",
            "2022-07-25 09:51:48.070170: W tensorflow/compiler/mlir/lite/python/tf_tfl_flatbuffer_helpers.cc:362] Ignored output_format.\n",
            "2022-07-25 09:51:48.070241: W tensorflow/compiler/mlir/lite/python/tf_tfl_flatbuffer_helpers.cc:365] Ignored drop_control_dependency.\n",
            "Estimated count of arithmetic ops: 0.011 M  ops, equivalently 0.005 M  MACs\n"
          ]
        }
      ]
    },
    {
      "cell_type": "code",
      "source": [
        "!python -m model.recommendation_model_launcher \\\n",
        "  --training_data_filepattern \"data/train_resep_float.tfrecord\" \\\n",
        "  --testing_data_filepattern \"data/test_resep.tfrecord\" \\\n",
        "  --input_config_file \"/content/SIMPASIconfig_sequential_float.pbtxt\" \\\n",
        "  --model_dir \"model/model_dir\" \\\n",
        "  --export_dir \"model/model_dir/export_m2\" \\\n",
        "  --vocab_dir \"data/examples\" \\\n",
        "  --run_mode \"export\" \\\n",
        "  --checkpoint_path \"model/model_dir/ckpt-4\" \\\n",
        "  --num_predictions 10 \\\n",
        "  --hidden_layer_dims \"32,32\" \\\n",
        "  --eval_top_k \"1,5\" \\\n",
        "  --conv_num_filter_ratios \"2,4\" \\\n",
        "  --conv_kernel_size 4 \\\n",
        "  --lstm_num_units 16"
      ],
      "metadata": {
        "colab": {
          "base_uri": "https://localhost:8080/"
        },
        "id": "A9-xBFaukzPg",
        "outputId": "26ddf6bc-b233-4ada-a1df-acf316669694"
      },
      "execution_count": null,
      "outputs": [
        {
          "output_type": "stream",
          "name": "stdout",
          "text": [
            "2022-07-25 09:51:52.784248: E tensorflow/stream_executor/cuda/cuda_driver.cc:271] failed call to cuInit: CUDA_ERROR_NO_DEVICE: no CUDA-capable device is detected\n",
            "INFO:tensorflow:Setting up train and eval input datasets.\n",
            "I0725 09:51:52.786045 140288833222528 app.py:254] Setting up train and eval input datasets.\n",
            "INFO:tensorflow:Build keras model for mode: export.\n",
            "I0725 09:51:53.114408 140288833222528 app.py:254] Build keras model for mode: export.\n",
            "INFO:tensorflow:Exporting model to dir: model/model_dir/export_m2\n",
            "I0725 09:51:53.157714 140288833222528 app.py:254] Exporting model to dir: model/model_dir/export_m2\n",
            "WARNING:tensorflow:Skipping full serialization of Keras layer <model.recommendation_model.RecommendationModel object at 0x7f970cd05690>, because it is not built.\n",
            "W0725 09:51:54.163441 140288833222528 save_impl.py:72] Skipping full serialization of Keras layer <model.recommendation_model.RecommendationModel object at 0x7f970cd05690>, because it is not built.\n",
            "WARNING:tensorflow:Skipping full serialization of Keras layer <model.label_encoder.LabelEncoder object at 0x7f970cd6d990>, because it is not built.\n",
            "W0725 09:51:54.251518 140288833222528 save_impl.py:72] Skipping full serialization of Keras layer <model.label_encoder.LabelEncoder object at 0x7f970cd6d990>, because it is not built.\n",
            "W0725 09:51:54.291821 140288833222528 save.py:238] Found untraced functions such as context_encoder_1_layer_call_fn, context_encoder_1_layer_call_and_return_conditional_losses, dot_product_similarity_1_layer_call_fn, dot_product_similarity_1_layer_call_and_return_conditional_losses, resep_label_idembedding_layer_layer_call_fn while saving (showing 5 of 20). These functions will not be directly callable after loading.\n",
            "INFO:tensorflow:Assets written to: model/model_dir/export_m2/assets\n",
            "I0725 09:51:54.444290 140288833222528 builder_impl.py:780] Assets written to: model/model_dir/export_m2/assets\n",
            "WARNING:tensorflow:Detecting that an object or model or tf.train.Checkpoint is being deleted with unrestored values. See the following logs for the specific values in question. To silence these warnings, use `status.expect_partial()`. See https://www.tensorflow.org/api_docs/python/tf/train/Checkpoint#restorefor details about the status object returned by the restore function.\n",
            "W0725 09:51:54.454998 140288833222528 util.py:200] Detecting that an object or model or tf.train.Checkpoint is being deleted with unrestored values. See the following logs for the specific values in question. To silence these warnings, use `status.expect_partial()`. See https://www.tensorflow.org/api_docs/python/tf/train/Checkpoint#restorefor details about the status object returned by the restore function.\n",
            "WARNING:tensorflow:Value in checkpoint could not be found in the restored object: (root).optimizer.iter\n",
            "W0725 09:51:54.455243 140288833222528 util.py:209] Value in checkpoint could not be found in the restored object: (root).optimizer.iter\n",
            "WARNING:tensorflow:Value in checkpoint could not be found in the restored object: (root).optimizer.decay\n",
            "W0725 09:51:54.455373 140288833222528 util.py:209] Value in checkpoint could not be found in the restored object: (root).optimizer.decay\n",
            "WARNING:tensorflow:Value in checkpoint could not be found in the restored object: (root).optimizer.learning_rate\n",
            "W0725 09:51:54.455455 140288833222528 util.py:209] Value in checkpoint could not be found in the restored object: (root).optimizer.learning_rate\n",
            "WARNING:tensorflow:Value in checkpoint could not be found in the restored object: (root).optimizer's state 'accumulator' for (root).model._label_encoder._label_embedding_layer.embeddings\n",
            "W0725 09:51:54.455535 140288833222528 util.py:209] Value in checkpoint could not be found in the restored object: (root).optimizer's state 'accumulator' for (root).model._label_encoder._label_embedding_layer.embeddings\n",
            "WARNING:tensorflow:Value in checkpoint could not be found in the restored object: (root).optimizer's state 'accumulator' for (root).model._context_encoder._hidden_layers.0.kernel\n",
            "W0725 09:51:54.455632 140288833222528 util.py:209] Value in checkpoint could not be found in the restored object: (root).optimizer's state 'accumulator' for (root).model._context_encoder._hidden_layers.0.kernel\n",
            "WARNING:tensorflow:Value in checkpoint could not be found in the restored object: (root).optimizer's state 'accumulator' for (root).model._context_encoder._hidden_layers.0.bias\n",
            "W0725 09:51:54.455705 140288833222528 util.py:209] Value in checkpoint could not be found in the restored object: (root).optimizer's state 'accumulator' for (root).model._context_encoder._hidden_layers.0.bias\n",
            "WARNING:tensorflow:Value in checkpoint could not be found in the restored object: (root).optimizer's state 'accumulator' for (root).model._context_encoder._hidden_layers.1.kernel\n",
            "W0725 09:51:54.455773 140288833222528 util.py:209] Value in checkpoint could not be found in the restored object: (root).optimizer's state 'accumulator' for (root).model._context_encoder._hidden_layers.1.kernel\n",
            "WARNING:tensorflow:Value in checkpoint could not be found in the restored object: (root).optimizer's state 'accumulator' for (root).model._context_encoder._hidden_layers.1.bias\n",
            "W0725 09:51:54.455840 140288833222528 util.py:209] Value in checkpoint could not be found in the restored object: (root).optimizer's state 'accumulator' for (root).model._context_encoder._hidden_layers.1.bias\n",
            "WARNING:tensorflow:Value in checkpoint could not be found in the restored object: (root).optimizer's state 'accumulator' for (root).model._context_encoder._hidden_layers.2.kernel\n",
            "W0725 09:51:54.455921 140288833222528 util.py:209] Value in checkpoint could not be found in the restored object: (root).optimizer's state 'accumulator' for (root).model._context_encoder._hidden_layers.2.kernel\n",
            "WARNING:tensorflow:Value in checkpoint could not be found in the restored object: (root).optimizer's state 'accumulator' for (root).model._context_encoder._hidden_layers.2.bias\n",
            "W0725 09:51:54.455988 140288833222528 util.py:209] Value in checkpoint could not be found in the restored object: (root).optimizer's state 'accumulator' for (root).model._context_encoder._hidden_layers.2.bias\n",
            "WARNING:tensorflow:Value in checkpoint could not be found in the restored object: (root).optimizer's state 'accumulator' for (root).model._context_encoder._feature_group_encoders.0._conv1d_layers.0.kernel\n",
            "W0725 09:51:54.456056 140288833222528 util.py:209] Value in checkpoint could not be found in the restored object: (root).optimizer's state 'accumulator' for (root).model._context_encoder._feature_group_encoders.0._conv1d_layers.0.kernel\n",
            "WARNING:tensorflow:Value in checkpoint could not be found in the restored object: (root).optimizer's state 'accumulator' for (root).model._context_encoder._feature_group_encoders.0._conv1d_layers.0.bias\n",
            "W0725 09:51:54.456125 140288833222528 util.py:209] Value in checkpoint could not be found in the restored object: (root).optimizer's state 'accumulator' for (root).model._context_encoder._feature_group_encoders.0._conv1d_layers.0.bias\n",
            "WARNING:tensorflow:Value in checkpoint could not be found in the restored object: (root).optimizer's state 'accumulator' for (root).model._context_encoder._feature_group_encoders.0._conv1d_layers.1.kernel\n",
            "W0725 09:51:54.456192 140288833222528 util.py:209] Value in checkpoint could not be found in the restored object: (root).optimizer's state 'accumulator' for (root).model._context_encoder._feature_group_encoders.0._conv1d_layers.1.kernel\n",
            "WARNING:tensorflow:Value in checkpoint could not be found in the restored object: (root).optimizer's state 'accumulator' for (root).model._context_encoder._feature_group_encoders.0._conv1d_layers.1.bias\n",
            "W0725 09:51:54.456259 140288833222528 util.py:209] Value in checkpoint could not be found in the restored object: (root).optimizer's state 'accumulator' for (root).model._context_encoder._feature_group_encoders.0._conv1d_layers.1.bias\n",
            "INFO:tensorflow:Converting model to tflite model.\n",
            "I0725 09:51:54.457231 140288833222528 app.py:254] Converting model to tflite model.\n",
            "2022-07-25 09:51:54.612057: W tensorflow/compiler/mlir/lite/python/tf_tfl_flatbuffer_helpers.cc:362] Ignored output_format.\n",
            "2022-07-25 09:51:54.612131: W tensorflow/compiler/mlir/lite/python/tf_tfl_flatbuffer_helpers.cc:365] Ignored drop_control_dependency.\n",
            "Estimated count of arithmetic ops: 0.011 M  ops, equivalently 0.005 M  MACs\n"
          ]
        }
      ]
    },
    {
      "cell_type": "code",
      "source": [
        "import os\n",
        "import tensorflow as tf\n",
        "\n",
        "# Use [0, 1, ... 9] as example input to represent 10 movies that user interacted with.\n",
        "# Path to exported TensorFlow Lite model.\n",
        "tflite_model_path = \"/content/examples/lite/examples/recommendation/ml/model/model_dir/export_m2/model.tflite\" #@param {type:\"string\"}\n",
        "\n",
        "# Create TFLite interpreter.\n",
        "interpreter = tf.lite.Interpreter(tflite_model_path)\n",
        "interpreter.allocate_tensors()\n",
        "input_details = interpreter.get_input_details()\n",
        "output_details = interpreter.get_output_details()\n",
        "print('Display inputs and outputs:')\n",
        "print(input_details)\n",
        "print(output_details)"
      ],
      "metadata": {
        "colab": {
          "base_uri": "https://localhost:8080/"
        },
        "outputId": "624d1631-f904-4430-8c93-ed85ce40d9fd",
        "id": "6VvO2uzcbR1v"
      },
      "execution_count": null,
      "outputs": [
        {
          "output_type": "stream",
          "name": "stdout",
          "text": [
            "Display inputs and outputs:\n",
            "[{'name': 'serving_default_resep_context_id:0', 'index': 0, 'shape': array([2], dtype=int32), 'shape_signature': array([2], dtype=int32), 'dtype': <class 'numpy.float32'>, 'quantization': (0.0, 0), 'quantization_parameters': {'scales': array([], dtype=float32), 'zero_points': array([], dtype=int32), 'quantized_dimension': 0}, 'sparsity_parameters': {}}]\n",
            "[{'name': 'StatefulPartitionedCall:1', 'index': 29, 'shape': array([10], dtype=int32), 'shape_signature': array([10], dtype=int32), 'dtype': <class 'numpy.float32'>, 'quantization': (0.0, 0), 'quantization_parameters': {'scales': array([], dtype=float32), 'zero_points': array([], dtype=int32), 'quantized_dimension': 0}, 'sparsity_parameters': {}}, {'name': 'StatefulPartitionedCall:0', 'index': 28, 'shape': array([10], dtype=int32), 'shape_signature': array([10], dtype=int32), 'dtype': <class 'numpy.int32'>, 'quantization': (0.0, 0), 'quantization_parameters': {'scales': array([], dtype=float32), 'zero_points': array([], dtype=int32), 'quantized_dimension': 0}, 'sparsity_parameters': {}}]\n"
          ]
        }
      ]
    },
    {
      "cell_type": "code",
      "source": [
        "# Find indices.\n",
        "names = [\n",
        "  'serving_default_resep_context_id:0',\n",
        "]\n",
        "indices = {i['name']: i['index'] for i in input_details}\n",
        "\n",
        "# Fake inputs for illustration. Please change to the real data.\n",
        "# Use [0, 1, ... 9] to represent 2 recipes that user interacted with.\n",
        "ids = tf.range(2, dtype=float)\n",
        "print(ids)\n",
        "interpreter.set_tensor(indices[names[0]], ids)\n",
        "\n",
        "# Run inference.\n",
        "interpreter.invoke()\n",
        "\n",
        "# Get outputs.\n",
        "top_prediction_score = interpreter.get_tensor(output_details[0]['index'])\n",
        "top_prediction_ids = interpreter.get_tensor(output_details[1]['index'])\n",
        "print('Predicted results:')\n",
        "print('Top scores: {}'.format(top_prediction_score))\n",
        "print('Top ids: {}'.format(top_prediction_ids))\n",
        "\n",
        "print('{} input(s):'.format(len(input_details)))\n",
        "for i in range(0, len(input_details)):\n",
        "    print('{} {}'.format(input_details[i]['shape'], input_details[i]['dtype']))\n",
        "\n",
        "# Print output shape and type\n",
        "print('\\n{} output(s):'.format(len(output_details)))\n",
        "for i in range(0, len(output_details)):\n",
        "    print('{} {}'.format(output_details[i]['shape'], output_details[i]['dtype']))"
      ],
      "metadata": {
        "colab": {
          "base_uri": "https://localhost:8080/"
        },
        "outputId": "1e175a21-8134-464c-ffe8-eb5f37acf858",
        "id": "BkRaCwzybR1w"
      },
      "execution_count": null,
      "outputs": [
        {
          "output_type": "stream",
          "name": "stdout",
          "text": [
            "tf.Tensor([0. 1.], shape=(2,), dtype=float32)\n",
            "Predicted results:\n",
            "Top scores: [0.5016076  0.5014057  0.5013762  0.50134206 0.5012363  0.5011871\n",
            " 0.501009   0.50096107 0.5009159  0.5008997 ]\n",
            "Top ids: [10 48 23 70 46 58 68 42 33 76]\n",
            "1 input(s):\n",
            "[2] <class 'numpy.float32'>\n",
            "\n",
            "2 output(s):\n",
            "[10] <class 'numpy.float32'>\n",
            "[10] <class 'numpy.int32'>\n"
          ]
        }
      ]
    },
    {
      "cell_type": "code",
      "source": [
        "#List Id rekomendasi resep\n",
        "id_rekomendasi = []\n",
        "\n",
        "for i in range(0, len(top_prediction_ids)):\n",
        "    id_rekomendasi.append(top_prediction_ids[i])\n",
        "\n",
        "print(id_rekomendasi)"
      ],
      "metadata": {
        "colab": {
          "base_uri": "https://localhost:8080/"
        },
        "outputId": "47e2751f-778b-4fcd-f45f-6bbb7acfccae",
        "id": "fo3Ipi6DbR1w"
      },
      "execution_count": null,
      "outputs": [
        {
          "output_type": "stream",
          "name": "stdout",
          "text": [
            "[10, 48, 23, 70, 46, 58, 68, 42, 33, 76]\n"
          ]
        }
      ]
    },
    {
      "cell_type": "code",
      "source": [
        "#list nama rekolmendasi resep\n",
        "nama_rekomendasi = []\n",
        "\n",
        "for id in id_rekomendasi:\n",
        "  index_x = komposisi_resep_pd.index[komposisi_resep_pd[\"id_resep\"] == x].tolist()\n",
        "  result = komposisi_resep_pd.loc[index_x, [\"nama_resep\"]]\n",
        "  nama_rekomendasi.append(result.nama_resep.values[0])\n",
        "\n",
        "print(nama_rekomendasi[:5])\n"
      ],
      "metadata": {
        "colab": {
          "base_uri": "https://localhost:8080/"
        },
        "id": "joyLRNCmxhTf",
        "outputId": "e380464e-85ab-44ec-8381-1481dad33a4c"
      },
      "execution_count": null,
      "outputs": [
        {
          "output_type": "stream",
          "name": "stdout",
          "text": [
            "['Bubur Ayam Talas Keju', 'Jus Alpukat Jeruk', 'Bubur Labu Brokoli', 'Pure Ubi Kuning dan Beras Merah', 'Daging Ungkep', 'Pancake Labu', 'Pure Tiga Rasa', 'Bubur Tomat Kacang Merah', 'Bubur Plum', 'Tim Saring']\n"
          ]
        }
      ]
    },
    {
      "cell_type": "markdown",
      "source": [
        "## Corat-Coret"
      ],
      "metadata": {
        "id": "NYqdwAXhOAGO"
      }
    },
    {
      "cell_type": "code",
      "source": [
        "rekomendasi_df = pd.Dataframe"
      ],
      "metadata": {
        "colab": {
          "base_uri": "https://localhost:8080/",
          "height": 301
        },
        "id": "ZvszvPpN9YMl",
        "outputId": "f7a642bd-fa03-407e-8481-1f4ffd62ad80"
      },
      "execution_count": null,
      "outputs": [
        {
          "output_type": "error",
          "ename": "AttributeError",
          "evalue": "ignored",
          "traceback": [
            "\u001b[0;31m---------------------------------------------------------------------------\u001b[0m",
            "\u001b[0;31mAttributeError\u001b[0m                            Traceback (most recent call last)",
            "\u001b[0;32m<ipython-input-29-d1cf5d9692f1>\u001b[0m in \u001b[0;36m<module>\u001b[0;34m()\u001b[0m\n\u001b[0;32m----> 1\u001b[0;31m \u001b[0mrekomendasi_df\u001b[0m \u001b[0;34m=\u001b[0m \u001b[0mpd\u001b[0m\u001b[0;34m.\u001b[0m\u001b[0mDataframe\u001b[0m\u001b[0;34m\u001b[0m\u001b[0;34m\u001b[0m\u001b[0m\n\u001b[0m",
            "\u001b[0;32m/usr/local/lib/python3.7/dist-packages/pandas/__init__.py\u001b[0m in \u001b[0;36m__getattr__\u001b[0;34m(name)\u001b[0m\n\u001b[1;32m    242\u001b[0m         \u001b[0;32mreturn\u001b[0m \u001b[0m_SparseArray\u001b[0m\u001b[0;34m\u001b[0m\u001b[0;34m\u001b[0m\u001b[0m\n\u001b[1;32m    243\u001b[0m \u001b[0;34m\u001b[0m\u001b[0m\n\u001b[0;32m--> 244\u001b[0;31m     \u001b[0;32mraise\u001b[0m \u001b[0mAttributeError\u001b[0m\u001b[0;34m(\u001b[0m\u001b[0;34mf\"module 'pandas' has no attribute '{name}'\"\u001b[0m\u001b[0;34m)\u001b[0m\u001b[0;34m\u001b[0m\u001b[0;34m\u001b[0m\u001b[0m\n\u001b[0m\u001b[1;32m    245\u001b[0m \u001b[0;34m\u001b[0m\u001b[0m\n\u001b[1;32m    246\u001b[0m \u001b[0;34m\u001b[0m\u001b[0m\n",
            "\u001b[0;31mAttributeError\u001b[0m: module 'pandas' has no attribute 'Dataframe'"
          ]
        }
      ]
    },
    {
      "cell_type": "code",
      "execution_count": null,
      "metadata": {
        "id": "3V3eKsWEzSoL"
      },
      "outputs": [],
      "source": [
        "df = pd.read_csv(feedback_dir)\n",
        "feedback_slices = tf.data.Dataset.from_tensor_slices(dict(df))"
      ]
    },
    {
      "cell_type": "code",
      "source": [
        "df.head()"
      ],
      "metadata": {
        "colab": {
          "base_uri": "https://localhost:8080/",
          "height": 206
        },
        "id": "knZWslr8DW5f",
        "outputId": "77fd1801-7a72-45f5-8989-ec29ed4b9330"
      },
      "execution_count": null,
      "outputs": [
        {
          "output_type": "execute_result",
          "data": {
            "text/plain": [
              "   id_feedback  user_id  id_resep  nilai_feedback        hari  keterangan  \\\n",
              "0            1        1        29               1  2019-11-25  tidak_suka   \n",
              "1            2        1        71               0  2019-11-25      alergi   \n",
              "2            3       35       138               4  2019-11-29        suka   \n",
              "3            4       35        20               1  2019-11-29        suka   \n",
              "4            5       35        91               1  2019-11-29        suka   \n",
              "\n",
              "   jumlah_feedback               nama_resep  rating  \n",
              "0                2     Bubur Buah dan Sayur       2  \n",
              "1                1  Bubur Tempe Beras Merah       3  \n",
              "2                4            Brokoli Rebus       0  \n",
              "3                1            Bubur Apricot       0  \n",
              "4                1    Yoghurt Buah Smoothie       0  "
            ],
            "text/html": [
              "\n",
              "  <div id=\"df-e687ea6c-e819-4692-b804-8917f846e83e\">\n",
              "    <div class=\"colab-df-container\">\n",
              "      <div>\n",
              "<style scoped>\n",
              "    .dataframe tbody tr th:only-of-type {\n",
              "        vertical-align: middle;\n",
              "    }\n",
              "\n",
              "    .dataframe tbody tr th {\n",
              "        vertical-align: top;\n",
              "    }\n",
              "\n",
              "    .dataframe thead th {\n",
              "        text-align: right;\n",
              "    }\n",
              "</style>\n",
              "<table border=\"1\" class=\"dataframe\">\n",
              "  <thead>\n",
              "    <tr style=\"text-align: right;\">\n",
              "      <th></th>\n",
              "      <th>id_feedback</th>\n",
              "      <th>user_id</th>\n",
              "      <th>id_resep</th>\n",
              "      <th>nilai_feedback</th>\n",
              "      <th>hari</th>\n",
              "      <th>keterangan</th>\n",
              "      <th>jumlah_feedback</th>\n",
              "      <th>nama_resep</th>\n",
              "      <th>rating</th>\n",
              "    </tr>\n",
              "  </thead>\n",
              "  <tbody>\n",
              "    <tr>\n",
              "      <th>0</th>\n",
              "      <td>1</td>\n",
              "      <td>1</td>\n",
              "      <td>29</td>\n",
              "      <td>1</td>\n",
              "      <td>2019-11-25</td>\n",
              "      <td>tidak_suka</td>\n",
              "      <td>2</td>\n",
              "      <td>Bubur Buah dan Sayur</td>\n",
              "      <td>2</td>\n",
              "    </tr>\n",
              "    <tr>\n",
              "      <th>1</th>\n",
              "      <td>2</td>\n",
              "      <td>1</td>\n",
              "      <td>71</td>\n",
              "      <td>0</td>\n",
              "      <td>2019-11-25</td>\n",
              "      <td>alergi</td>\n",
              "      <td>1</td>\n",
              "      <td>Bubur Tempe Beras Merah</td>\n",
              "      <td>3</td>\n",
              "    </tr>\n",
              "    <tr>\n",
              "      <th>2</th>\n",
              "      <td>3</td>\n",
              "      <td>35</td>\n",
              "      <td>138</td>\n",
              "      <td>4</td>\n",
              "      <td>2019-11-29</td>\n",
              "      <td>suka</td>\n",
              "      <td>4</td>\n",
              "      <td>Brokoli Rebus</td>\n",
              "      <td>0</td>\n",
              "    </tr>\n",
              "    <tr>\n",
              "      <th>3</th>\n",
              "      <td>4</td>\n",
              "      <td>35</td>\n",
              "      <td>20</td>\n",
              "      <td>1</td>\n",
              "      <td>2019-11-29</td>\n",
              "      <td>suka</td>\n",
              "      <td>1</td>\n",
              "      <td>Bubur Apricot</td>\n",
              "      <td>0</td>\n",
              "    </tr>\n",
              "    <tr>\n",
              "      <th>4</th>\n",
              "      <td>5</td>\n",
              "      <td>35</td>\n",
              "      <td>91</td>\n",
              "      <td>1</td>\n",
              "      <td>2019-11-29</td>\n",
              "      <td>suka</td>\n",
              "      <td>1</td>\n",
              "      <td>Yoghurt Buah Smoothie</td>\n",
              "      <td>0</td>\n",
              "    </tr>\n",
              "  </tbody>\n",
              "</table>\n",
              "</div>\n",
              "      <button class=\"colab-df-convert\" onclick=\"convertToInteractive('df-e687ea6c-e819-4692-b804-8917f846e83e')\"\n",
              "              title=\"Convert this dataframe to an interactive table.\"\n",
              "              style=\"display:none;\">\n",
              "        \n",
              "  <svg xmlns=\"http://www.w3.org/2000/svg\" height=\"24px\"viewBox=\"0 0 24 24\"\n",
              "       width=\"24px\">\n",
              "    <path d=\"M0 0h24v24H0V0z\" fill=\"none\"/>\n",
              "    <path d=\"M18.56 5.44l.94 2.06.94-2.06 2.06-.94-2.06-.94-.94-2.06-.94 2.06-2.06.94zm-11 1L8.5 8.5l.94-2.06 2.06-.94-2.06-.94L8.5 2.5l-.94 2.06-2.06.94zm10 10l.94 2.06.94-2.06 2.06-.94-2.06-.94-.94-2.06-.94 2.06-2.06.94z\"/><path d=\"M17.41 7.96l-1.37-1.37c-.4-.4-.92-.59-1.43-.59-.52 0-1.04.2-1.43.59L10.3 9.45l-7.72 7.72c-.78.78-.78 2.05 0 2.83L4 21.41c.39.39.9.59 1.41.59.51 0 1.02-.2 1.41-.59l7.78-7.78 2.81-2.81c.8-.78.8-2.07 0-2.86zM5.41 20L4 18.59l7.72-7.72 1.47 1.35L5.41 20z\"/>\n",
              "  </svg>\n",
              "      </button>\n",
              "      \n",
              "  <style>\n",
              "    .colab-df-container {\n",
              "      display:flex;\n",
              "      flex-wrap:wrap;\n",
              "      gap: 12px;\n",
              "    }\n",
              "\n",
              "    .colab-df-convert {\n",
              "      background-color: #E8F0FE;\n",
              "      border: none;\n",
              "      border-radius: 50%;\n",
              "      cursor: pointer;\n",
              "      display: none;\n",
              "      fill: #1967D2;\n",
              "      height: 32px;\n",
              "      padding: 0 0 0 0;\n",
              "      width: 32px;\n",
              "    }\n",
              "\n",
              "    .colab-df-convert:hover {\n",
              "      background-color: #E2EBFA;\n",
              "      box-shadow: 0px 1px 2px rgba(60, 64, 67, 0.3), 0px 1px 3px 1px rgba(60, 64, 67, 0.15);\n",
              "      fill: #174EA6;\n",
              "    }\n",
              "\n",
              "    [theme=dark] .colab-df-convert {\n",
              "      background-color: #3B4455;\n",
              "      fill: #D2E3FC;\n",
              "    }\n",
              "\n",
              "    [theme=dark] .colab-df-convert:hover {\n",
              "      background-color: #434B5C;\n",
              "      box-shadow: 0px 1px 3px 1px rgba(0, 0, 0, 0.15);\n",
              "      filter: drop-shadow(0px 1px 2px rgba(0, 0, 0, 0.3));\n",
              "      fill: #FFFFFF;\n",
              "    }\n",
              "  </style>\n",
              "\n",
              "      <script>\n",
              "        const buttonEl =\n",
              "          document.querySelector('#df-e687ea6c-e819-4692-b804-8917f846e83e button.colab-df-convert');\n",
              "        buttonEl.style.display =\n",
              "          google.colab.kernel.accessAllowed ? 'block' : 'none';\n",
              "\n",
              "        async function convertToInteractive(key) {\n",
              "          const element = document.querySelector('#df-e687ea6c-e819-4692-b804-8917f846e83e');\n",
              "          const dataTable =\n",
              "            await google.colab.kernel.invokeFunction('convertToInteractive',\n",
              "                                                     [key], {});\n",
              "          if (!dataTable) return;\n",
              "\n",
              "          const docLinkHtml = 'Like what you see? Visit the ' +\n",
              "            '<a target=\"_blank\" href=https://colab.research.google.com/notebooks/data_table.ipynb>data table notebook</a>'\n",
              "            + ' to learn more about interactive tables.';\n",
              "          element.innerHTML = '';\n",
              "          dataTable['output_type'] = 'display_data';\n",
              "          await google.colab.output.renderOutput(dataTable, element);\n",
              "          const docLink = document.createElement('div');\n",
              "          docLink.innerHTML = docLinkHtml;\n",
              "          element.appendChild(docLink);\n",
              "        }\n",
              "      </script>\n",
              "    </div>\n",
              "  </div>\n",
              "  "
            ]
          },
          "metadata": {},
          "execution_count": 41
        }
      ]
    },
    {
      "cell_type": "code",
      "source": [
        "feedback_slices"
      ],
      "metadata": {
        "colab": {
          "base_uri": "https://localhost:8080/"
        },
        "id": "OFKvx37joIfP",
        "outputId": "374847bc-a3b4-49bc-c963-6cbefe69c41a"
      },
      "execution_count": null,
      "outputs": [
        {
          "output_type": "execute_result",
          "data": {
            "text/plain": [
              "<TensorSliceDataset element_spec={'id_feedback': TensorSpec(shape=(), dtype=tf.int64, name=None), 'user_id': TensorSpec(shape=(), dtype=tf.int64, name=None), 'id_resep': TensorSpec(shape=(), dtype=tf.int64, name=None), 'nilai_feedback': TensorSpec(shape=(), dtype=tf.int64, name=None), 'hari': TensorSpec(shape=(), dtype=tf.string, name=None), 'keterangan': TensorSpec(shape=(), dtype=tf.string, name=None), 'jumlah_feedback': TensorSpec(shape=(), dtype=tf.int64, name=None), 'nama_resep': TensorSpec(shape=(), dtype=tf.string, name=None), 'rating': TensorSpec(shape=(), dtype=tf.int64, name=None)}>"
            ]
          },
          "metadata": {},
          "execution_count": 18
        }
      ]
    },
    {
      "cell_type": "code",
      "execution_count": null,
      "metadata": {
        "colab": {
          "base_uri": "https://localhost:8080/"
        },
        "id": "GeikqJC6zbBT",
        "outputId": "4554368d-fd19-4436-eca5-dfd674142f8c"
      },
      "outputs": [
        {
          "output_type": "execute_result",
          "data": {
            "text/plain": [
              "{'hari': TensorSpec(shape=(), dtype=tf.string, name=None),\n",
              " 'id_feedback': TensorSpec(shape=(), dtype=tf.int64, name=None),\n",
              " 'id_resep': TensorSpec(shape=(), dtype=tf.int64, name=None),\n",
              " 'jumlah_feedback': TensorSpec(shape=(), dtype=tf.int64, name=None),\n",
              " 'keterangan': TensorSpec(shape=(), dtype=tf.string, name=None),\n",
              " 'nama_resep': TensorSpec(shape=(), dtype=tf.string, name=None),\n",
              " 'nilai_feedback': TensorSpec(shape=(), dtype=tf.int64, name=None),\n",
              " 'rating': TensorSpec(shape=(), dtype=tf.int64, name=None),\n",
              " 'user_id': TensorSpec(shape=(), dtype=tf.int64, name=None)}"
            ]
          },
          "metadata": {},
          "execution_count": 19
        }
      ],
      "source": [
        "feedback_slices.element_spec"
      ]
    },
    {
      "cell_type": "code",
      "execution_count": null,
      "metadata": {
        "id": "SkB5b7hBz8T9"
      },
      "outputs": [],
      "source": [
        "komposisi_resep_filtered_slices = tf.data.Dataset.from_tensor_slices(tf.cast(komposisi_resep_filtered['nama_resep'].values.reshape(-1,1), tf.string), )"
      ]
    },
    {
      "cell_type": "code",
      "execution_count": null,
      "metadata": {
        "colab": {
          "base_uri": "https://localhost:8080/"
        },
        "id": "RnZLdQjQ0Cbd",
        "outputId": "5994ca94-2c4e-4134-fe18-7a2e659d1d9c"
      },
      "outputs": [
        {
          "output_type": "execute_result",
          "data": {
            "text/plain": [
              "TensorSpec(shape=(1,), dtype=tf.string, name=None)"
            ]
          },
          "metadata": {},
          "execution_count": 21
        }
      ],
      "source": [
        "komposisi_resep_filtered_slices.element_spec"
      ]
    },
    {
      "cell_type": "code",
      "source": [
        "with tf.python_io.TFRecordWriter(\"df.tfrecords\") as writer:\n",
        "    for row in csv:\n",
        "        features, label = row[:-1], row[-1]\n",
        "        example = tf.train.Example()\n",
        "        example.features.feature[\"features\"].float_list.value.extend(features)\n",
        "        example.features.feature[\"label\"].int64_list.value.append(label)\n",
        "        writer.write(example.SerializeToString())"
      ],
      "metadata": {
        "id": "eVCUwXbvCvRA"
      },
      "execution_count": null,
      "outputs": []
    },
    {
      "cell_type": "code",
      "source": [
        "def rename1(x0):\n",
        "    y = {}\n",
        "    y[\"nama_resep\"] = x0\n",
        "    return y\n",
        "\n",
        "komposisi_resep_filtered_slices = komposisi_resep_filtered_slices.map(rename1)"
      ],
      "metadata": {
        "id": "QBRezzJTx3p9"
      },
      "execution_count": null,
      "outputs": []
    },
    {
      "cell_type": "code",
      "source": [
        "komposisi_resep_filtered_slices.element_spec"
      ],
      "metadata": {
        "colab": {
          "base_uri": "https://localhost:8080/"
        },
        "id": "PQ24Ys7xx9Rh",
        "outputId": "41b96370-a7ae-43b1-9343-3d196d7b2312"
      },
      "execution_count": null,
      "outputs": [
        {
          "output_type": "execute_result",
          "data": {
            "text/plain": [
              "{'nama_resep': TensorSpec(shape=(1,), dtype=tf.string, name=None)}"
            ]
          },
          "metadata": {},
          "execution_count": 23
        }
      ]
    },
    {
      "cell_type": "code",
      "source": [
        "class SIMPASI_v2(tfrs.Model):\n",
        "  def __init__(self, user_model: tf.keras.Model, resep_model: tf.keras.Model, task: tfrs.tasks.Retrieval):\n",
        "      super().__init__()\n",
        "      self.user_model = user_model\n",
        "      self.resep_model = resep_model\n",
        "      self.task = task\n",
        "\n",
        "  def compute_loss(self, features: Dict[Text, tf.Tensor], training=False) -> tf.Tensor:\n",
        "      user_embeddings = self.user_model(features[\"user_id\"])\n",
        "      resep_embeddings = self.resep_model(features[\"nama_resep\"])\n",
        "      return self.task(user_embeddings, resep_embeddings)"
      ],
      "metadata": {
        "id": "oVL6uE67iLwb"
      },
      "execution_count": null,
      "outputs": []
    },
    {
      "cell_type": "code",
      "source": [
        "rating_data = df[[\"user_id\",\"nama_resep\", \"rating\"]]\n",
        "\n",
        "rating_data['user_id'] = rating_data.user_id.astype(np.str)\n",
        "rating_data['nama_resep'] = rating_data.nama_resep.astype(np.str)\n",
        "rating_data['rating'] = rating_data.rating.astype(np.float32)"
      ],
      "metadata": {
        "colab": {
          "base_uri": "https://localhost:8080/"
        },
        "id": "oFSU45nrrJWF",
        "outputId": "7647c426-e0cc-46b5-fed4-7566042f1c99"
      },
      "execution_count": null,
      "outputs": [
        {
          "output_type": "stream",
          "name": "stderr",
          "text": [
            "/usr/local/lib/python3.7/dist-packages/ipykernel_launcher.py:3: DeprecationWarning: `np.str` is a deprecated alias for the builtin `str`. To silence this warning, use `str` by itself. Doing this will not modify any behavior and is safe. If you specifically wanted the numpy scalar type, use `np.str_` here.\n",
            "Deprecated in NumPy 1.20; for more details and guidance: https://numpy.org/devdocs/release/1.20.0-notes.html#deprecations\n",
            "  This is separate from the ipykernel package so we can avoid doing imports until\n",
            "/usr/local/lib/python3.7/dist-packages/ipykernel_launcher.py:3: SettingWithCopyWarning: \n",
            "A value is trying to be set on a copy of a slice from a DataFrame.\n",
            "Try using .loc[row_indexer,col_indexer] = value instead\n",
            "\n",
            "See the caveats in the documentation: https://pandas.pydata.org/pandas-docs/stable/user_guide/indexing.html#returning-a-view-versus-a-copy\n",
            "  This is separate from the ipykernel package so we can avoid doing imports until\n",
            "/usr/local/lib/python3.7/dist-packages/ipykernel_launcher.py:4: DeprecationWarning: `np.str` is a deprecated alias for the builtin `str`. To silence this warning, use `str` by itself. Doing this will not modify any behavior and is safe. If you specifically wanted the numpy scalar type, use `np.str_` here.\n",
            "Deprecated in NumPy 1.20; for more details and guidance: https://numpy.org/devdocs/release/1.20.0-notes.html#deprecations\n",
            "  after removing the cwd from sys.path.\n",
            "/usr/local/lib/python3.7/dist-packages/ipykernel_launcher.py:4: SettingWithCopyWarning: \n",
            "A value is trying to be set on a copy of a slice from a DataFrame.\n",
            "Try using .loc[row_indexer,col_indexer] = value instead\n",
            "\n",
            "See the caveats in the documentation: https://pandas.pydata.org/pandas-docs/stable/user_guide/indexing.html#returning-a-view-versus-a-copy\n",
            "  after removing the cwd from sys.path.\n",
            "/usr/local/lib/python3.7/dist-packages/ipykernel_launcher.py:5: SettingWithCopyWarning: \n",
            "A value is trying to be set on a copy of a slice from a DataFrame.\n",
            "Try using .loc[row_indexer,col_indexer] = value instead\n",
            "\n",
            "See the caveats in the documentation: https://pandas.pydata.org/pandas-docs/stable/user_guide/indexing.html#returning-a-view-versus-a-copy\n",
            "  \"\"\"\n"
          ]
        }
      ]
    },
    {
      "cell_type": "code",
      "source": [
        "dataset = tf.data.Dataset.from_tensor_slices((\n",
        "    tf.cast(rating_data['user_id'].values.reshape(-1,1), tf.string), \n",
        "    tf.cast(rating_data['nama_resep'].values.reshape(-1,1), tf.string), \n",
        "    tf.cast(rating_data['rating'].values.reshape(-1,1),tf.float32)))"
      ],
      "metadata": {
        "id": "Hwrorf8TrIdh"
      },
      "execution_count": null,
      "outputs": []
    },
    {
      "cell_type": "code",
      "source": [
        "dataset.element_spec"
      ],
      "metadata": {
        "colab": {
          "base_uri": "https://localhost:8080/"
        },
        "id": "JSfDv_7JrmeJ",
        "outputId": "749d41a1-1712-4118-f54e-c62e187bb212"
      },
      "execution_count": null,
      "outputs": [
        {
          "output_type": "execute_result",
          "data": {
            "text/plain": [
              "(TensorSpec(shape=(1,), dtype=tf.string, name=None),\n",
              " TensorSpec(shape=(1,), dtype=tf.string, name=None),\n",
              " TensorSpec(shape=(1,), dtype=tf.float32, name=None))"
            ]
          },
          "metadata": {},
          "execution_count": 27
        }
      ]
    },
    {
      "cell_type": "code",
      "source": [
        "def rename3(x0,x1,x2):\n",
        "    y = {}\n",
        "    y[\"user_id\"] = x0\n",
        "    y['nama_resep'] = x1\n",
        "    y['rating'] = x2\n",
        "    return y\n",
        "\n",
        "dataset = dataset.map(rename3)"
      ],
      "metadata": {
        "id": "ZFH8S6NWxWvz"
      },
      "execution_count": null,
      "outputs": []
    },
    {
      "cell_type": "code",
      "source": [
        "dataset.element_spec"
      ],
      "metadata": {
        "colab": {
          "base_uri": "https://localhost:8080/"
        },
        "id": "HozF0NTixr7X",
        "outputId": "b494b4af-eb25-4440-9324-fed1e3a9ab32"
      },
      "execution_count": null,
      "outputs": [
        {
          "output_type": "execute_result",
          "data": {
            "text/plain": [
              "{'nama_resep': TensorSpec(shape=(1,), dtype=tf.string, name=None),\n",
              " 'rating': TensorSpec(shape=(1,), dtype=tf.float32, name=None),\n",
              " 'user_id': TensorSpec(shape=(1,), dtype=tf.string, name=None)}"
            ]
          },
          "metadata": {},
          "execution_count": 29
        }
      ]
    },
    {
      "cell_type": "code",
      "source": [
        "users = dataset.map(lambda x: (x[\"user_id\"]))\n",
        "resep = komposisi_resep_filtered_slices.map(lambda x: (x[\"nama_resep\"]))"
      ],
      "metadata": {
        "id": "LxNDBAiDwE2S"
      },
      "execution_count": null,
      "outputs": []
    },
    {
      "cell_type": "code",
      "source": [
        "print(dataset)\n",
        "print(resep)\n",
        "print(users)"
      ],
      "metadata": {
        "colab": {
          "base_uri": "https://localhost:8080/"
        },
        "id": "FFKy3x3xvM96",
        "outputId": "9b7f519f-6e60-4fd7-f162-cb59f0782f2f"
      },
      "execution_count": null,
      "outputs": [
        {
          "output_type": "stream",
          "name": "stdout",
          "text": [
            "<MapDataset element_spec={'user_id': TensorSpec(shape=(1,), dtype=tf.string, name=None), 'nama_resep': TensorSpec(shape=(1,), dtype=tf.string, name=None), 'rating': TensorSpec(shape=(1,), dtype=tf.float32, name=None)}>\n",
            "<MapDataset element_spec=TensorSpec(shape=(1,), dtype=tf.string, name=None)>\n",
            "<MapDataset element_spec=TensorSpec(shape=(1,), dtype=tf.string, name=None)>\n"
          ]
        }
      ]
    },
    {
      "cell_type": "code",
      "source": [
        "unique_nama_resep = np.unique(list(resep))\n",
        "unique_user_ids = np.unique(list(users))"
      ],
      "metadata": {
        "id": "I_8ddSRhrxgC"
      },
      "execution_count": null,
      "outputs": []
    },
    {
      "cell_type": "code",
      "source": [
        "print(len(unique_nama_resep))"
      ],
      "metadata": {
        "colab": {
          "base_uri": "https://localhost:8080/"
        },
        "id": "fHiBJD2Q19CF",
        "outputId": "72871843-9b9a-4457-eed9-1e92fc7506f5"
      },
      "execution_count": null,
      "outputs": [
        {
          "output_type": "stream",
          "name": "stdout",
          "text": [
            "77\n"
          ]
        }
      ]
    },
    {
      "cell_type": "code",
      "source": [
        "class RankingModel(tf.keras.Model):\n",
        "\n",
        "  def __init__(self):\n",
        "    super().__init__()\n",
        "    embedding_dimension = 32\n",
        "\n",
        "    # Compute embeddings for users.\n",
        "    self.user_embeddings = tf.keras.Sequential([\n",
        "      tf.keras.layers.experimental.preprocessing.StringLookup(\n",
        "        vocabulary=unique_user_ids, mask_token=None),\n",
        "      tf.keras.layers.Embedding(len(unique_user_ids) + 1, embedding_dimension)\n",
        "    ])\n",
        "\n",
        "    # Compute embeddings for books.\n",
        "    self.resep_embeddings = tf.keras.Sequential([\n",
        "      tf.keras.layers.experimental.preprocessing.StringLookup(\n",
        "        vocabulary=unique_nama_resep, mask_token=None),\n",
        "      tf.keras.layers.Embedding(len(unique_nama_resep) + 1, embedding_dimension)\n",
        "    ])\n",
        "\n",
        "    # Compute predictions.\n",
        "    self.ratings = tf.keras.Sequential([\n",
        "      # Learn multiple dense layers.\n",
        "      tf.keras.layers.Dense(256, activation=\"relu\"),\n",
        "      tf.keras.layers.Dense(64, activation=\"relu\"),\n",
        "      # Make rating predictions in the final layer.\n",
        "      tf.keras.layers.Dense(1)\n",
        "  ])\n",
        "\n",
        "  def __call__(self, x):\n",
        "    \n",
        "    user_id, nama_resep = x\n",
        "    user_embedding = self.user_embeddings(user_id)\n",
        "    resep_embedding = self.resep_embeddings(nama_resep)\n",
        "\n",
        "    return self.ratings(tf.concat([user_embedding, resep_embedding], axis=1))"
      ],
      "metadata": {
        "id": "hJ93MhGZr2Wi"
      },
      "execution_count": null,
      "outputs": []
    },
    {
      "cell_type": "code",
      "source": [
        "RankingModel()(([\"42\"], [\"Bubur Apel\"]))"
      ],
      "metadata": {
        "colab": {
          "base_uri": "https://localhost:8080/"
        },
        "id": "N2M_FptC0voR",
        "outputId": "dcde7a74-f1f2-4b66-9e16-b04dae22c9d5"
      },
      "execution_count": null,
      "outputs": [
        {
          "output_type": "stream",
          "name": "stdout",
          "text": [
            "WARNING:tensorflow:Layers in a Sequential model should only have a single input tensor. Received: inputs=['42']. Consider rewriting this model with the Functional API.\n",
            "WARNING:tensorflow:Layers in a Sequential model should only have a single input tensor. Received: inputs=['Bubur Apel']. Consider rewriting this model with the Functional API.\n"
          ]
        },
        {
          "output_type": "execute_result",
          "data": {
            "text/plain": [
              "<tf.Tensor: shape=(1, 1), dtype=float32, numpy=array([[-0.01572901]], dtype=float32)>"
            ]
          },
          "metadata": {},
          "execution_count": 35
        }
      ]
    },
    {
      "cell_type": "code",
      "source": [
        "class SIMPASIV3(tfrs.models.Model):\n",
        "\n",
        "  def __init__(self):\n",
        "    super().__init__()\n",
        "    self.ranking_model: tf.keras.Model = RankingModel()\n",
        "    self.task: tf.keras.layers.Layer = tfrs.tasks.Ranking(\n",
        "      loss = tf.keras.losses.MeanSquaredError(),\n",
        "      metrics=[tf.keras.metrics.RootMeanSquaredError()]\n",
        "    )\n",
        "\n",
        "  def compute_loss(self, features, training=False) -> tf.Tensor:\n",
        "    print(features)\n",
        "    rating_predictions = self.ranking_model((features['user_id'], features[\"nama_resep\"]))\n",
        "\n",
        "    # The task computes the loss and the metrics.\n",
        "    return self.task(labels=features[\"rating\"], predictions=rating_predictions)"
      ],
      "metadata": {
        "id": "RfpTzpLisKCZ"
      },
      "execution_count": null,
      "outputs": []
    },
    {
      "cell_type": "code",
      "source": [
        "from datetime import datetime\n",
        "\n",
        "model = SIMPASIV3()\n",
        "model.compile(optimizer=tf.keras.optimizers.Adagrad(learning_rate=0.1))\n",
        "# Cache the dataset \n",
        "cache_dataset = dataset.cache()\n",
        "# Tensorboard \n",
        "logdir = \"logs/scalars/\" + datetime.now().strftime(\"%Y%m%d-%H%M%S\")\n",
        "tensorboard_callback = tf.keras.callbacks.TensorBoard(log_dir=logdir)\n",
        "# Training \n",
        "model.fit(cache_dataset, epochs=5, verbose=1, callbacks=[tensorboard_callback])"
      ],
      "metadata": {
        "colab": {
          "base_uri": "https://localhost:8080/"
        },
        "id": "kEld81rRsT9i",
        "outputId": "3c5820c5-9935-4e10-a7e8-fb3fe9fec7b3"
      },
      "execution_count": null,
      "outputs": [
        {
          "output_type": "stream",
          "name": "stdout",
          "text": [
            "Epoch 1/5\n",
            "{'user_id': <tf.Tensor 'IteratorGetNext:2' shape=(1,) dtype=string>, 'nama_resep': <tf.Tensor 'IteratorGetNext:0' shape=(1,) dtype=string>, 'rating': <tf.Tensor 'IteratorGetNext:1' shape=(1,) dtype=float32>}\n",
            "{'user_id': <tf.Tensor 'IteratorGetNext:2' shape=(1,) dtype=string>, 'nama_resep': <tf.Tensor 'IteratorGetNext:0' shape=(1,) dtype=string>, 'rating': <tf.Tensor 'IteratorGetNext:1' shape=(1,) dtype=float32>}\n",
            "130/130 [==============================] - 3s 5ms/step - root_mean_squared_error: 2.0721 - loss: 4.2839 - regularization_loss: 0.0000e+00 - total_loss: 4.2839\n",
            "Epoch 2/5\n",
            "130/130 [==============================] - 1s 10ms/step - root_mean_squared_error: 1.6231 - loss: 2.6161 - regularization_loss: 0.0000e+00 - total_loss: 2.6161\n",
            "Epoch 3/5\n",
            "130/130 [==============================] - 1s 4ms/step - root_mean_squared_error: 1.4452 - loss: 2.1171 - regularization_loss: 0.0000e+00 - total_loss: 2.1171\n",
            "Epoch 4/5\n",
            "130/130 [==============================] - 1s 5ms/step - root_mean_squared_error: 1.3467 - loss: 1.8063 - regularization_loss: 0.0000e+00 - total_loss: 1.8063\n",
            "Epoch 5/5\n",
            "130/130 [==============================] - 1s 7ms/step - root_mean_squared_error: 1.2098 - loss: 1.4537 - regularization_loss: 0.0000e+00 - total_loss: 1.4537\n"
          ]
        },
        {
          "output_type": "execute_result",
          "data": {
            "text/plain": [
              "<keras.callbacks.History at 0x7f271fe99b90>"
            ]
          },
          "metadata": {},
          "execution_count": 37
        }
      ]
    },
    {
      "cell_type": "code",
      "source": [
        "%load_ext tensorboard\n",
        "%tensorboard --logdir logdir"
      ],
      "metadata": {
        "colab": {
          "base_uri": "https://localhost:8080/",
          "height": 821
        },
        "id": "9B0Zd72v3a67",
        "outputId": "9d821a07-5d00-468f-c3e9-a72afda013aa"
      },
      "execution_count": null,
      "outputs": [
        {
          "output_type": "display_data",
          "data": {
            "text/plain": [
              "<IPython.core.display.Javascript object>"
            ],
            "application/javascript": [
              "\n",
              "        (async () => {\n",
              "            const url = new URL(await google.colab.kernel.proxyPort(6006, {'cache': true}));\n",
              "            url.searchParams.set('tensorboardColab', 'true');\n",
              "            const iframe = document.createElement('iframe');\n",
              "            iframe.src = url;\n",
              "            iframe.setAttribute('width', '100%');\n",
              "            iframe.setAttribute('height', '800');\n",
              "            iframe.setAttribute('frameborder', 0);\n",
              "            document.body.appendChild(iframe);\n",
              "        })();\n",
              "    "
            ]
          },
          "metadata": {}
        }
      ]
    },
    {
      "cell_type": "code",
      "source": [
        "!kill 762"
      ],
      "metadata": {
        "id": "NnEo4b1w7qzR",
        "colab": {
          "base_uri": "https://localhost:8080/"
        },
        "outputId": "c633686d-0b58-43a2-d867-9ca2a691c579"
      },
      "execution_count": null,
      "outputs": [
        {
          "output_type": "stream",
          "name": "stdout",
          "text": [
            "/bin/bash: line 0: kill: (762) - No such process\n"
          ]
        }
      ]
    },
    {
      "cell_type": "code",
      "source": [
        "# Create array with users id in every place on the lenght of the unique books number\n",
        "user8 = np.array([\"8\" for i in range(len(unique_nama_resep))])\n",
        "\n",
        "# Convert it to tf.data.Dataset \n",
        "test_data = tf.data.Dataset.from_tensor_slices((tf.cast(user8.reshape(-1,1), tf.string), tf.cast(unique_nama_resep.reshape(-1,1), tf.string)))\n",
        "\n",
        "# Name the columns \n",
        "@tf.function\n",
        "def rename2(x0,x1):\n",
        "    y = {}\n",
        "    y[\"user_id\"] = x0\n",
        "    y['nama_resep'] = x1\n",
        "    return y\n",
        "test_data = test_data.map(rename2)\n",
        "\n",
        "# Now lets make predictions and store them in to dictionary\n",
        "test_ratings = {}\n",
        "\n",
        "for b in test_data:\n",
        "    test_ratings[b['nama_resep'].numpy()[0]] = model.ranking_model((b['user_id'],b['nama_resep']))\n",
        "    print(b)\n",
        "\n",
        "# sort them by score and print the titles\n",
        "for b in sorted(test_ratings, key=test_ratings.get, reverse=True):\n",
        "    print(b)"
      ],
      "metadata": {
        "colab": {
          "base_uri": "https://localhost:8080/"
        },
        "id": "96h2Y_4L4jK5",
        "outputId": "ea6a082a-120f-4893-8004-32c7e13f26de"
      },
      "execution_count": null,
      "outputs": [
        {
          "output_type": "stream",
          "name": "stdout",
          "text": [
            "{'user_id': <tf.Tensor: shape=(1,), dtype=string, numpy=array([b'8'], dtype=object)>, 'nama_resep': <tf.Tensor: shape=(1,), dtype=string, numpy=array([b'Agar-agar Isi Blewah'], dtype=object)>}\n",
            "{'user_id': <tf.Tensor: shape=(1,), dtype=string, numpy=array([b'8'], dtype=object)>, 'nama_resep': <tf.Tensor: shape=(1,), dtype=string, numpy=array([b'Apel Rebus'], dtype=object)>}\n",
            "{'user_id': <tf.Tensor: shape=(1,), dtype=string, numpy=array([b'8'], dtype=object)>, 'nama_resep': <tf.Tensor: shape=(1,), dtype=string, numpy=array([b'Apricot Tahu'], dtype=object)>}\n",
            "{'user_id': <tf.Tensor: shape=(1,), dtype=string, numpy=array([b'8'], dtype=object)>, 'nama_resep': <tf.Tensor: shape=(1,), dtype=string, numpy=array([b'Biskuit Oat Ceri'], dtype=object)>}\n",
            "{'user_id': <tf.Tensor: shape=(1,), dtype=string, numpy=array([b'8'], dtype=object)>, 'nama_resep': <tf.Tensor: shape=(1,), dtype=string, numpy=array([b'Biskuit Oat Wortel'], dtype=object)>}\n",
            "{'user_id': <tf.Tensor: shape=(1,), dtype=string, numpy=array([b'8'], dtype=object)>, 'nama_resep': <tf.Tensor: shape=(1,), dtype=string, numpy=array([b'Biskuit Sereal'], dtype=object)>}\n",
            "{'user_id': <tf.Tensor: shape=(1,), dtype=string, numpy=array([b'8'], dtype=object)>, 'nama_resep': <tf.Tensor: shape=(1,), dtype=string, numpy=array([b'Bola-bola Ubi'], dtype=object)>}\n",
            "{'user_id': <tf.Tensor: shape=(1,), dtype=string, numpy=array([b'8'], dtype=object)>, 'nama_resep': <tf.Tensor: shape=(1,), dtype=string, numpy=array([b'Bubur Apel'], dtype=object)>}\n",
            "{'user_id': <tf.Tensor: shape=(1,), dtype=string, numpy=array([b'8'], dtype=object)>, 'nama_resep': <tf.Tensor: shape=(1,), dtype=string, numpy=array([b'Bubur Ayam Kedelai'], dtype=object)>}\n",
            "{'user_id': <tf.Tensor: shape=(1,), dtype=string, numpy=array([b'8'], dtype=object)>, 'nama_resep': <tf.Tensor: shape=(1,), dtype=string, numpy=array([b'Bubur Ayam Talas Keju'], dtype=object)>}\n",
            "{'user_id': <tf.Tensor: shape=(1,), dtype=string, numpy=array([b'8'], dtype=object)>, 'nama_resep': <tf.Tensor: shape=(1,), dtype=string, numpy=array([b'Bubur Beras Merah'], dtype=object)>}\n",
            "{'user_id': <tf.Tensor: shape=(1,), dtype=string, numpy=array([b'8'], dtype=object)>, 'nama_resep': <tf.Tensor: shape=(1,), dtype=string, numpy=array([b'Bubur Buah dan Sayur'], dtype=object)>}\n",
            "{'user_id': <tf.Tensor: shape=(1,), dtype=string, numpy=array([b'8'], dtype=object)>, 'nama_resep': <tf.Tensor: shape=(1,), dtype=string, numpy=array([b'Bubur Ceri Alpukat'], dtype=object)>}\n",
            "{'user_id': <tf.Tensor: shape=(1,), dtype=string, numpy=array([b'8'], dtype=object)>, 'nama_resep': <tf.Tensor: shape=(1,), dtype=string, numpy=array([b'Bubur Hunkwe Susu Keju'], dtype=object)>}\n",
            "{'user_id': <tf.Tensor: shape=(1,), dtype=string, numpy=array([b'8'], dtype=object)>, 'nama_resep': <tf.Tensor: shape=(1,), dtype=string, numpy=array([b'Bubur Jagung Bayam Tahu'], dtype=object)>}\n",
            "{'user_id': <tf.Tensor: shape=(1,), dtype=string, numpy=array([b'8'], dtype=object)>, 'nama_resep': <tf.Tensor: shape=(1,), dtype=string, numpy=array([b'Bubur Jagung Susu'], dtype=object)>}\n",
            "{'user_id': <tf.Tensor: shape=(1,), dtype=string, numpy=array([b'8'], dtype=object)>, 'nama_resep': <tf.Tensor: shape=(1,), dtype=string, numpy=array([b'Bubur Jagung Wortel'], dtype=object)>}\n",
            "{'user_id': <tf.Tensor: shape=(1,), dtype=string, numpy=array([b'8'], dtype=object)>, 'nama_resep': <tf.Tensor: shape=(1,), dtype=string, numpy=array([b'Bubur Kacang Hijau Kurma'], dtype=object)>}\n",
            "{'user_id': <tf.Tensor: shape=(1,), dtype=string, numpy=array([b'8'], dtype=object)>, 'nama_resep': <tf.Tensor: shape=(1,), dtype=string, numpy=array([b'Bubur Kacang Polong'], dtype=object)>}\n",
            "{'user_id': <tf.Tensor: shape=(1,), dtype=string, numpy=array([b'8'], dtype=object)>, 'nama_resep': <tf.Tensor: shape=(1,), dtype=string, numpy=array([b'Bubur Kembang Kol'], dtype=object)>}\n",
            "{'user_id': <tf.Tensor: shape=(1,), dtype=string, numpy=array([b'8'], dtype=object)>, 'nama_resep': <tf.Tensor: shape=(1,), dtype=string, numpy=array([b'Bubur Kentang'], dtype=object)>}\n",
            "{'user_id': <tf.Tensor: shape=(1,), dtype=string, numpy=array([b'8'], dtype=object)>, 'nama_resep': <tf.Tensor: shape=(1,), dtype=string, numpy=array([b'Bubur Kentang Edamame'], dtype=object)>}\n",
            "{'user_id': <tf.Tensor: shape=(1,), dtype=string, numpy=array([b'8'], dtype=object)>, 'nama_resep': <tf.Tensor: shape=(1,), dtype=string, numpy=array([b'Bubur Labu Brokoli'], dtype=object)>}\n",
            "{'user_id': <tf.Tensor: shape=(1,), dtype=string, numpy=array([b'8'], dtype=object)>, 'nama_resep': <tf.Tensor: shape=(1,), dtype=string, numpy=array([b'Bubur Makaroni Teri Bayam'], dtype=object)>}\n",
            "{'user_id': <tf.Tensor: shape=(1,), dtype=string, numpy=array([b'8'], dtype=object)>, 'nama_resep': <tf.Tensor: shape=(1,), dtype=string, numpy=array([b'Bubur Oatmeal'], dtype=object)>}\n",
            "{'user_id': <tf.Tensor: shape=(1,), dtype=string, numpy=array([b'8'], dtype=object)>, 'nama_resep': <tf.Tensor: shape=(1,), dtype=string, numpy=array([b'Bubur Pepaya'], dtype=object)>}\n",
            "{'user_id': <tf.Tensor: shape=(1,), dtype=string, numpy=array([b'8'], dtype=object)>, 'nama_resep': <tf.Tensor: shape=(1,), dtype=string, numpy=array([b'Bubur Pir'], dtype=object)>}\n",
            "{'user_id': <tf.Tensor: shape=(1,), dtype=string, numpy=array([b'8'], dtype=object)>, 'nama_resep': <tf.Tensor: shape=(1,), dtype=string, numpy=array([b'Bubur Pisang'], dtype=object)>}\n",
            "{'user_id': <tf.Tensor: shape=(1,), dtype=string, numpy=array([b'8'], dtype=object)>, 'nama_resep': <tf.Tensor: shape=(1,), dtype=string, numpy=array([b'Bubur Pisang Jeruk'], dtype=object)>}\n",
            "{'user_id': <tf.Tensor: shape=(1,), dtype=string, numpy=array([b'8'], dtype=object)>, 'nama_resep': <tf.Tensor: shape=(1,), dtype=string, numpy=array([b'Bubur Pisang Kentang'], dtype=object)>}\n",
            "{'user_id': <tf.Tensor: shape=(1,), dtype=string, numpy=array([b'8'], dtype=object)>, 'nama_resep': <tf.Tensor: shape=(1,), dtype=string, numpy=array([b'Bubur Pisang Tomat'], dtype=object)>}\n",
            "{'user_id': <tf.Tensor: shape=(1,), dtype=string, numpy=array([b'8'], dtype=object)>, 'nama_resep': <tf.Tensor: shape=(1,), dtype=string, numpy=array([b'Bubur Pisang Ubi'], dtype=object)>}\n",
            "{'user_id': <tf.Tensor: shape=(1,), dtype=string, numpy=array([b'8'], dtype=object)>, 'nama_resep': <tf.Tensor: shape=(1,), dtype=string, numpy=array([b'Bubur Plum'], dtype=object)>}\n",
            "{'user_id': <tf.Tensor: shape=(1,), dtype=string, numpy=array([b'8'], dtype=object)>, 'nama_resep': <tf.Tensor: shape=(1,), dtype=string, numpy=array([b'Bubur Sawi Wortel'], dtype=object)>}\n",
            "{'user_id': <tf.Tensor: shape=(1,), dtype=string, numpy=array([b'8'], dtype=object)>, 'nama_resep': <tf.Tensor: shape=(1,), dtype=string, numpy=array([b'Bubur Singkong Apel'], dtype=object)>}\n",
            "{'user_id': <tf.Tensor: shape=(1,), dtype=string, numpy=array([b'8'], dtype=object)>, 'nama_resep': <tf.Tensor: shape=(1,), dtype=string, numpy=array([b'Bubur Susu Kacang Polong'], dtype=object)>}\n",
            "{'user_id': <tf.Tensor: shape=(1,), dtype=string, numpy=array([b'8'], dtype=object)>, 'nama_resep': <tf.Tensor: shape=(1,), dtype=string, numpy=array([b'Bubur Tahu'], dtype=object)>}\n",
            "{'user_id': <tf.Tensor: shape=(1,), dtype=string, numpy=array([b'8'], dtype=object)>, 'nama_resep': <tf.Tensor: shape=(1,), dtype=string, numpy=array([b'Bubur Tahu Wortel'], dtype=object)>}\n",
            "{'user_id': <tf.Tensor: shape=(1,), dtype=string, numpy=array([b'8'], dtype=object)>, 'nama_resep': <tf.Tensor: shape=(1,), dtype=string, numpy=array([b'Bubur Talas Apel'], dtype=object)>}\n",
            "{'user_id': <tf.Tensor: shape=(1,), dtype=string, numpy=array([b'8'], dtype=object)>, 'nama_resep': <tf.Tensor: shape=(1,), dtype=string, numpy=array([b'Bubur Tempe'], dtype=object)>}\n",
            "{'user_id': <tf.Tensor: shape=(1,), dtype=string, numpy=array([b'8'], dtype=object)>, 'nama_resep': <tf.Tensor: shape=(1,), dtype=string, numpy=array([b'Bubur Tempe Beras Merah'], dtype=object)>}\n",
            "{'user_id': <tf.Tensor: shape=(1,), dtype=string, numpy=array([b'8'], dtype=object)>, 'nama_resep': <tf.Tensor: shape=(1,), dtype=string, numpy=array([b'Bubur Tomat Kacang Merah'], dtype=object)>}\n",
            "{'user_id': <tf.Tensor: shape=(1,), dtype=string, numpy=array([b'8'], dtype=object)>, 'nama_resep': <tf.Tensor: shape=(1,), dtype=string, numpy=array([b'Bubur Ubi Bayam Kacang Polong'], dtype=object)>}\n",
            "{'user_id': <tf.Tensor: shape=(1,), dtype=string, numpy=array([b'8'], dtype=object)>, 'nama_resep': <tf.Tensor: shape=(1,), dtype=string, numpy=array([b'Bubur Ubi Kembang Kol'], dtype=object)>}\n",
            "{'user_id': <tf.Tensor: shape=(1,), dtype=string, numpy=array([b'8'], dtype=object)>, 'nama_resep': <tf.Tensor: shape=(1,), dtype=string, numpy=array([b'Bubur Wortel'], dtype=object)>}\n",
            "{'user_id': <tf.Tensor: shape=(1,), dtype=string, numpy=array([b'8'], dtype=object)>, 'nama_resep': <tf.Tensor: shape=(1,), dtype=string, numpy=array([b'Daging Ungkep'], dtype=object)>}\n",
            "{'user_id': <tf.Tensor: shape=(1,), dtype=string, numpy=array([b'8'], dtype=object)>, 'nama_resep': <tf.Tensor: shape=(1,), dtype=string, numpy=array([b'Ikan Kembung Panggang'], dtype=object)>}\n",
            "{'user_id': <tf.Tensor: shape=(1,), dtype=string, numpy=array([b'8'], dtype=object)>, 'nama_resep': <tf.Tensor: shape=(1,), dtype=string, numpy=array([b'Jus Alpukat Jeruk'], dtype=object)>}\n",
            "{'user_id': <tf.Tensor: shape=(1,), dtype=string, numpy=array([b'8'], dtype=object)>, 'nama_resep': <tf.Tensor: shape=(1,), dtype=string, numpy=array([b'Jus Melon Alpukat'], dtype=object)>}\n",
            "{'user_id': <tf.Tensor: shape=(1,), dtype=string, numpy=array([b'8'], dtype=object)>, 'nama_resep': <tf.Tensor: shape=(1,), dtype=string, numpy=array([b'Jus Pisang Kurma'], dtype=object)>}\n",
            "{'user_id': <tf.Tensor: shape=(1,), dtype=string, numpy=array([b'8'], dtype=object)>, 'nama_resep': <tf.Tensor: shape=(1,), dtype=string, numpy=array([b'Kue Pisang'], dtype=object)>}\n",
            "{'user_id': <tf.Tensor: shape=(1,), dtype=string, numpy=array([b'8'], dtype=object)>, 'nama_resep': <tf.Tensor: shape=(1,), dtype=string, numpy=array([b'Kukis Batang Keju'], dtype=object)>}\n",
            "{'user_id': <tf.Tensor: shape=(1,), dtype=string, numpy=array([b'8'], dtype=object)>, 'nama_resep': <tf.Tensor: shape=(1,), dtype=string, numpy=array([b'Kukis Havermut Apel'], dtype=object)>}\n",
            "{'user_id': <tf.Tensor: shape=(1,), dtype=string, numpy=array([b'8'], dtype=object)>, 'nama_resep': <tf.Tensor: shape=(1,), dtype=string, numpy=array([b'Kukis Meses'], dtype=object)>}\n",
            "{'user_id': <tf.Tensor: shape=(1,), dtype=string, numpy=array([b'8'], dtype=object)>, 'nama_resep': <tf.Tensor: shape=(1,), dtype=string, numpy=array([b'Kukis Oatmeal Keju'], dtype=object)>}\n",
            "{'user_id': <tf.Tensor: shape=(1,), dtype=string, numpy=array([b'8'], dtype=object)>, 'nama_resep': <tf.Tensor: shape=(1,), dtype=string, numpy=array([b'Lapis Mangga'], dtype=object)>}\n",
            "{'user_id': <tf.Tensor: shape=(1,), dtype=string, numpy=array([b'8'], dtype=object)>, 'nama_resep': <tf.Tensor: shape=(1,), dtype=string, numpy=array([b'Oatmeal Kurma'], dtype=object)>}\n",
            "{'user_id': <tf.Tensor: shape=(1,), dtype=string, numpy=array([b'8'], dtype=object)>, 'nama_resep': <tf.Tensor: shape=(1,), dtype=string, numpy=array([b'Pancake Labu'], dtype=object)>}\n",
            "{'user_id': <tf.Tensor: shape=(1,), dtype=string, numpy=array([b'8'], dtype=object)>, 'nama_resep': <tf.Tensor: shape=(1,), dtype=string, numpy=array([b'Perkedel Lele'], dtype=object)>}\n",
            "{'user_id': <tf.Tensor: shape=(1,), dtype=string, numpy=array([b'8'], dtype=object)>, 'nama_resep': <tf.Tensor: shape=(1,), dtype=string, numpy=array([b'Pisang Mangga Rebus'], dtype=object)>}\n",
            "{'user_id': <tf.Tensor: shape=(1,), dtype=string, numpy=array([b'8'], dtype=object)>, 'nama_resep': <tf.Tensor: shape=(1,), dtype=string, numpy=array([b'Puding Jeruk Pepaya'], dtype=object)>}\n",
            "{'user_id': <tf.Tensor: shape=(1,), dtype=string, numpy=array([b'8'], dtype=object)>, 'nama_resep': <tf.Tensor: shape=(1,), dtype=string, numpy=array([b'Puding Yogurt Saus Alpukat'], dtype=object)>}\n",
            "{'user_id': <tf.Tensor: shape=(1,), dtype=string, numpy=array([b'8'], dtype=object)>, 'nama_resep': <tf.Tensor: shape=(1,), dtype=string, numpy=array([b'Pure Alpukat dan Pepaya'], dtype=object)>}\n",
            "{'user_id': <tf.Tensor: shape=(1,), dtype=string, numpy=array([b'8'], dtype=object)>, 'nama_resep': <tf.Tensor: shape=(1,), dtype=string, numpy=array([b'Pure Apel dan Papaya'], dtype=object)>}\n",
            "{'user_id': <tf.Tensor: shape=(1,), dtype=string, numpy=array([b'8'], dtype=object)>, 'nama_resep': <tf.Tensor: shape=(1,), dtype=string, numpy=array([b'Pure Jagung Manis'], dtype=object)>}\n",
            "{'user_id': <tf.Tensor: shape=(1,), dtype=string, numpy=array([b'8'], dtype=object)>, 'nama_resep': <tf.Tensor: shape=(1,), dtype=string, numpy=array([b'Pure Pisang dan Pepaya'], dtype=object)>}\n",
            "{'user_id': <tf.Tensor: shape=(1,), dtype=string, numpy=array([b'8'], dtype=object)>, 'nama_resep': <tf.Tensor: shape=(1,), dtype=string, numpy=array([b'Pure Tepung Beras Putih, Zukini, dan Ubi Kuning'], dtype=object)>}\n",
            "{'user_id': <tf.Tensor: shape=(1,), dtype=string, numpy=array([b'8'], dtype=object)>, 'nama_resep': <tf.Tensor: shape=(1,), dtype=string, numpy=array([b'Pure Tiga Rasa'], dtype=object)>}\n",
            "{'user_id': <tf.Tensor: shape=(1,), dtype=string, numpy=array([b'8'], dtype=object)>, 'nama_resep': <tf.Tensor: shape=(1,), dtype=string, numpy=array([b'Pure Ubi Kuning'], dtype=object)>}\n",
            "{'user_id': <tf.Tensor: shape=(1,), dtype=string, numpy=array([b'8'], dtype=object)>, 'nama_resep': <tf.Tensor: shape=(1,), dtype=string, numpy=array([b'Pure Ubi Kuning dan Beras Merah'], dtype=object)>}\n",
            "{'user_id': <tf.Tensor: shape=(1,), dtype=string, numpy=array([b'8'], dtype=object)>, 'nama_resep': <tf.Tensor: shape=(1,), dtype=string, numpy=array([b'Sayur Kukus'], dtype=object)>}\n",
            "{'user_id': <tf.Tensor: shape=(1,), dtype=string, numpy=array([b'8'], dtype=object)>, 'nama_resep': <tf.Tensor: shape=(1,), dtype=string, numpy=array([b'Smoothies Pisang'], dtype=object)>}\n",
            "{'user_id': <tf.Tensor: shape=(1,), dtype=string, numpy=array([b'8'], dtype=object)>, 'nama_resep': <tf.Tensor: shape=(1,), dtype=string, numpy=array([b'Sup Labu Kuning'], dtype=object)>}\n",
            "{'user_id': <tf.Tensor: shape=(1,), dtype=string, numpy=array([b'8'], dtype=object)>, 'nama_resep': <tf.Tensor: shape=(1,), dtype=string, numpy=array([b'Sup Mihun Ikan Gabus'], dtype=object)>}\n",
            "{'user_id': <tf.Tensor: shape=(1,), dtype=string, numpy=array([b'8'], dtype=object)>, 'nama_resep': <tf.Tensor: shape=(1,), dtype=string, numpy=array([b'Tim Lele'], dtype=object)>}\n",
            "{'user_id': <tf.Tensor: shape=(1,), dtype=string, numpy=array([b'8'], dtype=object)>, 'nama_resep': <tf.Tensor: shape=(1,), dtype=string, numpy=array([b'Tim Saring'], dtype=object)>}\n",
            "{'user_id': <tf.Tensor: shape=(1,), dtype=string, numpy=array([b'8'], dtype=object)>, 'nama_resep': <tf.Tensor: shape=(1,), dtype=string, numpy=array([b'Yoghurt Buah Pop'], dtype=object)>}\n",
            "b'Kukis Havermut Apel'\n",
            "b'Sup Labu Kuning'\n",
            "b'Oatmeal Kurma'\n",
            "b'Pure Jagung Manis'\n",
            "b'Bubur Talas Apel'\n",
            "b'Pure Tepung Beras Putih, Zukini, dan Ubi Kuning'\n",
            "b'Bubur Kentang Edamame'\n",
            "b'Bubur Singkong Apel'\n",
            "b'Pisang Mangga Rebus'\n",
            "b'Pure Pisang dan Pepaya'\n",
            "b'Bubur Labu Brokoli'\n",
            "b'Bubur Susu Kacang Polong'\n",
            "b'Bubur Ayam Talas Keju'\n",
            "b'Bubur Apel'\n",
            "b'Tim Saring'\n",
            "b'Pure Apel dan Papaya'\n",
            "b'Bubur Kembang Kol'\n",
            "b'Pure Ubi Kuning dan Beras Merah'\n",
            "b'Apricot Tahu'\n",
            "b'Bola-bola Ubi'\n",
            "b'Bubur Buah dan Sayur'\n",
            "b'Bubur Pisang Tomat'\n",
            "b'Bubur Ayam Kedelai'\n",
            "b'Bubur Makaroni Teri Bayam'\n",
            "b'Bubur Pisang Jeruk'\n",
            "b'Tim Lele'\n",
            "b'Ikan Kembung Panggang'\n",
            "b'Sayur Kukus'\n",
            "b'Bubur Beras Merah'\n",
            "b'Bubur Tomat Kacang Merah'\n",
            "b'Kue Pisang'\n",
            "b'Bubur Kentang'\n",
            "b'Kukis Batang Keju'\n",
            "b'Bubur Ubi Kembang Kol'\n",
            "b'Bubur Jagung Bayam Tahu'\n",
            "b'Bubur Jagung Susu'\n",
            "b'Bubur Kacang Polong'\n",
            "b'Biskuit Oat Ceri'\n",
            "b'Bubur Pisang'\n",
            "b'Bubur Kacang Hijau Kurma'\n",
            "b'Biskuit Oat Wortel'\n",
            "b'Kukis Meses'\n",
            "b'Agar-agar Isi Blewah'\n",
            "b'Pancake Labu'\n",
            "b'Jus Melon Alpukat'\n",
            "b'Jus Pisang Kurma'\n",
            "b'Bubur Tahu Wortel'\n",
            "b'Puding Yogurt Saus Alpukat'\n",
            "b'Yoghurt Buah Pop'\n",
            "b'Bubur Sawi Wortel'\n",
            "b'Apel Rebus'\n",
            "b'Bubur Pisang Kentang'\n",
            "b'Jus Alpukat Jeruk'\n",
            "b'Biskuit Sereal'\n",
            "b'Kukis Oatmeal Keju'\n",
            "b'Bubur Pepaya'\n",
            "b'Daging Ungkep'\n",
            "b'Bubur Tempe'\n",
            "b'Bubur Ceri Alpukat'\n",
            "b'Bubur Ubi Bayam Kacang Polong'\n",
            "b'Pure Tiga Rasa'\n",
            "b'Sup Mihun Ikan Gabus'\n",
            "b'Bubur Hunkwe Susu Keju'\n",
            "b'Bubur Oatmeal'\n",
            "b'Pure Ubi Kuning'\n",
            "b'Bubur Pir'\n",
            "b'Pure Alpukat dan Pepaya'\n",
            "b'Lapis Mangga'\n",
            "b'Bubur Wortel'\n",
            "b'Bubur Jagung Wortel'\n",
            "b'Puding Jeruk Pepaya'\n",
            "b'Bubur Plum'\n",
            "b'Bubur Pisang Ubi'\n",
            "b'Bubur Tahu'\n",
            "b'Bubur Tempe Beras Merah'\n",
            "b'Smoothies Pisang'\n",
            "b'Perkedel Lele'\n"
          ]
        }
      ]
    },
    {
      "cell_type": "code",
      "source": [
        "nama_resep = [a for a in df[\"nama_resep\"]]\n",
        "user_id = [str(a) for a in df[\"user_id\"]]\n",
        "rating = [str(a) for a in df[\"rating\"]]\n",
        "\n",
        "print(nama_resep)\n",
        "print(user_id)\n",
        "print(rating)"
      ],
      "metadata": {
        "colab": {
          "base_uri": "https://localhost:8080/"
        },
        "id": "8VIH9jBUkbIV",
        "outputId": "daf5ae6a-97db-4a5e-d3a2-05a8d3bc26d7"
      },
      "execution_count": null,
      "outputs": [
        {
          "output_type": "stream",
          "name": "stdout",
          "text": [
            "['Bubur Buah dan Sayur', 'Bubur Tempe Beras Merah', 'Brokoli Rebus', 'Bubur Apricot', 'Yoghurt Buah Smoothie', 'Bubur Ayam Talas Keju', 'Bubur Pisang Oat', 'Bubur Kentang Tomat', 'Brokoli Rebus', 'Brokoli Keju', 'Bubur Apricot', 'Bubur Pisang', 'Bubur Buah dan Sayur', 'Bubur Pisang Jeruk', 'Brokoli Rebus', 'Brokoli Keju', 'Bubur Apricot', 'Bubur Wortel', 'Bubur Ceri Alpukat', 'Bubur Tomat Kacang Merah', 'Brokoli Keju', 'Bubur Hunkwe Susu Keju', 'Bubur Pisang Tomat', 'Bola Ikan', 'Pure Tepung Beras Putih, Zukini, dan Ubi Kuning', 'Pure Apel dan Papaya', 'Bubur Ubi Kembang Kol', 'Bubur Pisang Tomat', 'Bubur Beras Merah', 'Oatmeal Kurma', 'Puding Jeruk Pepaya', 'Bubur Ubi Kembang Kol', 'Pure Tepung Beras Putih, Zukini, dan Ubi Kuning\\r\\n', 'Bubur Plum', 'Bubur Makaroni Teri Bayam', 'Perkedel Lele', 'Lapis Mangga', 'Bubur Tahu', 'Daging Ungkep', 'Perkedel Lele', 'Bubur Ceri Alpukat', 'Bubur Pisang Jeruk', 'Bubur Kentang Edamame', 'Bubur Kentang', 'Bubur Pisang Jeruk', 'Bubur Wortel', 'Bubur Ceri Alpukat', 'Tim Lele', 'Bubur Ayam Kedelai', 'Bubur Ubi Bayam Kacang Polong', 'Bubur Tempe Beras Merah', 'Pisang Mangga Rebus', 'Bubur Ceri Alpukat', 'Bubur Tomat Kacang Merah', 'Bubur Pir', 'Bubur Plum', 'Bubur Ubi Kembang Kol', 'Sayur Kukus', 'Bubur Tomat Kacang Merah', 'Bubur Labu Brokoli', 'Bubur Jagung Bayam Tahu', 'Bubur Pisang Jeruk', 'Bubur Oatmeal', 'Bubur Wortel', 'Bubur Jagung Wortel', 'Bubur Pisang Ubi', 'Pure Tiga Rasa', 'Bubur Pisang Ubi', 'Bubur Jagung Wortel', 'Bubur Talas Apel', 'Bubur Tahu', 'Bubur Jagung Wortel', 'Bubur Ceri Alpukat', 'Bubur Susu Kacang Polong', 'Pure Jagung Manis', 'Pure Ubi Kuning dan Beras Merah', 'Pisang Mangga Rebus', 'Bubur Tomat Kacang Merah', 'Bubur Kentang Edamame', 'Bubur Wortel', 'Bubur Apel', 'Bubur Singkong Apel', 'Bubur Susu Kacang Polong', 'Apricot Tahu', 'Bubur Beras Merah', 'Bubur Pisang Tomat', 'Bubur Makaroni Teri Bayam', 'Bola-bola Ubi', 'Bubur Apel', 'Bubur Kembang Kol', 'Bubur Ubi Kembang Kol', 'Pure Ubi Kuning dan Beras Merah', 'Pure Tiga Rasa', 'Pure Alpukat dan Pepaya', 'Pure Jagung Manis', 'Bubur Susu Kacang Polong', 'Bubur Plum', 'Bubur Apel', 'Bubur Kacang Polong', 'Bubur Ubi kembang Kol', 'Puding Jeruk Pepaya', 'Smoothies Pisang', 'Sup Labu Kuning', 'Bubur Ceri Alpukat', 'Bubur Talas Apel', 'Kukis Havermut Apel', 'Bubur Susu Kacang Polong', 'Bubur Singkong Apel', 'Pure Ubi Kuning', 'Pure Tepung Beras Putih, Zukini, dan Ubi Kuning', 'Pure Pisang dan Pepaya', 'Pure Alpukat dan Pepaya', 'Tim Saring', 'Sup Mihun Ikan Gabus', 'Sub Labu Kuning', 'Puding Jeruk Pepaya', 'Tim Saring', 'Oatmeal Kurma', 'Pure Ubi Kuning dan Beras Merah', 'Bubur Singkong Apel', 'Bubur Susu Kacang Polong', 'Bubur Kentang Edamame', 'Bubur Oatmeal', 'Bubur Pisang Ubi', 'Pisang Mangga Rebus', 'Sayur Kukus', 'Bubur Wortel', 'Bubur Pisang Tomat', 'Bubur Tempe', 'Ikan Kembung Panggang']\n",
            "['1', '1', '35', '35', '35', '34', '34', '34', '58', '58', '58', '64', '64', '64', '77', '77', '77', '1', '23', '23', '23', '81', '81', '81', '94', '94', '94', '7', '7', '7', '42', '11', '11', '11', '15', '51', '51', '51', '95', '95', '12', '12', '12', '28', '28', '28', '19', '19', '19', '9', '9', '9', '99', '99', '99', '25', '26', '31', '31', '31', '64', '64', '64', '93', '93', '93', '26', '32', '32', '32', '34', '34', '34', '78', '79', '80', '86', '86', '86', '95', '88', '23', '23', '42', '42', '15', '15', '95', '25', '25', '26', '78', '78', '79', '79', '80', '80', '3', '3', '3', '71', '71', '71', '39', '39', '39', '5', '5', '5', '2', '2', '2', '6', '6', '6', '66', '66', '66', '97', '97', '97', '74', '74', '74', '90', '90', '90', '36', '36', '36']\n",
            "['2', '3', '0', '0', '0', '5', '5', '4', '4', '3', '0', '5', '5', '5', '4', '4', '3', '1', '3', '2', '4', '3', '4', '3', '5', '5', '0', '3', '3', '3', '5', '3', '5', '3', '0', '0', '0', '0', '3', '0', '4', '4', '3', '5', '3', '5', '4', '5', '5', '3', '0', '5', '5', '5', '3', '5', '5', '3', '2', '5', '4', '5', '3', '2', '5', '4', '5', '5', '3', '4', '2', '0', '5', '0', '3', '4', '2', '4', '2', '5', '5', '4', '5', '4', '5', '1', '3', '5', '4', '4', '5', '5', '3', '0', '5', '4', '0', '5', '4', '5', '2', '0', '5', '0', '3', '4', '2', '4', '2', '5', '5', '4', '5', '4', '5', '1', '3', '5', '4', '4', '5', '5', '3', '0', '5', '4', '0', '5', '4', '5']\n"
          ]
        }
      ]
    },
    {
      "cell_type": "code",
      "source": [
        "zippedList = [{\"nama_resep\": name, \"user_id\": id, \"resep_rating\": stars} for name, id, stars in zip(nama_resep, user_id, rating)]\n",
        "\n",
        "dataset = tf.data.Dataset.from_generator(\n",
        "lambda: zippedList, {\"nama_resep\": tf.string, \"user_id\": tf.string, \"resep_rating\": tf.string},\n",
        "output_shapes={\"nama_resep\": tf.shape(0), \"user_id\": tf.shape(0), \"resep_rating\": tf.shape(0)}\n",
        ")\n",
        "\n",
        "print(dataset)"
      ],
      "metadata": {
        "colab": {
          "base_uri": "https://localhost:8080/"
        },
        "id": "WijgCYBujfGa",
        "outputId": "fdb62564-6244-4388-f8a7-e28ecd8a00d3"
      },
      "execution_count": null,
      "outputs": [
        {
          "output_type": "stream",
          "name": "stdout",
          "text": [
            "<FlatMapDataset element_spec={'nama_resep': TensorSpec(shape=(), dtype=tf.string, name=None), 'user_id': TensorSpec(shape=(), dtype=tf.string, name=None), 'resep_rating': TensorSpec(shape=(), dtype=tf.string, name=None)}>\n"
          ]
        }
      ]
    },
    {
      "cell_type": "code",
      "source": [
        "ratings = dataset.map(\n",
        "lambda x: {\"nama_resep\": x[\"nama_resep\"], \"user_id\":x[\"user_id\"]}\n",
        ")\n",
        "\n",
        "user_ids_vocabulary = tf.keras.layers.experimental.preprocessing.StringLookup(mask_token=None)\n",
        "\n",
        "user_ids_vocabulary.adapt(dataset.map(lambda x: x[\"user_id\"]))\n",
        "\n",
        "nama_resep_vocabulary = tf.keras.layers.experimental.preprocessing.StringLookup(mask_token=None)\n",
        "\n",
        "nama_resep_vocabulary.adapt(dataset.map(lambda x: x[\"nama_resep\"]))\n",
        "\n",
        "nama_resep = dataset.map(lambda x: x[\"nama_resep\"])\n",
        "\n",
        "user_model = tf.keras.Sequential([user_ids_vocabulary, tf.keras.layers.Embedding(user_ids_vocabulary.vocab_size(), 64)])\n",
        "                                 \n",
        "resep_model = tf.keras.Sequential([nama_resep_vocabulary, tf.keras.layers.Embedding(nama_resep_vocabulary.vocab_size(), 64)])\n",
        "\n",
        "task = tfrs.tasks.Retrieval(\n",
        "metrics=tfrs.metrics.FactorizedTopK(nama_resep.batch(4).map(resep_model)))\n",
        "\n",
        "model = SIMPASI_v2(user_model, resep_model, task)\n",
        "\n",
        "model.compile(optimizer=tf.keras.optimizers.Adagrad(0.5))\n",
        "\n",
        "model.fit(ratings.batch(16), epochs=8)"
      ],
      "metadata": {
        "colab": {
          "base_uri": "https://localhost:8080/"
        },
        "id": "sut4WQeVk3gM",
        "outputId": "eba9e8cb-f3f5-441f-9257-9e6c816a9b68"
      },
      "execution_count": null,
      "outputs": [
        {
          "output_type": "stream",
          "name": "stdout",
          "text": [
            "WARNING:tensorflow:vocab_size is deprecated, please use vocabulary_size.\n",
            "WARNING:tensorflow:vocab_size is deprecated, please use vocabulary_size.\n",
            "Epoch 1/8\n",
            "9/9 [==============================] - 3s 180ms/step - factorized_top_k/top_1_categorical_accuracy: 0.0000e+00 - factorized_top_k/top_5_categorical_accuracy: 0.0077 - factorized_top_k/top_10_categorical_accuracy: 0.0231 - factorized_top_k/top_50_categorical_accuracy: 0.3538 - factorized_top_k/top_100_categorical_accuracy: 0.8846 - loss: 35.7427 - regularization_loss: 0.0000e+00 - total_loss: 35.7427\n",
            "Epoch 2/8\n",
            "9/9 [==============================] - 1s 124ms/step - factorized_top_k/top_1_categorical_accuracy: 0.0154 - factorized_top_k/top_5_categorical_accuracy: 0.1000 - factorized_top_k/top_10_categorical_accuracy: 0.2077 - factorized_top_k/top_50_categorical_accuracy: 0.9000 - factorized_top_k/top_100_categorical_accuracy: 1.0000 - loss: 30.7642 - regularization_loss: 0.0000e+00 - total_loss: 30.7642\n",
            "Epoch 3/8\n",
            "9/9 [==============================] - 1s 117ms/step - factorized_top_k/top_1_categorical_accuracy: 0.0154 - factorized_top_k/top_5_categorical_accuracy: 0.1846 - factorized_top_k/top_10_categorical_accuracy: 0.4308 - factorized_top_k/top_50_categorical_accuracy: 0.8385 - factorized_top_k/top_100_categorical_accuracy: 0.9538 - loss: 32.4644 - regularization_loss: 0.0000e+00 - total_loss: 32.4644\n",
            "Epoch 4/8\n",
            "9/9 [==============================] - 1s 114ms/step - factorized_top_k/top_1_categorical_accuracy: 0.1000 - factorized_top_k/top_5_categorical_accuracy: 0.3923 - factorized_top_k/top_10_categorical_accuracy: 0.5385 - factorized_top_k/top_50_categorical_accuracy: 0.8231 - factorized_top_k/top_100_categorical_accuracy: 0.8615 - loss: 38.7137 - regularization_loss: 0.0000e+00 - total_loss: 38.7137\n",
            "Epoch 5/8\n",
            "9/9 [==============================] - 1s 117ms/step - factorized_top_k/top_1_categorical_accuracy: 0.1077 - factorized_top_k/top_5_categorical_accuracy: 0.3308 - factorized_top_k/top_10_categorical_accuracy: 0.5077 - factorized_top_k/top_50_categorical_accuracy: 0.8385 - factorized_top_k/top_100_categorical_accuracy: 0.8692 - loss: 36.8573 - regularization_loss: 0.0000e+00 - total_loss: 36.8573\n",
            "Epoch 6/8\n",
            "9/9 [==============================] - 1s 119ms/step - factorized_top_k/top_1_categorical_accuracy: 0.2077 - factorized_top_k/top_5_categorical_accuracy: 0.4308 - factorized_top_k/top_10_categorical_accuracy: 0.5923 - factorized_top_k/top_50_categorical_accuracy: 0.8154 - factorized_top_k/top_100_categorical_accuracy: 0.8769 - loss: 37.4103 - regularization_loss: 0.0000e+00 - total_loss: 37.4103\n",
            "Epoch 7/8\n",
            "9/9 [==============================] - 1s 117ms/step - factorized_top_k/top_1_categorical_accuracy: 0.1769 - factorized_top_k/top_5_categorical_accuracy: 0.4692 - factorized_top_k/top_10_categorical_accuracy: 0.6615 - factorized_top_k/top_50_categorical_accuracy: 0.9077 - factorized_top_k/top_100_categorical_accuracy: 0.9462 - loss: 26.1303 - regularization_loss: 0.0000e+00 - total_loss: 26.1303\n",
            "Epoch 8/8\n",
            "9/9 [==============================] - 1s 117ms/step - factorized_top_k/top_1_categorical_accuracy: 0.1692 - factorized_top_k/top_5_categorical_accuracy: 0.4385 - factorized_top_k/top_10_categorical_accuracy: 0.6538 - factorized_top_k/top_50_categorical_accuracy: 0.9692 - factorized_top_k/top_100_categorical_accuracy: 0.9923 - loss: 24.2429 - regularization_loss: 0.0000e+00 - total_loss: 24.2429\n"
          ]
        },
        {
          "output_type": "execute_result",
          "data": {
            "text/plain": [
              "<keras.callbacks.History at 0x7fda549f8210>"
            ]
          },
          "metadata": {},
          "execution_count": 84
        }
      ]
    },
    {
      "cell_type": "code",
      "source": [
        "# Create a model that takes in raw query features, and\n",
        "index = tfrs.layers.factorized_top_k.BruteForce(model.user_model)\n",
        "# recommends movies out of the entire movies dataset.\n",
        "index.index_from_dataset(\n",
        "  tf.data.Dataset.zip((nama_resep.batch(100), nama_resep.batch(100).map(model.resep_model)))\n",
        ")\n",
        "\n",
        "# Get recommendations.\n",
        "_, titles = index(tf.constant([\"10\"]))\n",
        "print(f\"Recommendations for user 10: {titles}\")"
      ],
      "metadata": {
        "colab": {
          "base_uri": "https://localhost:8080/"
        },
        "id": "bY2BR_Kbolm6",
        "outputId": "84e8cb22-06ba-40ed-d063-8423b27081ad"
      },
      "execution_count": null,
      "outputs": [
        {
          "output_type": "stream",
          "name": "stdout",
          "text": [
            "Recommendations for user 10: [[b'Bubur Plum' b'Bubur Plum' b'Bubur Plum' b'Bubur Kembang Kol'\n",
            "  b'Bubur Ubi Kembang Kol' b'Bubur Ubi Kembang Kol'\n",
            "  b'Bubur Ubi Kembang Kol' b'Bubur Ubi Kembang Kol'\n",
            "  b'Pure Tepung Beras Putih, Zukini, dan Ubi Kuning'\n",
            "  b'Pure Tepung Beras Putih, Zukini, dan Ubi Kuning']]\n"
          ]
        }
      ]
    },
    {
      "cell_type": "code",
      "source": [
        "with tempfile.TemporaryDirectory() as tmp:\n",
        "\n",
        "  # Save the index.\n",
        "  tf.saved_model.save(obj=index, export_dir=\"export\")\n",
        "\n",
        "converter = tf.lite.TFLiteConverter.from_saved_model(\"export\")\n",
        "tflite_model = converter.convert()"
      ],
      "metadata": {
        "colab": {
          "base_uri": "https://localhost:8080/"
        },
        "id": "S2nhGRXanXox",
        "outputId": "e78f0480-ceee-42f9-cd60-aa7638cefc4a"
      },
      "execution_count": null,
      "outputs": [
        {
          "output_type": "stream",
          "name": "stderr",
          "text": [
            "WARNING:absl:Found untraced functions such as query_with_exclusions while saving (showing 1 of 1). These functions will not be directly callable after loading.\n"
          ]
        },
        {
          "output_type": "stream",
          "name": "stdout",
          "text": [
            "INFO:tensorflow:Assets written to: export/assets\n"
          ]
        },
        {
          "output_type": "stream",
          "name": "stderr",
          "text": [
            "INFO:tensorflow:Assets written to: export/assets\n",
            "WARNING:absl:Buffer deduplication procedure will be skipped when flatbuffer library is not properly loaded\n"
          ]
        }
      ]
    },
    {
      "cell_type": "code",
      "source": [
        "tflite_model_file = pathlib.Path(\"/content/converted_model.tflite\")\n",
        "tflite_model_file.write_bytes(tflite_model)\n",
        "files.download(tflite_model_file)"
      ],
      "metadata": {
        "colab": {
          "base_uri": "https://localhost:8080/",
          "height": 17
        },
        "id": "gSdd9BvrpfT4",
        "outputId": "fbbaa4ac-ff78-426e-b620-5890f431b921"
      },
      "execution_count": null,
      "outputs": [
        {
          "output_type": "display_data",
          "data": {
            "text/plain": [
              "<IPython.core.display.Javascript object>"
            ],
            "application/javascript": [
              "\n",
              "    async function download(id, filename, size) {\n",
              "      if (!google.colab.kernel.accessAllowed) {\n",
              "        return;\n",
              "      }\n",
              "      const div = document.createElement('div');\n",
              "      const label = document.createElement('label');\n",
              "      label.textContent = `Downloading \"${filename}\": `;\n",
              "      div.appendChild(label);\n",
              "      const progress = document.createElement('progress');\n",
              "      progress.max = size;\n",
              "      div.appendChild(progress);\n",
              "      document.body.appendChild(div);\n",
              "\n",
              "      const buffers = [];\n",
              "      let downloaded = 0;\n",
              "\n",
              "      const channel = await google.colab.kernel.comms.open(id);\n",
              "      // Send a message to notify the kernel that we're ready.\n",
              "      channel.send({})\n",
              "\n",
              "      for await (const message of channel.messages) {\n",
              "        // Send a message to notify the kernel that we're ready.\n",
              "        channel.send({})\n",
              "        if (message.buffers) {\n",
              "          for (const buffer of message.buffers) {\n",
              "            buffers.push(buffer);\n",
              "            downloaded += buffer.byteLength;\n",
              "            progress.value = downloaded;\n",
              "          }\n",
              "        }\n",
              "      }\n",
              "      const blob = new Blob(buffers, {type: 'application/binary'});\n",
              "      const a = document.createElement('a');\n",
              "      a.href = window.URL.createObjectURL(blob);\n",
              "      a.download = filename;\n",
              "      div.appendChild(a);\n",
              "      a.click();\n",
              "      div.remove();\n",
              "    }\n",
              "  "
            ]
          },
          "metadata": {}
        },
        {
          "output_type": "display_data",
          "data": {
            "text/plain": [
              "<IPython.core.display.Javascript object>"
            ],
            "application/javascript": [
              "download(\"download_0683de31-46af-4454-9a19-82ad6049e3a9\", \"converted_model.tflite\", 50024)"
            ]
          },
          "metadata": {}
        }
      ]
    },
    {
      "cell_type": "code",
      "execution_count": null,
      "metadata": {
        "id": "C1-Mm3INcR_K"
      },
      "outputs": [],
      "source": [
        "# Make numpy values easier to read.\n",
        "np.set_printoptions(precision=3, suppress=True)"
      ]
    },
    {
      "cell_type": "code",
      "execution_count": null,
      "metadata": {
        "id": "gND1pkNefEZR"
      },
      "outputs": [],
      "source": [
        "feedback = feedback_slices.map(lambda x: {\n",
        "    \"nama_resep\": x[\"nama_resep\"],\n",
        "    \"user_id\": tf.strings.as_string(x[\"user_id\"]),\n",
        "})\n",
        "menu = komposisi_resep_filtered_slices.map(lambda x: x[\"nama_resep\"])"
      ]
    },
    {
      "cell_type": "code",
      "execution_count": null,
      "metadata": {
        "id": "N5oEwnESgHEB"
      },
      "outputs": [],
      "source": [
        "tf.random.set_seed(12)\n",
        "shuffled = feedback.shuffle(100, seed=12, reshuffle_each_iteration=False)\n",
        "\n",
        "train = shuffled.take(80)\n",
        "test = shuffled.skip(80).take(20)"
      ]
    },
    {
      "cell_type": "code",
      "execution_count": null,
      "metadata": {
        "id": "hBy7ETOOgZkZ"
      },
      "outputs": [],
      "source": [
        "nama_resep = menu.batch(10)\n",
        "user_ids = feedback.batch(100).map(lambda x: (x[\"user_id\"]))\n",
        "\n",
        "unique_menu = np.unique(np.concatenate(list(nama_resep)))\n",
        "unique_user_ids = np.unique(np.concatenate(list(user_ids)))"
      ]
    },
    {
      "cell_type": "code",
      "execution_count": null,
      "metadata": {
        "colab": {
          "base_uri": "https://localhost:8080/"
        },
        "id": "a8CuvFRxqOjU",
        "outputId": "dcaae1a2-bc9e-49cd-b236-241931b46a14"
      },
      "outputs": [
        {
          "output_type": "stream",
          "name": "stdout",
          "text": [
            "TensorSpec(shape=(None,), dtype=tf.string, name=None)\n",
            "TensorSpec(shape=(None,), dtype=tf.string, name=None)\n"
          ]
        }
      ],
      "source": [
        "print(nama_resep.element_spec)\n",
        "print(user_ids.element_spec)"
      ]
    },
    {
      "cell_type": "code",
      "execution_count": null,
      "metadata": {
        "colab": {
          "base_uri": "https://localhost:8080/"
        },
        "id": "pZCpV32cic2b",
        "outputId": "2ff91f72-f4d7-4a0f-be63-082eba11f083"
      },
      "outputs": [
        {
          "output_type": "stream",
          "name": "stdout",
          "text": [
            "77\n",
            "[b'Agar-agar Isi Blewah' b'Apel Rebus' b'Apricot Tahu' b'Biskuit Oat Ceri'\n",
            " b'Biskuit Oat Wortel' b'Biskuit Sereal' b'Bola-bola Ubi' b'Bubur Apel'\n",
            " b'Bubur Ayam Kedelai' b'Bubur Ayam Talas Keju' b'Bubur Beras Merah'\n",
            " b'Bubur Buah dan Sayur' b'Bubur Ceri Alpukat' b'Bubur Hunkwe Susu Keju'\n",
            " b'Bubur Jagung Bayam Tahu' b'Bubur Jagung Susu' b'Bubur Jagung Wortel'\n",
            " b'Bubur Kacang Hijau Kurma' b'Bubur Kacang Polong' b'Bubur Kembang Kol'\n",
            " b'Bubur Kentang' b'Bubur Kentang Edamame' b'Bubur Labu Brokoli'\n",
            " b'Bubur Makaroni Teri Bayam' b'Bubur Oatmeal' b'Bubur Pepaya'\n",
            " b'Bubur Pir' b'Bubur Pisang' b'Bubur Pisang Jeruk'\n",
            " b'Bubur Pisang Kentang' b'Bubur Pisang Tomat' b'Bubur Pisang Ubi'\n",
            " b'Bubur Plum' b'Bubur Sawi Wortel' b'Bubur Singkong Apel'\n",
            " b'Bubur Susu Kacang Polong' b'Bubur Tahu' b'Bubur Tahu Wortel'\n",
            " b'Bubur Talas Apel' b'Bubur Tempe' b'Bubur Tempe Beras Merah'\n",
            " b'Bubur Tomat Kacang Merah' b'Bubur Ubi Bayam Kacang Polong'\n",
            " b'Bubur Ubi Kembang Kol' b'Bubur Wortel' b'Daging Ungkep'\n",
            " b'Ikan Kembung Panggang' b'Jus Alpukat Jeruk' b'Jus Melon Alpukat'\n",
            " b'Jus Pisang Kurma' b'Kue Pisang' b'Kukis Batang Keju'\n",
            " b'Kukis Havermut Apel' b'Kukis Meses' b'Kukis Oatmeal Keju'\n",
            " b'Lapis Mangga' b'Oatmeal Kurma' b'Pancake Labu' b'Perkedel Lele'\n",
            " b'Pisang Mangga Rebus' b'Puding Jeruk Pepaya'\n",
            " b'Puding Yogurt Saus Alpukat' b'Pure Alpukat dan Pepaya'\n",
            " b'Pure Apel dan Papaya' b'Pure Jagung Manis' b'Pure Pisang dan Pepaya'\n",
            " b'Pure Tepung Beras Putih, Zukini, dan Ubi Kuning' b'Pure Tiga Rasa'\n",
            " b'Pure Ubi Kuning' b'Pure Ubi Kuning dan Beras Merah' b'Sayur Kukus'\n",
            " b'Smoothies Pisang' b'Sup Labu Kuning' b'Sup Mihun Ikan Gabus'\n",
            " b'Tim Lele' b'Tim Saring' b'Yoghurt Buah Pop']\n",
            "41\n",
            "[b'1' b'11' b'12' b'15' b'19' b'2' b'23' b'25' b'26' b'28' b'3' b'31'\n",
            " b'32' b'34' b'35' b'36' b'39' b'42' b'5' b'51' b'58' b'6' b'64' b'66'\n",
            " b'7' b'71' b'74' b'77' b'78' b'79' b'80' b'81' b'86' b'88' b'9' b'90'\n",
            " b'93' b'94' b'95' b'97' b'99']\n"
          ]
        }
      ],
      "source": [
        "print(len(unique_menu))\n",
        "print(unique_menu)\n",
        "print(len(unique_user_ids))\n",
        "print(unique_user_ids)"
      ]
    },
    {
      "cell_type": "code",
      "execution_count": null,
      "metadata": {
        "id": "5btujF0Tgpo_"
      },
      "outputs": [],
      "source": [
        "embedding_dimension = 16"
      ]
    },
    {
      "cell_type": "code",
      "execution_count": null,
      "metadata": {
        "id": "vuI2Sf7qhFKR"
      },
      "outputs": [],
      "source": [
        "#Query Tower\n",
        "user_model = tf.keras.Sequential([\n",
        "  tf.keras.layers.StringLookup(\n",
        "      vocabulary=unique_user_ids, mask_token=None),\n",
        "  # We add an additional embedding to account for unknown tokens.\n",
        "  tf.keras.layers.Embedding(len(unique_user_ids) + 1, embedding_dimension)\n",
        "])"
      ]
    },
    {
      "cell_type": "code",
      "execution_count": null,
      "metadata": {
        "id": "0FUG3VeKj7DB"
      },
      "outputs": [],
      "source": [
        "#Candidate Tower\n",
        "menu_model = tf.keras.Sequential([\n",
        "  tf.keras.layers.StringLookup(\n",
        "      vocabulary=unique_menu, mask_token=None),\n",
        "  tf.keras.layers.Embedding(len(unique_menu) + 1, embedding_dimension)\n",
        "])"
      ]
    },
    {
      "cell_type": "code",
      "execution_count": null,
      "metadata": {
        "id": "SOrJCmabqOZg"
      },
      "outputs": [],
      "source": [
        "#metrics\n",
        "metrics = tfrs.metrics.FactorizedTopK(\n",
        "  candidates=menu.batch(64).map(menu_model)\n",
        ")"
      ]
    },
    {
      "cell_type": "code",
      "execution_count": null,
      "metadata": {
        "id": "eu_W9n8TqcfV"
      },
      "outputs": [],
      "source": [
        "#loss\n",
        "task = tfrs.tasks.Retrieval(\n",
        "  metrics=metrics\n",
        ")"
      ]
    },
    {
      "cell_type": "code",
      "execution_count": null,
      "metadata": {
        "id": "3sUnw04Eqm7Y"
      },
      "outputs": [],
      "source": [
        "class SIMPASIModel(tfrs.Model):\n",
        "\n",
        "  def __init__(self, user_model, menu_model):\n",
        "    super().__init__()\n",
        "    self.menu_model: tf.keras.Model = menu_model\n",
        "    self.user_model: tf.keras.Model = user_model\n",
        "    self.task: tf.keras.layers.Layer = task\n",
        "\n",
        "  def compute_loss(self, features: Dict[Text, tf.Tensor], training=False) -> tf.Tensor:\n",
        "    # We pick out the user features and pass them into the user model.\n",
        "    user_embeddings = self.user_model(features[\"user_id\"])\n",
        "    # And pick out the movie features and pass them into the movie model,\n",
        "    # getting embeddings back.\n",
        "    positive_menu_embeddings = self.menu_model(features[\"nama_resep\"])\n",
        "\n",
        "    # The task computes the loss and the metrics.\n",
        "    return self.task(user_embeddings, positive_menu_embeddings)"
      ]
    },
    {
      "cell_type": "code",
      "execution_count": null,
      "metadata": {
        "id": "m2TmUQJssDU_"
      },
      "outputs": [],
      "source": [
        "class NoBaseClassSIMPASIModel(tf.keras.Model):\n",
        "\n",
        "  def __init__(self, user_model, menu_model):\n",
        "    super().__init__()\n",
        "    self.menu_model: tf.keras.Model = menu_model\n",
        "    self.user_model: tf.keras.Model = user_model\n",
        "    self.task: tf.keras.layers.Layer = task\n",
        "\n",
        "  def train_step(self, features: Dict[Text, tf.Tensor]) -> tf.Tensor:\n",
        "\n",
        "    # Set up a gradient tape to record gradients.\n",
        "    with tf.GradientTape() as tape:\n",
        "\n",
        "      # Loss computation.\n",
        "      user_embeddings = self.user_model(features[\"user_id\"])\n",
        "      positive_menu_embeddings = self.menu_model(features[\"nama_resep\"])\n",
        "      loss = self.task(user_embeddings, positive_menu_embeddings)\n",
        "\n",
        "      # Handle regularization losses as well.\n",
        "      regularization_loss = sum(self.losses)\n",
        "\n",
        "      total_loss = loss + regularization_loss\n",
        "\n",
        "    gradients = tape.gradient(total_loss, self.trainable_variables)\n",
        "    self.optimizer.apply_gradients(zip(gradients, self.trainable_variables))\n",
        "\n",
        "    metrics = {metric.name: metric.result() for metric in self.metrics}\n",
        "    metrics[\"loss\"] = loss\n",
        "    metrics[\"regularization_loss\"] = regularization_loss\n",
        "    metrics[\"total_loss\"] = total_loss\n",
        "\n",
        "    return metrics\n",
        "\n",
        "  def test_step(self, features: Dict[Text, tf.Tensor]) -> tf.Tensor:\n",
        "\n",
        "    # Loss computation.\n",
        "    user_embeddings = self.user_model(features[\"user_id\"])\n",
        "    positive_menu_embeddings = self.movie_model(features[\"nama_resep\"])\n",
        "    loss = self.task(user_embeddings, positive_menu_embeddings)\n",
        "\n",
        "    # Handle regularization losses as well.\n",
        "    regularization_loss = sum(self.losses)\n",
        "\n",
        "    total_loss = loss + regularization_loss\n",
        "\n",
        "    metrics = {metric.name: metric.result() for metric in self.metrics}\n",
        "    metrics[\"loss\"] = loss\n",
        "    metrics[\"regularization_loss\"] = regularization_loss\n",
        "    metrics[\"total_loss\"] = total_loss\n",
        "\n",
        "    return metrics"
      ]
    },
    {
      "cell_type": "code",
      "execution_count": null,
      "metadata": {
        "id": "F-EdslV1upu_"
      },
      "outputs": [],
      "source": [
        "model = SIMPASIModel(user_model, menu_model)\n",
        "model.compile(optimizer=tf.keras.optimizers.Adagrad(learning_rate=0.1))"
      ]
    },
    {
      "cell_type": "code",
      "execution_count": null,
      "metadata": {
        "id": "cmULiqpQu7ZI"
      },
      "outputs": [],
      "source": [
        "cached_train = train.shuffle(10).batch(16).cache()\n",
        "cached_test = test.batch(8).cache()"
      ]
    },
    {
      "cell_type": "code",
      "source": [
        "cached_train.element_spec"
      ],
      "metadata": {
        "colab": {
          "base_uri": "https://localhost:8080/"
        },
        "id": "8rCQ8xKW1ETx",
        "outputId": "33900dfc-c125-4e9d-dff3-adc7d6dad870"
      },
      "execution_count": null,
      "outputs": [
        {
          "output_type": "execute_result",
          "data": {
            "text/plain": [
              "{'nama_resep': TensorSpec(shape=(None,), dtype=tf.string, name=None),\n",
              " 'user_id': TensorSpec(shape=(None,), dtype=tf.string, name=None)}"
            ]
          },
          "metadata": {},
          "execution_count": 46
        }
      ]
    },
    {
      "cell_type": "code",
      "source": [
        "print(cached_test)"
      ],
      "metadata": {
        "colab": {
          "base_uri": "https://localhost:8080/"
        },
        "id": "E7ivddINqTv9",
        "outputId": "32cf4a38-6819-45ae-9ea1-a9c5955d12e7"
      },
      "execution_count": null,
      "outputs": [
        {
          "output_type": "stream",
          "name": "stdout",
          "text": [
            "<CacheDataset element_spec={'nama_resep': TensorSpec(shape=(None,), dtype=tf.string, name=None), 'user_id': TensorSpec(shape=(None,), dtype=tf.string, name=None)}>\n"
          ]
        }
      ]
    },
    {
      "cell_type": "code",
      "execution_count": null,
      "metadata": {
        "colab": {
          "base_uri": "https://localhost:8080/"
        },
        "id": "r5wmKlEPwGVa",
        "outputId": "0aacaa3c-a5c5-4f05-e26f-3c4e458fb7d0"
      },
      "outputs": [
        {
          "output_type": "stream",
          "name": "stdout",
          "text": [
            "Epoch 1/10\n",
            "5/5 [==============================] - 2s 50ms/step - factorized_top_k/top_1_categorical_accuracy: 0.0000e+00 - factorized_top_k/top_5_categorical_accuracy: 0.0625 - factorized_top_k/top_10_categorical_accuracy: 0.1625 - factorized_top_k/top_50_categorical_accuracy: 0.7250 - factorized_top_k/top_100_categorical_accuracy: 1.0000 - loss: 44.3568 - regularization_loss: 0.0000e+00 - total_loss: 44.3568\n",
            "Epoch 2/10\n",
            "5/5 [==============================] - 0s 53ms/step - factorized_top_k/top_1_categorical_accuracy: 0.0625 - factorized_top_k/top_5_categorical_accuracy: 0.4750 - factorized_top_k/top_10_categorical_accuracy: 0.6875 - factorized_top_k/top_50_categorical_accuracy: 0.9750 - factorized_top_k/top_100_categorical_accuracy: 1.0000 - loss: 44.2037 - regularization_loss: 0.0000e+00 - total_loss: 44.2037\n",
            "Epoch 3/10\n",
            "5/5 [==============================] - 0s 46ms/step - factorized_top_k/top_1_categorical_accuracy: 0.0750 - factorized_top_k/top_5_categorical_accuracy: 0.8375 - factorized_top_k/top_10_categorical_accuracy: 0.9500 - factorized_top_k/top_50_categorical_accuracy: 0.9875 - factorized_top_k/top_100_categorical_accuracy: 1.0000 - loss: 43.8314 - regularization_loss: 0.0000e+00 - total_loss: 43.8314\n",
            "Epoch 4/10\n",
            "5/5 [==============================] - 0s 47ms/step - factorized_top_k/top_1_categorical_accuracy: 0.0875 - factorized_top_k/top_5_categorical_accuracy: 0.9250 - factorized_top_k/top_10_categorical_accuracy: 0.9750 - factorized_top_k/top_50_categorical_accuracy: 1.0000 - factorized_top_k/top_100_categorical_accuracy: 1.0000 - loss: 42.8357 - regularization_loss: 0.0000e+00 - total_loss: 42.8357\n",
            "Epoch 5/10\n",
            "5/5 [==============================] - 0s 45ms/step - factorized_top_k/top_1_categorical_accuracy: 0.0875 - factorized_top_k/top_5_categorical_accuracy: 0.9375 - factorized_top_k/top_10_categorical_accuracy: 1.0000 - factorized_top_k/top_50_categorical_accuracy: 1.0000 - factorized_top_k/top_100_categorical_accuracy: 1.0000 - loss: 40.7284 - regularization_loss: 0.0000e+00 - total_loss: 40.7284\n",
            "Epoch 6/10\n",
            "5/5 [==============================] - 0s 51ms/step - factorized_top_k/top_1_categorical_accuracy: 0.0875 - factorized_top_k/top_5_categorical_accuracy: 0.9500 - factorized_top_k/top_10_categorical_accuracy: 1.0000 - factorized_top_k/top_50_categorical_accuracy: 1.0000 - factorized_top_k/top_100_categorical_accuracy: 1.0000 - loss: 37.4413 - regularization_loss: 0.0000e+00 - total_loss: 37.4413\n",
            "Epoch 7/10\n",
            "5/5 [==============================] - 0s 51ms/step - factorized_top_k/top_1_categorical_accuracy: 0.0875 - factorized_top_k/top_5_categorical_accuracy: 0.9500 - factorized_top_k/top_10_categorical_accuracy: 1.0000 - factorized_top_k/top_50_categorical_accuracy: 1.0000 - factorized_top_k/top_100_categorical_accuracy: 1.0000 - loss: 33.4184 - regularization_loss: 0.0000e+00 - total_loss: 33.4184\n",
            "Epoch 8/10\n",
            "5/5 [==============================] - 0s 51ms/step - factorized_top_k/top_1_categorical_accuracy: 0.0875 - factorized_top_k/top_5_categorical_accuracy: 0.9875 - factorized_top_k/top_10_categorical_accuracy: 1.0000 - factorized_top_k/top_50_categorical_accuracy: 1.0000 - factorized_top_k/top_100_categorical_accuracy: 1.0000 - loss: 29.1836 - regularization_loss: 0.0000e+00 - total_loss: 29.1836\n",
            "Epoch 9/10\n",
            "5/5 [==============================] - 0s 45ms/step - factorized_top_k/top_1_categorical_accuracy: 0.1125 - factorized_top_k/top_5_categorical_accuracy: 0.9875 - factorized_top_k/top_10_categorical_accuracy: 1.0000 - factorized_top_k/top_50_categorical_accuracy: 1.0000 - factorized_top_k/top_100_categorical_accuracy: 1.0000 - loss: 25.1959 - regularization_loss: 0.0000e+00 - total_loss: 25.1959\n",
            "Epoch 10/10\n",
            "5/5 [==============================] - 0s 47ms/step - factorized_top_k/top_1_categorical_accuracy: 0.1125 - factorized_top_k/top_5_categorical_accuracy: 0.9875 - factorized_top_k/top_10_categorical_accuracy: 1.0000 - factorized_top_k/top_50_categorical_accuracy: 1.0000 - factorized_top_k/top_100_categorical_accuracy: 1.0000 - loss: 21.7684 - regularization_loss: 0.0000e+00 - total_loss: 21.7684\n"
          ]
        }
      ],
      "source": [
        "history = model.fit(cached_train, epochs=10)"
      ]
    },
    {
      "cell_type": "code",
      "execution_count": null,
      "metadata": {
        "colab": {
          "base_uri": "https://localhost:8080/"
        },
        "id": "HM7V9qTfWn1K",
        "outputId": "33ffd28e-547b-49e8-b39d-5b9e443c1b36"
      },
      "outputs": [
        {
          "output_type": "stream",
          "name": "stdout",
          "text": [
            "3/3 [==============================] - 0s 53ms/step - factorized_top_k/top_1_categorical_accuracy: 0.0000e+00 - factorized_top_k/top_5_categorical_accuracy: 0.1500 - factorized_top_k/top_10_categorical_accuracy: 0.2000 - factorized_top_k/top_50_categorical_accuracy: 0.6500 - factorized_top_k/top_100_categorical_accuracy: 1.0000 - loss: 11.4629 - regularization_loss: 0.0000e+00 - total_loss: 11.4629\n"
          ]
        },
        {
          "output_type": "execute_result",
          "data": {
            "text/plain": [
              "{'factorized_top_k/top_100_categorical_accuracy': 1.0,\n",
              " 'factorized_top_k/top_10_categorical_accuracy': 0.20000000298023224,\n",
              " 'factorized_top_k/top_1_categorical_accuracy': 0.0,\n",
              " 'factorized_top_k/top_50_categorical_accuracy': 0.6499999761581421,\n",
              " 'factorized_top_k/top_5_categorical_accuracy': 0.15000000596046448,\n",
              " 'loss': 6.065029144287109,\n",
              " 'regularization_loss': 0,\n",
              " 'total_loss': 6.065029144287109}"
            ]
          },
          "metadata": {},
          "execution_count": 49
        }
      ],
      "source": [
        "model.evaluate(cached_test, return_dict=True)"
      ]
    },
    {
      "cell_type": "code",
      "execution_count": null,
      "metadata": {
        "colab": {
          "base_uri": "https://localhost:8080/"
        },
        "id": "oNeUgltF3oHO",
        "outputId": "2b8a7082-297e-44f0-af92-dd8deb9e67f9"
      },
      "outputs": [
        {
          "output_type": "stream",
          "name": "stdout",
          "text": [
            "Recommendations for user 10: [[b'Bubur Kentang Edamame' b'Pure Ubi Kuning dan Beras Merah'\n",
            "  b'Bubur Susu Kacang Polong' b'Bubur Singkong Apel' b'Pure Tiga Rasa'\n",
            "  b'Bubur Oatmeal' b'Perkedel Lele' b'Bubur Wortel' b'Daging Ungkep'\n",
            "  b'Bola-bola Ubi']]\n"
          ]
        }
      ],
      "source": [
        "# Create a model that takes in raw query features, and\n",
        "index = tfrs.layers.factorized_top_k.BruteForce(model.user_model)\n",
        "# recommends movies out of the entire movies dataset.\n",
        "index.index_from_dataset(\n",
        "  tf.data.Dataset.zip((menu.batch(100), menu.batch(100).map(model.menu_model)))\n",
        ")\n",
        "\n",
        "# Get recommendations.\n",
        "_, titles = index(tf.constant([\"10\"]))\n",
        "print(f\"Recommendations for user 10: {titles}\")"
      ]
    },
    {
      "cell_type": "code",
      "source": [
        "# Export the query model.\n",
        "with tempfile.TemporaryDirectory() as tmp:\n",
        "\n",
        "  # Save the index.\n",
        "  tf.saved_model.save(obj=index, export_dir=\"export\")\n",
        "\n",
        "  # Load it back; can also be done in TensorFlow Serving.\n",
        "  loaded = tf.saved_model.load(\"export\")\n",
        "\n",
        "  print(loaded)\n",
        "  # Pass a user id in, get top predicted movie titles back.\n",
        "  scores, titles = loaded([\"32\"])\n",
        "\n",
        "  print(f\"Recommendations: {titles[0][:3]}\")\n",
        "  loaded"
      ],
      "metadata": {
        "id": "3gez7-kY5E4b",
        "colab": {
          "base_uri": "https://localhost:8080/"
        },
        "outputId": "d7b7822e-ecf9-4034-fdbd-fd11a1e0e065"
      },
      "execution_count": null,
      "outputs": [
        {
          "output_type": "stream",
          "name": "stderr",
          "text": [
            "WARNING:absl:Found untraced functions such as query_with_exclusions while saving (showing 1 of 1). These functions will not be directly callable after loading.\n"
          ]
        },
        {
          "output_type": "stream",
          "name": "stdout",
          "text": [
            "INFO:tensorflow:Assets written to: export/assets\n"
          ]
        },
        {
          "output_type": "stream",
          "name": "stderr",
          "text": [
            "INFO:tensorflow:Assets written to: export/assets\n"
          ]
        },
        {
          "output_type": "stream",
          "name": "stdout",
          "text": [
            "<tensorflow.python.saved_model.load.Loader._recreate_base_user_object.<locals>._UserObject object at 0x7ff0db0fa790>\n",
            "Recommendations: [b'Bubur Talas Apel' b'Bubur Jagung Wortel' b'Kukis Havermut Apel']\n"
          ]
        }
      ]
    },
    {
      "cell_type": "code",
      "source": [
        "#tflite\n",
        "converter = tf.lite.TFLiteConverter.from_saved_model(\"export\")\n",
        "tflite_model = converter.convert()\n",
        "open(\"converted_model.tflite\", \"wb\").write(tflite_model)"
      ],
      "metadata": {
        "id": "doJJS0VE5VOY",
        "outputId": "0bb5adf2-db27-4240-b487-01deea087506",
        "colab": {
          "base_uri": "https://localhost:8080/"
        }
      },
      "execution_count": null,
      "outputs": [
        {
          "output_type": "stream",
          "name": "stderr",
          "text": [
            "WARNING:absl:Buffer deduplication procedure will be skipped when flatbuffer library is not properly loaded\n"
          ]
        },
        {
          "output_type": "execute_result",
          "data": {
            "text/plain": [
              "12392"
            ]
          },
          "metadata": {},
          "execution_count": 54
        }
      ]
    },
    {
      "cell_type": "code",
      "source": [
        "#h5\n",
        "model.save_weights('model_weight', save_format='tf')"
      ],
      "metadata": {
        "id": "NJtTXPZZUK8d"
      },
      "execution_count": null,
      "outputs": []
    },
    {
      "cell_type": "code",
      "source": [
        "pb_model_dir = \"/content/saved_model.pb\"\n",
        "h5_model = \"/mymodel.h5\""
      ],
      "metadata": {
        "id": "zGa93IMlXDPX"
      },
      "execution_count": null,
      "outputs": []
    },
    {
      "cell_type": "code",
      "source": [
        "# Loading the Tensorflow Saved Model (PB)\n",
        "model_v2 = tf.keras.models.load_model(pb_model_dir)\n",
        "print(model.summary())\n",
        "\n",
        "# Saving the Model in H5 Format\n",
        "tf.keras.models.save_model(model_v2, h5_model)\n",
        "\n",
        "# Loading the H5 Saved Model\n",
        "loaded_model_from_h5 = tf.keras.models.load_model(h5_model)\n",
        "print(loaded_model_from_h5.summary())"
      ],
      "metadata": {
        "colab": {
          "base_uri": "https://localhost:8080/",
          "height": 484
        },
        "id": "RLP3vl8fXlDd",
        "outputId": "30fafb8c-1192-4e1e-e993-38ba7cee9963"
      },
      "execution_count": null,
      "outputs": [
        {
          "output_type": "error",
          "ename": "OSError",
          "evalue": "ignored",
          "traceback": [
            "\u001b[0;31m---------------------------------------------------------------------------\u001b[0m",
            "\u001b[0;31mOSError\u001b[0m                                   Traceback (most recent call last)",
            "\u001b[0;32m<ipython-input-87-7b7fbfc308c8>\u001b[0m in \u001b[0;36m<module>\u001b[0;34m()\u001b[0m\n\u001b[1;32m      1\u001b[0m \u001b[0;31m# Loading the Tensorflow Saved Model (PB)\u001b[0m\u001b[0;34m\u001b[0m\u001b[0;34m\u001b[0m\u001b[0;34m\u001b[0m\u001b[0m\n\u001b[0;32m----> 2\u001b[0;31m \u001b[0mmodel_v2\u001b[0m \u001b[0;34m=\u001b[0m \u001b[0mtf\u001b[0m\u001b[0;34m.\u001b[0m\u001b[0mkeras\u001b[0m\u001b[0;34m.\u001b[0m\u001b[0mmodels\u001b[0m\u001b[0;34m.\u001b[0m\u001b[0mload_model\u001b[0m\u001b[0;34m(\u001b[0m\u001b[0mpb_model_dir\u001b[0m\u001b[0;34m)\u001b[0m\u001b[0;34m\u001b[0m\u001b[0;34m\u001b[0m\u001b[0m\n\u001b[0m\u001b[1;32m      3\u001b[0m \u001b[0mprint\u001b[0m\u001b[0;34m(\u001b[0m\u001b[0mmodel\u001b[0m\u001b[0;34m.\u001b[0m\u001b[0msummary\u001b[0m\u001b[0;34m(\u001b[0m\u001b[0;34m)\u001b[0m\u001b[0;34m)\u001b[0m\u001b[0;34m\u001b[0m\u001b[0;34m\u001b[0m\u001b[0m\n\u001b[1;32m      4\u001b[0m \u001b[0;34m\u001b[0m\u001b[0m\n\u001b[1;32m      5\u001b[0m \u001b[0;31m# Saving the Model in H5 Format\u001b[0m\u001b[0;34m\u001b[0m\u001b[0;34m\u001b[0m\u001b[0;34m\u001b[0m\u001b[0m\n",
            "\u001b[0;32m/usr/local/lib/python3.7/dist-packages/keras/utils/traceback_utils.py\u001b[0m in \u001b[0;36merror_handler\u001b[0;34m(*args, **kwargs)\u001b[0m\n\u001b[1;32m     65\u001b[0m     \u001b[0;32mexcept\u001b[0m \u001b[0mException\u001b[0m \u001b[0;32mas\u001b[0m \u001b[0me\u001b[0m\u001b[0;34m:\u001b[0m  \u001b[0;31m# pylint: disable=broad-except\u001b[0m\u001b[0;34m\u001b[0m\u001b[0;34m\u001b[0m\u001b[0m\n\u001b[1;32m     66\u001b[0m       \u001b[0mfiltered_tb\u001b[0m \u001b[0;34m=\u001b[0m \u001b[0m_process_traceback_frames\u001b[0m\u001b[0;34m(\u001b[0m\u001b[0me\u001b[0m\u001b[0;34m.\u001b[0m\u001b[0m__traceback__\u001b[0m\u001b[0;34m)\u001b[0m\u001b[0;34m\u001b[0m\u001b[0;34m\u001b[0m\u001b[0m\n\u001b[0;32m---> 67\u001b[0;31m       \u001b[0;32mraise\u001b[0m \u001b[0me\u001b[0m\u001b[0;34m.\u001b[0m\u001b[0mwith_traceback\u001b[0m\u001b[0;34m(\u001b[0m\u001b[0mfiltered_tb\u001b[0m\u001b[0;34m)\u001b[0m \u001b[0;32mfrom\u001b[0m \u001b[0;32mNone\u001b[0m\u001b[0;34m\u001b[0m\u001b[0;34m\u001b[0m\u001b[0m\n\u001b[0m\u001b[1;32m     68\u001b[0m     \u001b[0;32mfinally\u001b[0m\u001b[0;34m:\u001b[0m\u001b[0;34m\u001b[0m\u001b[0;34m\u001b[0m\u001b[0m\n\u001b[1;32m     69\u001b[0m       \u001b[0;32mdel\u001b[0m \u001b[0mfiltered_tb\u001b[0m\u001b[0;34m\u001b[0m\u001b[0;34m\u001b[0m\u001b[0m\n",
            "\u001b[0;32m/usr/local/lib/python3.7/dist-packages/h5py/_hl/files.py\u001b[0m in \u001b[0;36m__init__\u001b[0;34m(self, name, mode, driver, libver, userblock_size, swmr, rdcc_nslots, rdcc_nbytes, rdcc_w0, track_order, fs_strategy, fs_persist, fs_threshold, **kwds)\u001b[0m\n\u001b[1;32m    425\u001b[0m                                fapl, fcpl=make_fcpl(track_order=track_order, fs_strategy=fs_strategy,\n\u001b[1;32m    426\u001b[0m                                fs_persist=fs_persist, fs_threshold=fs_threshold),\n\u001b[0;32m--> 427\u001b[0;31m                                swmr=swmr)\n\u001b[0m\u001b[1;32m    428\u001b[0m \u001b[0;34m\u001b[0m\u001b[0m\n\u001b[1;32m    429\u001b[0m             \u001b[0;32mif\u001b[0m \u001b[0misinstance\u001b[0m\u001b[0;34m(\u001b[0m\u001b[0mlibver\u001b[0m\u001b[0;34m,\u001b[0m \u001b[0mtuple\u001b[0m\u001b[0;34m)\u001b[0m\u001b[0;34m:\u001b[0m\u001b[0;34m\u001b[0m\u001b[0;34m\u001b[0m\u001b[0m\n",
            "\u001b[0;32m/usr/local/lib/python3.7/dist-packages/h5py/_hl/files.py\u001b[0m in \u001b[0;36mmake_fid\u001b[0;34m(name, mode, userblock_size, fapl, fcpl, swmr)\u001b[0m\n\u001b[1;32m    188\u001b[0m         \u001b[0;32mif\u001b[0m \u001b[0mswmr\u001b[0m \u001b[0;32mand\u001b[0m \u001b[0mswmr_support\u001b[0m\u001b[0;34m:\u001b[0m\u001b[0;34m\u001b[0m\u001b[0;34m\u001b[0m\u001b[0m\n\u001b[1;32m    189\u001b[0m             \u001b[0mflags\u001b[0m \u001b[0;34m|=\u001b[0m \u001b[0mh5f\u001b[0m\u001b[0;34m.\u001b[0m\u001b[0mACC_SWMR_READ\u001b[0m\u001b[0;34m\u001b[0m\u001b[0;34m\u001b[0m\u001b[0m\n\u001b[0;32m--> 190\u001b[0;31m         \u001b[0mfid\u001b[0m \u001b[0;34m=\u001b[0m \u001b[0mh5f\u001b[0m\u001b[0;34m.\u001b[0m\u001b[0mopen\u001b[0m\u001b[0;34m(\u001b[0m\u001b[0mname\u001b[0m\u001b[0;34m,\u001b[0m \u001b[0mflags\u001b[0m\u001b[0;34m,\u001b[0m \u001b[0mfapl\u001b[0m\u001b[0;34m=\u001b[0m\u001b[0mfapl\u001b[0m\u001b[0;34m)\u001b[0m\u001b[0;34m\u001b[0m\u001b[0;34m\u001b[0m\u001b[0m\n\u001b[0m\u001b[1;32m    191\u001b[0m     \u001b[0;32melif\u001b[0m \u001b[0mmode\u001b[0m \u001b[0;34m==\u001b[0m \u001b[0;34m'r+'\u001b[0m\u001b[0;34m:\u001b[0m\u001b[0;34m\u001b[0m\u001b[0;34m\u001b[0m\u001b[0m\n\u001b[1;32m    192\u001b[0m         \u001b[0mfid\u001b[0m \u001b[0;34m=\u001b[0m \u001b[0mh5f\u001b[0m\u001b[0;34m.\u001b[0m\u001b[0mopen\u001b[0m\u001b[0;34m(\u001b[0m\u001b[0mname\u001b[0m\u001b[0;34m,\u001b[0m \u001b[0mh5f\u001b[0m\u001b[0;34m.\u001b[0m\u001b[0mACC_RDWR\u001b[0m\u001b[0;34m,\u001b[0m \u001b[0mfapl\u001b[0m\u001b[0;34m=\u001b[0m\u001b[0mfapl\u001b[0m\u001b[0;34m)\u001b[0m\u001b[0;34m\u001b[0m\u001b[0;34m\u001b[0m\u001b[0m\n",
            "\u001b[0;32mh5py/_objects.pyx\u001b[0m in \u001b[0;36mh5py._objects.with_phil.wrapper\u001b[0;34m()\u001b[0m\n",
            "\u001b[0;32mh5py/_objects.pyx\u001b[0m in \u001b[0;36mh5py._objects.with_phil.wrapper\u001b[0;34m()\u001b[0m\n",
            "\u001b[0;32mh5py/h5f.pyx\u001b[0m in \u001b[0;36mh5py.h5f.open\u001b[0;34m()\u001b[0m\n",
            "\u001b[0;31mOSError\u001b[0m: Unable to open file (file signature not found)"
          ]
        }
      ]
    },
    {
      "cell_type": "code",
      "source": [
        "model = tf.keras.models.load_model(pb_model_dir)\n",
        "print(model.summary())"
      ],
      "metadata": {
        "id": "tJVmWu8SXiwO",
        "colab": {
          "base_uri": "https://localhost:8080/",
          "height": 183
        },
        "outputId": "19c0f48c-9e17-4466-8d64-61cd1505471b"
      },
      "execution_count": null,
      "outputs": [
        {
          "output_type": "error",
          "ename": "NameError",
          "evalue": "ignored",
          "traceback": [
            "\u001b[0;31m---------------------------------------------------------------------------\u001b[0m",
            "\u001b[0;31mNameError\u001b[0m                                 Traceback (most recent call last)",
            "\u001b[0;32m<ipython-input-55-7e213d18f81f>\u001b[0m in \u001b[0;36m<module>\u001b[0;34m()\u001b[0m\n\u001b[0;32m----> 1\u001b[0;31m \u001b[0mmodel\u001b[0m \u001b[0;34m=\u001b[0m \u001b[0mtf\u001b[0m\u001b[0;34m.\u001b[0m\u001b[0mkeras\u001b[0m\u001b[0;34m.\u001b[0m\u001b[0mmodels\u001b[0m\u001b[0;34m.\u001b[0m\u001b[0mload_model\u001b[0m\u001b[0;34m(\u001b[0m\u001b[0mpb_model_dir\u001b[0m\u001b[0;34m)\u001b[0m\u001b[0;34m\u001b[0m\u001b[0;34m\u001b[0m\u001b[0m\n\u001b[0m\u001b[1;32m      2\u001b[0m \u001b[0mprint\u001b[0m\u001b[0;34m(\u001b[0m\u001b[0mmodel\u001b[0m\u001b[0;34m.\u001b[0m\u001b[0msummary\u001b[0m\u001b[0;34m(\u001b[0m\u001b[0;34m)\u001b[0m\u001b[0;34m)\u001b[0m\u001b[0;34m\u001b[0m\u001b[0;34m\u001b[0m\u001b[0m\n",
            "\u001b[0;31mNameError\u001b[0m: name 'pb_model_dir' is not defined"
          ]
        }
      ]
    },
    {
      "cell_type": "code",
      "source": [
        "converter = tf.lite.TFLiteConverter.from_keras_model(model)\n",
        "tflite_model = converter.convert()"
      ],
      "metadata": {
        "colab": {
          "base_uri": "https://localhost:8080/",
          "height": 435
        },
        "id": "LKEYK9fm6jP9",
        "outputId": "32eeef08-a8d3-4e94-f5c2-2b1ffeb8b9b3"
      },
      "execution_count": null,
      "outputs": [
        {
          "output_type": "stream",
          "name": "stdout",
          "text": [
            "WARNING:tensorflow:Skipping full serialization of Keras layer <__main__.SIMPASIModel object at 0x7ff0e2e269d0>, because it is not built.\n"
          ]
        },
        {
          "output_type": "stream",
          "name": "stderr",
          "text": [
            "WARNING:tensorflow:Skipping full serialization of Keras layer <__main__.SIMPASIModel object at 0x7ff0e2e269d0>, because it is not built.\n"
          ]
        },
        {
          "output_type": "stream",
          "name": "stdout",
          "text": [
            "WARNING:tensorflow:Skipping full serialization of Keras layer <tensorflow_recommenders.metrics.factorized_top_k.FactorizedTopK object at 0x7ff0e835ca90>, because it is not built.\n"
          ]
        },
        {
          "output_type": "stream",
          "name": "stderr",
          "text": [
            "WARNING:tensorflow:Skipping full serialization of Keras layer <tensorflow_recommenders.metrics.factorized_top_k.FactorizedTopK object at 0x7ff0e835ca90>, because it is not built.\n"
          ]
        },
        {
          "output_type": "error",
          "ename": "ValueError",
          "evalue": "ignored",
          "traceback": [
            "\u001b[0;31m---------------------------------------------------------------------------\u001b[0m",
            "\u001b[0;31mValueError\u001b[0m                                Traceback (most recent call last)",
            "\u001b[0;32m<ipython-input-56-3dd6f66ed1c5>\u001b[0m in \u001b[0;36m<module>\u001b[0;34m()\u001b[0m\n\u001b[1;32m      1\u001b[0m \u001b[0mconverter\u001b[0m \u001b[0;34m=\u001b[0m \u001b[0mtf\u001b[0m\u001b[0;34m.\u001b[0m\u001b[0mlite\u001b[0m\u001b[0;34m.\u001b[0m\u001b[0mTFLiteConverter\u001b[0m\u001b[0;34m.\u001b[0m\u001b[0mfrom_keras_model\u001b[0m\u001b[0;34m(\u001b[0m\u001b[0mmodel\u001b[0m\u001b[0;34m)\u001b[0m\u001b[0;34m\u001b[0m\u001b[0;34m\u001b[0m\u001b[0m\n\u001b[0;32m----> 2\u001b[0;31m \u001b[0mtflite_model\u001b[0m \u001b[0;34m=\u001b[0m \u001b[0mconverter\u001b[0m\u001b[0;34m.\u001b[0m\u001b[0mconvert\u001b[0m\u001b[0;34m(\u001b[0m\u001b[0;34m)\u001b[0m\u001b[0;34m\u001b[0m\u001b[0;34m\u001b[0m\u001b[0m\n\u001b[0m",
            "\u001b[0;32m/usr/local/lib/python3.7/dist-packages/tensorflow/lite/python/lite.py\u001b[0m in \u001b[0;36mwrapper\u001b[0;34m(self, *args, **kwargs)\u001b[0m\n\u001b[1;32m    801\u001b[0m   \u001b[0;32mdef\u001b[0m \u001b[0mwrapper\u001b[0m\u001b[0;34m(\u001b[0m\u001b[0mself\u001b[0m\u001b[0;34m,\u001b[0m \u001b[0;34m*\u001b[0m\u001b[0margs\u001b[0m\u001b[0;34m,\u001b[0m \u001b[0;34m**\u001b[0m\u001b[0mkwargs\u001b[0m\u001b[0;34m)\u001b[0m\u001b[0;34m:\u001b[0m\u001b[0;34m\u001b[0m\u001b[0;34m\u001b[0m\u001b[0m\n\u001b[1;32m    802\u001b[0m     \u001b[0;31m# pylint: disable=protected-access\u001b[0m\u001b[0;34m\u001b[0m\u001b[0;34m\u001b[0m\u001b[0;34m\u001b[0m\u001b[0m\n\u001b[0;32m--> 803\u001b[0;31m     \u001b[0;32mreturn\u001b[0m \u001b[0mself\u001b[0m\u001b[0;34m.\u001b[0m\u001b[0m_convert_and_export_metrics\u001b[0m\u001b[0;34m(\u001b[0m\u001b[0mconvert_func\u001b[0m\u001b[0;34m,\u001b[0m \u001b[0;34m*\u001b[0m\u001b[0margs\u001b[0m\u001b[0;34m,\u001b[0m \u001b[0;34m**\u001b[0m\u001b[0mkwargs\u001b[0m\u001b[0;34m)\u001b[0m\u001b[0;34m\u001b[0m\u001b[0;34m\u001b[0m\u001b[0m\n\u001b[0m\u001b[1;32m    804\u001b[0m     \u001b[0;31m# pylint: enable=protected-access\u001b[0m\u001b[0;34m\u001b[0m\u001b[0;34m\u001b[0m\u001b[0;34m\u001b[0m\u001b[0m\n\u001b[1;32m    805\u001b[0m \u001b[0;34m\u001b[0m\u001b[0m\n",
            "\u001b[0;32m/usr/local/lib/python3.7/dist-packages/tensorflow/lite/python/lite.py\u001b[0m in \u001b[0;36m_convert_and_export_metrics\u001b[0;34m(self, convert_func, *args, **kwargs)\u001b[0m\n\u001b[1;32m    787\u001b[0m     \u001b[0mself\u001b[0m\u001b[0;34m.\u001b[0m\u001b[0m_save_conversion_params_metric\u001b[0m\u001b[0;34m(\u001b[0m\u001b[0;34m)\u001b[0m\u001b[0;34m\u001b[0m\u001b[0;34m\u001b[0m\u001b[0m\n\u001b[1;32m    788\u001b[0m     \u001b[0mstart_time\u001b[0m \u001b[0;34m=\u001b[0m \u001b[0mtime\u001b[0m\u001b[0;34m.\u001b[0m\u001b[0mprocess_time\u001b[0m\u001b[0;34m(\u001b[0m\u001b[0;34m)\u001b[0m\u001b[0;34m\u001b[0m\u001b[0;34m\u001b[0m\u001b[0m\n\u001b[0;32m--> 789\u001b[0;31m     \u001b[0mresult\u001b[0m \u001b[0;34m=\u001b[0m \u001b[0mconvert_func\u001b[0m\u001b[0;34m(\u001b[0m\u001b[0mself\u001b[0m\u001b[0;34m,\u001b[0m \u001b[0;34m*\u001b[0m\u001b[0margs\u001b[0m\u001b[0;34m,\u001b[0m \u001b[0;34m**\u001b[0m\u001b[0mkwargs\u001b[0m\u001b[0;34m)\u001b[0m\u001b[0;34m\u001b[0m\u001b[0;34m\u001b[0m\u001b[0m\n\u001b[0m\u001b[1;32m    790\u001b[0m     \u001b[0melapsed_time_ms\u001b[0m \u001b[0;34m=\u001b[0m \u001b[0;34m(\u001b[0m\u001b[0mtime\u001b[0m\u001b[0;34m.\u001b[0m\u001b[0mprocess_time\u001b[0m\u001b[0;34m(\u001b[0m\u001b[0;34m)\u001b[0m \u001b[0;34m-\u001b[0m \u001b[0mstart_time\u001b[0m\u001b[0;34m)\u001b[0m \u001b[0;34m*\u001b[0m \u001b[0;36m1000\u001b[0m\u001b[0;34m\u001b[0m\u001b[0;34m\u001b[0m\u001b[0m\n\u001b[1;32m    791\u001b[0m     \u001b[0;32mif\u001b[0m \u001b[0mresult\u001b[0m\u001b[0;34m:\u001b[0m\u001b[0;34m\u001b[0m\u001b[0;34m\u001b[0m\u001b[0m\n",
            "\u001b[0;32m/usr/local/lib/python3.7/dist-packages/tensorflow/lite/python/lite.py\u001b[0m in \u001b[0;36mconvert\u001b[0;34m(self)\u001b[0m\n\u001b[1;32m   1213\u001b[0m \u001b[0;34m\u001b[0m\u001b[0m\n\u001b[1;32m   1214\u001b[0m     graph_def, input_tensors, output_tensors, frozen_func = (\n\u001b[0;32m-> 1215\u001b[0;31m         self._freeze_keras_model())\n\u001b[0m\u001b[1;32m   1216\u001b[0m \u001b[0;34m\u001b[0m\u001b[0m\n\u001b[1;32m   1217\u001b[0m     graph_def = self._optimize_tf_model(graph_def, input_tensors,\n",
            "\u001b[0;32m/usr/local/lib/python3.7/dist-packages/tensorflow/lite/python/convert_phase.py\u001b[0m in \u001b[0;36mwrapper\u001b[0;34m(*args, **kwargs)\u001b[0m\n\u001b[1;32m    214\u001b[0m       \u001b[0;32mexcept\u001b[0m \u001b[0mException\u001b[0m \u001b[0;32mas\u001b[0m \u001b[0merror\u001b[0m\u001b[0;34m:\u001b[0m\u001b[0;34m\u001b[0m\u001b[0;34m\u001b[0m\u001b[0m\n\u001b[1;32m    215\u001b[0m         \u001b[0mreport_error_message\u001b[0m\u001b[0;34m(\u001b[0m\u001b[0mstr\u001b[0m\u001b[0;34m(\u001b[0m\u001b[0merror\u001b[0m\u001b[0;34m)\u001b[0m\u001b[0;34m)\u001b[0m\u001b[0;34m\u001b[0m\u001b[0;34m\u001b[0m\u001b[0m\n\u001b[0;32m--> 216\u001b[0;31m         \u001b[0;32mraise\u001b[0m \u001b[0merror\u001b[0m \u001b[0;32mfrom\u001b[0m \u001b[0;32mNone\u001b[0m  \u001b[0;31m# Re-throws the exception.\u001b[0m\u001b[0;34m\u001b[0m\u001b[0;34m\u001b[0m\u001b[0m\n\u001b[0m\u001b[1;32m    217\u001b[0m \u001b[0;34m\u001b[0m\u001b[0m\n\u001b[1;32m    218\u001b[0m     \u001b[0;32mreturn\u001b[0m \u001b[0mwrapper\u001b[0m\u001b[0;34m\u001b[0m\u001b[0;34m\u001b[0m\u001b[0m\n",
            "\u001b[0;32m/usr/local/lib/python3.7/dist-packages/tensorflow/lite/python/convert_phase.py\u001b[0m in \u001b[0;36mwrapper\u001b[0;34m(*args, **kwargs)\u001b[0m\n\u001b[1;32m    204\u001b[0m     \u001b[0;32mdef\u001b[0m \u001b[0mwrapper\u001b[0m\u001b[0;34m(\u001b[0m\u001b[0;34m*\u001b[0m\u001b[0margs\u001b[0m\u001b[0;34m,\u001b[0m \u001b[0;34m**\u001b[0m\u001b[0mkwargs\u001b[0m\u001b[0;34m)\u001b[0m\u001b[0;34m:\u001b[0m\u001b[0;34m\u001b[0m\u001b[0;34m\u001b[0m\u001b[0m\n\u001b[1;32m    205\u001b[0m       \u001b[0;32mtry\u001b[0m\u001b[0;34m:\u001b[0m\u001b[0;34m\u001b[0m\u001b[0;34m\u001b[0m\u001b[0m\n\u001b[0;32m--> 206\u001b[0;31m         \u001b[0;32mreturn\u001b[0m \u001b[0mfunc\u001b[0m\u001b[0;34m(\u001b[0m\u001b[0;34m*\u001b[0m\u001b[0margs\u001b[0m\u001b[0;34m,\u001b[0m \u001b[0;34m**\u001b[0m\u001b[0mkwargs\u001b[0m\u001b[0;34m)\u001b[0m\u001b[0;34m\u001b[0m\u001b[0;34m\u001b[0m\u001b[0m\n\u001b[0m\u001b[1;32m    207\u001b[0m       \u001b[0;32mexcept\u001b[0m \u001b[0mConverterError\u001b[0m \u001b[0;32mas\u001b[0m \u001b[0mconverter_error\u001b[0m\u001b[0;34m:\u001b[0m\u001b[0;34m\u001b[0m\u001b[0;34m\u001b[0m\u001b[0m\n\u001b[1;32m    208\u001b[0m         \u001b[0;32mif\u001b[0m \u001b[0mconverter_error\u001b[0m\u001b[0;34m.\u001b[0m\u001b[0merrors\u001b[0m\u001b[0;34m:\u001b[0m\u001b[0;34m\u001b[0m\u001b[0;34m\u001b[0m\u001b[0m\n",
            "\u001b[0;32m/usr/local/lib/python3.7/dist-packages/tensorflow/lite/python/lite.py\u001b[0m in \u001b[0;36m_freeze_keras_model\u001b[0;34m(self)\u001b[0m\n\u001b[1;32m   1164\u001b[0m \u001b[0;34m\u001b[0m\u001b[0m\n\u001b[1;32m   1165\u001b[0m     \u001b[0;31m# TODO(b/169898786): Use the Keras public API when TFLite moves out of TF\u001b[0m\u001b[0;34m\u001b[0m\u001b[0;34m\u001b[0m\u001b[0;34m\u001b[0m\u001b[0m\n\u001b[0;32m-> 1166\u001b[0;31m     \u001b[0mfunc\u001b[0m \u001b[0;34m=\u001b[0m \u001b[0m_trace_model_call\u001b[0m\u001b[0;34m(\u001b[0m\u001b[0mself\u001b[0m\u001b[0;34m.\u001b[0m\u001b[0m_keras_model\u001b[0m\u001b[0;34m,\u001b[0m \u001b[0minput_signature\u001b[0m\u001b[0;34m)\u001b[0m\u001b[0;34m\u001b[0m\u001b[0;34m\u001b[0m\u001b[0m\n\u001b[0m\u001b[1;32m   1167\u001b[0m     \u001b[0mconcrete_func\u001b[0m \u001b[0;34m=\u001b[0m \u001b[0mfunc\u001b[0m\u001b[0;34m.\u001b[0m\u001b[0mget_concrete_function\u001b[0m\u001b[0;34m(\u001b[0m\u001b[0;34m)\u001b[0m\u001b[0;34m\u001b[0m\u001b[0;34m\u001b[0m\u001b[0m\n\u001b[1;32m   1168\u001b[0m     \u001b[0mself\u001b[0m\u001b[0;34m.\u001b[0m\u001b[0m_funcs\u001b[0m \u001b[0;34m=\u001b[0m \u001b[0;34m[\u001b[0m\u001b[0mconcrete_func\u001b[0m\u001b[0;34m]\u001b[0m\u001b[0;34m\u001b[0m\u001b[0;34m\u001b[0m\u001b[0m\n",
            "\u001b[0;32m/usr/local/lib/python3.7/dist-packages/tensorflow/lite/python/tflite_keras_util.py\u001b[0m in \u001b[0;36mtrace_model_call\u001b[0;34m(model, input_signature)\u001b[0m\n\u001b[1;32m    177\u001b[0m \u001b[0;34m\u001b[0m\u001b[0m\n\u001b[1;32m    178\u001b[0m   \u001b[0;32mif\u001b[0m \u001b[0minput_signature\u001b[0m \u001b[0;32mis\u001b[0m \u001b[0;32mNone\u001b[0m\u001b[0;34m:\u001b[0m\u001b[0;34m\u001b[0m\u001b[0;34m\u001b[0m\u001b[0m\n\u001b[0;32m--> 179\u001b[0;31m     \u001b[0mraise_model_input_error\u001b[0m\u001b[0;34m(\u001b[0m\u001b[0mmodel\u001b[0m\u001b[0;34m)\u001b[0m\u001b[0;34m\u001b[0m\u001b[0;34m\u001b[0m\u001b[0m\n\u001b[0m\u001b[1;32m    180\u001b[0m \u001b[0;34m\u001b[0m\u001b[0m\n\u001b[1;32m    181\u001b[0m   \u001b[0;34m@\u001b[0m\u001b[0mdef_function\u001b[0m\u001b[0;34m.\u001b[0m\u001b[0mfunction\u001b[0m\u001b[0;34m(\u001b[0m\u001b[0minput_signature\u001b[0m\u001b[0;34m=\u001b[0m\u001b[0minput_signature\u001b[0m\u001b[0;34m,\u001b[0m \u001b[0mautograph\u001b[0m\u001b[0;34m=\u001b[0m\u001b[0;32mFalse\u001b[0m\u001b[0;34m)\u001b[0m\u001b[0;34m\u001b[0m\u001b[0;34m\u001b[0m\u001b[0m\n",
            "\u001b[0;32m/usr/local/lib/python3.7/dist-packages/tensorflow/lite/python/tflite_keras_util.py\u001b[0m in \u001b[0;36mraise_model_input_error\u001b[0;34m(model)\u001b[0m\n\u001b[1;32m    102\u001b[0m       \u001b[0;34m'set. Usually, input shapes are automatically determined from calling'\u001b[0m\u001b[0;34m\u001b[0m\u001b[0;34m\u001b[0m\u001b[0m\n\u001b[1;32m    103\u001b[0m       \u001b[0;34m' `.fit()` or `.predict()`. To manually set the shapes, call '\u001b[0m\u001b[0;34m\u001b[0m\u001b[0;34m\u001b[0m\u001b[0m\n\u001b[0;32m--> 104\u001b[0;31m       '`model.build(input_shape)`.'.format(model))\n\u001b[0m\u001b[1;32m    105\u001b[0m \u001b[0;34m\u001b[0m\u001b[0m\n\u001b[1;32m    106\u001b[0m \u001b[0;34m\u001b[0m\u001b[0m\n",
            "\u001b[0;31mValueError\u001b[0m: Model <__main__.SIMPASIModel object at 0x7ff0e2e269d0> cannot be saved because the input shapes have not been set. Usually, input shapes are automatically determined from calling `.fit()` or `.predict()`. To manually set the shapes, call `model.build(input_shape)`."
          ]
        }
      ]
    },
    {
      "cell_type": "code",
      "source": [
        "tflite_model_file = pathlib.Path(\"/content/converted_model.tflite\")\n",
        "tflite_model_file.write_bytes(tflite_model)"
      ],
      "metadata": {
        "colab": {
          "base_uri": "https://localhost:8080/"
        },
        "id": "NEtwW4Jm_j1p",
        "outputId": "386ae5b5-db81-4c65-fd60-1306636bba38"
      },
      "execution_count": null,
      "outputs": [
        {
          "output_type": "execute_result",
          "data": {
            "text/plain": [
              "12392"
            ]
          },
          "metadata": {},
          "execution_count": 57
        }
      ]
    },
    {
      "cell_type": "code",
      "source": [
        "files.download(tflite_model_file)"
      ],
      "metadata": {
        "colab": {
          "base_uri": "https://localhost:8080/",
          "height": 17
        },
        "id": "4d8VroYs_6x3",
        "outputId": "4d4645d7-aa40-4150-e854-00ee1df108bd"
      },
      "execution_count": null,
      "outputs": [
        {
          "output_type": "display_data",
          "data": {
            "text/plain": [
              "<IPython.core.display.Javascript object>"
            ],
            "application/javascript": [
              "\n",
              "    async function download(id, filename, size) {\n",
              "      if (!google.colab.kernel.accessAllowed) {\n",
              "        return;\n",
              "      }\n",
              "      const div = document.createElement('div');\n",
              "      const label = document.createElement('label');\n",
              "      label.textContent = `Downloading \"${filename}\": `;\n",
              "      div.appendChild(label);\n",
              "      const progress = document.createElement('progress');\n",
              "      progress.max = size;\n",
              "      div.appendChild(progress);\n",
              "      document.body.appendChild(div);\n",
              "\n",
              "      const buffers = [];\n",
              "      let downloaded = 0;\n",
              "\n",
              "      const channel = await google.colab.kernel.comms.open(id);\n",
              "      // Send a message to notify the kernel that we're ready.\n",
              "      channel.send({})\n",
              "\n",
              "      for await (const message of channel.messages) {\n",
              "        // Send a message to notify the kernel that we're ready.\n",
              "        channel.send({})\n",
              "        if (message.buffers) {\n",
              "          for (const buffer of message.buffers) {\n",
              "            buffers.push(buffer);\n",
              "            downloaded += buffer.byteLength;\n",
              "            progress.value = downloaded;\n",
              "          }\n",
              "        }\n",
              "      }\n",
              "      const blob = new Blob(buffers, {type: 'application/binary'});\n",
              "      const a = document.createElement('a');\n",
              "      a.href = window.URL.createObjectURL(blob);\n",
              "      a.download = filename;\n",
              "      div.appendChild(a);\n",
              "      a.click();\n",
              "      div.remove();\n",
              "    }\n",
              "  "
            ]
          },
          "metadata": {}
        },
        {
          "output_type": "display_data",
          "data": {
            "text/plain": [
              "<IPython.core.display.Javascript object>"
            ],
            "application/javascript": [
              "download(\"download_597eb89e-186e-4155-ac5d-dd31e3a82d00\", \"converted_model.tflite\", 12376)"
            ]
          },
          "metadata": {}
        }
      ]
    },
    {
      "cell_type": "code",
      "source": [
        "#Tensorflow JS\n",
        "# import time\n",
        "# saved_model_path = \"tmp/saved_models/{}\".format(int(time.time()))\n",
        "\n",
        "# tf.keras.experimental.export_saved_model(model,saved_model_path)\n",
        "\n",
        "model.save(\"/content/\")"
      ],
      "metadata": {
        "colab": {
          "base_uri": "https://localhost:8080/",
          "height": 470
        },
        "id": "XBXqkzmCFKym",
        "outputId": "156d02e6-edbf-45b8-a3de-89a22450d7f5"
      },
      "execution_count": null,
      "outputs": [
        {
          "output_type": "stream",
          "name": "stdout",
          "text": [
            "WARNING:tensorflow:Skipping full serialization of Keras layer <__main__.SIMPASIModel object at 0x7ff7ea558690>, because it is not built.\n"
          ]
        },
        {
          "output_type": "stream",
          "name": "stderr",
          "text": [
            "WARNING:tensorflow:Skipping full serialization of Keras layer <__main__.SIMPASIModel object at 0x7ff7ea558690>, because it is not built.\n"
          ]
        },
        {
          "output_type": "error",
          "ename": "ValueError",
          "evalue": "ignored",
          "traceback": [
            "\u001b[0;31m---------------------------------------------------------------------------\u001b[0m",
            "\u001b[0;31mValueError\u001b[0m                                Traceback (most recent call last)",
            "\u001b[0;32m<ipython-input-68-dc6bac29f1ad>\u001b[0m in \u001b[0;36m<module>\u001b[0;34m()\u001b[0m\n\u001b[1;32m      5\u001b[0m \u001b[0;31m# tf.keras.experimental.export_saved_model(model,saved_model_path)\u001b[0m\u001b[0;34m\u001b[0m\u001b[0;34m\u001b[0m\u001b[0;34m\u001b[0m\u001b[0m\n\u001b[1;32m      6\u001b[0m \u001b[0;34m\u001b[0m\u001b[0m\n\u001b[0;32m----> 7\u001b[0;31m \u001b[0mmodel\u001b[0m\u001b[0;34m.\u001b[0m\u001b[0msave\u001b[0m\u001b[0;34m(\u001b[0m\u001b[0;34m\"/content/\"\u001b[0m\u001b[0;34m)\u001b[0m\u001b[0;34m\u001b[0m\u001b[0;34m\u001b[0m\u001b[0m\n\u001b[0m",
            "\u001b[0;32m/usr/local/lib/python3.7/dist-packages/keras/utils/traceback_utils.py\u001b[0m in \u001b[0;36merror_handler\u001b[0;34m(*args, **kwargs)\u001b[0m\n\u001b[1;32m     65\u001b[0m     \u001b[0;32mexcept\u001b[0m \u001b[0mException\u001b[0m \u001b[0;32mas\u001b[0m \u001b[0me\u001b[0m\u001b[0;34m:\u001b[0m  \u001b[0;31m# pylint: disable=broad-except\u001b[0m\u001b[0;34m\u001b[0m\u001b[0;34m\u001b[0m\u001b[0m\n\u001b[1;32m     66\u001b[0m       \u001b[0mfiltered_tb\u001b[0m \u001b[0;34m=\u001b[0m \u001b[0m_process_traceback_frames\u001b[0m\u001b[0;34m(\u001b[0m\u001b[0me\u001b[0m\u001b[0;34m.\u001b[0m\u001b[0m__traceback__\u001b[0m\u001b[0;34m)\u001b[0m\u001b[0;34m\u001b[0m\u001b[0;34m\u001b[0m\u001b[0m\n\u001b[0;32m---> 67\u001b[0;31m       \u001b[0;32mraise\u001b[0m \u001b[0me\u001b[0m\u001b[0;34m.\u001b[0m\u001b[0mwith_traceback\u001b[0m\u001b[0;34m(\u001b[0m\u001b[0mfiltered_tb\u001b[0m\u001b[0;34m)\u001b[0m \u001b[0;32mfrom\u001b[0m \u001b[0;32mNone\u001b[0m\u001b[0;34m\u001b[0m\u001b[0;34m\u001b[0m\u001b[0m\n\u001b[0m\u001b[1;32m     68\u001b[0m     \u001b[0;32mfinally\u001b[0m\u001b[0;34m:\u001b[0m\u001b[0;34m\u001b[0m\u001b[0;34m\u001b[0m\u001b[0m\n\u001b[1;32m     69\u001b[0m       \u001b[0;32mdel\u001b[0m \u001b[0mfiltered_tb\u001b[0m\u001b[0;34m\u001b[0m\u001b[0;34m\u001b[0m\u001b[0m\n",
            "\u001b[0;32m/usr/local/lib/python3.7/dist-packages/keras/saving/saving_utils.py\u001b[0m in \u001b[0;36mraise_model_input_error\u001b[0;34m(model)\u001b[0m\n\u001b[1;32m     92\u001b[0m   \u001b[0;31m# If the model is not a `Sequential`, it is intended to be a subclassed model.\u001b[0m\u001b[0;34m\u001b[0m\u001b[0;34m\u001b[0m\u001b[0;34m\u001b[0m\u001b[0m\n\u001b[1;32m     93\u001b[0m   raise ValueError(\n\u001b[0;32m---> 94\u001b[0;31m       \u001b[0;34mf'Model {model} cannot be saved either because the input shape is not '\u001b[0m\u001b[0;34m\u001b[0m\u001b[0;34m\u001b[0m\u001b[0m\n\u001b[0m\u001b[1;32m     95\u001b[0m       \u001b[0;34m'available or because the forward pass of the model is not defined.'\u001b[0m\u001b[0;34m\u001b[0m\u001b[0;34m\u001b[0m\u001b[0m\n\u001b[1;32m     96\u001b[0m       \u001b[0;34m'To define a forward pass, please override `Model.call()`. To specify '\u001b[0m\u001b[0;34m\u001b[0m\u001b[0;34m\u001b[0m\u001b[0m\n",
            "\u001b[0;31mValueError\u001b[0m: Model <__main__.SIMPASIModel object at 0x7ff7ea558690> cannot be saved either because the input shape is not available or because the forward pass of the model is not defined.To define a forward pass, please override `Model.call()`. To specify an input shape, either call `build(input_shape)` directly, or call the model on actual data using `Model()`, `Model.fit()`, or `Model.predict()`. If you have a custom training step, please make sure to invoke the forward pass in train step through `Model.__call__`, i.e. `model(inputs)`, as opposed to `model.call()`."
          ]
        }
      ]
    },
    {
      "cell_type": "code",
      "source": [
        "# tensorflowjs_converter --input_format=keras /content/model_weight /tmp/tfjs_model\n",
        "tensorflowjs_converter \\\n",
        "    --input_format=tf_saved_model \\\n",
        "    /content/model_weight \\\n",
        "    /tmp/tfjs_model\n",
        "# tfjs.converters.save_keras_model(model_weight,\"model_weights\")"
      ],
      "metadata": {
        "id": "vylkoz6FLcBx"
      },
      "execution_count": null,
      "outputs": []
    },
    {
      "cell_type": "code",
      "source": [
        "interpreter = tf.lite.Interpreter(model_path=\"converted_model.tflite\")\n",
        "interpreter.allocate_tensors()\n",
        "\n",
        "# Get input and output tensors.\n",
        "input_details = interpreter.get_input_details()\n",
        "output_details = interpreter.get_output_details()\n",
        "\n",
        "print(input_details)\n",
        "print(output_details)\n",
        "\n",
        "print(input_details[0])\n",
        "# Test the model.\n",
        "interpreter.set_tensor(input_details[0][\"index\"], np.array([\"32\"]))\n",
        "\n",
        "interpreter.invoke()\n",
        "\n",
        "reccomendation = interpreter.get_tensor(output_details[1]['index'])\n",
        "rating = interpreter.get_tensor(output_details[0]['index'])\n",
        "print(reccomendation)\n",
        "print(rating)\n",
        "\n",
        "# Print input shape and type\n",
        "print('{} input(s):'.format(len(input_details)))\n",
        "for i in range(0, len(input_details)):\n",
        "    print('{} {}'.format(input_details[i]['shape'], input_details[i]['dtype']))\n",
        "\n",
        "# Print output shape and type\n",
        "print('\\n{} output(s):'.format(len(output_details)))\n",
        "for i in range(0, len(output_details)):\n",
        "    print('{} {}'.format(output_details[i]['shape'], output_details[i]['dtype']))"
      ],
      "metadata": {
        "id": "E5esN-X-M6JT",
        "colab": {
          "base_uri": "https://localhost:8080/"
        },
        "outputId": "397f670e-afc9-4eef-e86e-ecf4f1611668"
      },
      "execution_count": null,
      "outputs": [
        {
          "output_type": "stream",
          "name": "stdout",
          "text": [
            "[{'name': 'serving_default_input_1:0', 'index': 0, 'shape': array([1], dtype=int32), 'shape_signature': array([-1], dtype=int32), 'dtype': <class 'numpy.bytes_'>, 'quantization': (0.0, 0), 'quantization_parameters': {'scales': array([], dtype=float32), 'zero_points': array([], dtype=int32), 'quantized_dimension': 0}, 'sparsity_parameters': {}}]\n",
            "[{'name': 'StatefulPartitionedCall_1:0', 'index': 10, 'shape': array([ 1, 10], dtype=int32), 'shape_signature': array([-1, 10], dtype=int32), 'dtype': <class 'numpy.float32'>, 'quantization': (0.0, 0), 'quantization_parameters': {'scales': array([], dtype=float32), 'zero_points': array([], dtype=int32), 'quantized_dimension': 0}, 'sparsity_parameters': {}}, {'name': 'StatefulPartitionedCall_1:1', 'index': 12, 'shape': array([ 1, 10], dtype=int32), 'shape_signature': array([-1, 10], dtype=int32), 'dtype': <class 'numpy.bytes_'>, 'quantization': (0.0, 0), 'quantization_parameters': {'scales': array([], dtype=float32), 'zero_points': array([], dtype=int32), 'quantized_dimension': 0}, 'sparsity_parameters': {}}]\n",
            "{'name': 'serving_default_input_1:0', 'index': 0, 'shape': array([1], dtype=int32), 'shape_signature': array([-1], dtype=int32), 'dtype': <class 'numpy.bytes_'>, 'quantization': (0.0, 0), 'quantization_parameters': {'scales': array([], dtype=float32), 'zero_points': array([], dtype=int32), 'quantized_dimension': 0}, 'sparsity_parameters': {}}\n",
            "[[b'Bubur Talas Apel' b'Bubur Jagung Wortel' b'Kukis Havermut Apel'\n",
            "  b'Bubur Tahu' b'Pure Alpukat dan Pepaya' b'Lapis Mangga'\n",
            "  b'Bubur Ayam Talas Keju' b'Bubur Beras Merah' b'Apricot Tahu'\n",
            "  b'Pure Jagung Manis']]\n",
            "[[2.432 1.842 1.61  1.182 0.845 0.795 0.75  0.601 0.532 0.519]]\n",
            "1 input(s):\n",
            "[1] <class 'numpy.bytes_'>\n",
            "\n",
            "2 output(s):\n",
            "[ 1 10] <class 'numpy.float32'>\n",
            "[ 1 10] <class 'numpy.bytes_'>\n"
          ]
        }
      ]
    },
    {
      "cell_type": "code",
      "source": [
        "rekomendasi = "
      ],
      "metadata": {
        "id": "ZdME4huU84fG"
      },
      "execution_count": null,
      "outputs": []
    },
    {
      "cell_type": "code",
      "execution_count": null,
      "metadata": {
        "colab": {
          "base_uri": "https://localhost:8080/",
          "height": 1000
        },
        "id": "MYXQgg1MwDuG",
        "outputId": "b07bfc40-6545-4f9b-d84e-21456e29c506"
      },
      "outputs": [
        {
          "output_type": "execute_result",
          "data": {
            "text/plain": [
              "                                  rekomendasi_resep\n",
              "0                             Bubur Kentang Edamame\n",
              "1                   Pure Ubi Kuning dan Beras Merah\n",
              "2                          Bubur Susu Kacang Polong\n",
              "3                               Bubur Singkong Apel\n",
              "4                                    Pure Tiga Rasa\n",
              "5                                     Bubur Oatmeal\n",
              "6                                     Perkedel Lele\n",
              "7                                      Bubur Wortel\n",
              "8                                     Daging Ungkep\n",
              "9                                     Bola-bola Ubi\n",
              "10                            Bubur Ubi Kembang Kol\n",
              "11                                 Bubur Pisang Ubi\n",
              "12                               Bubur Pisang Tomat\n",
              "13                              Pisang Mangga Rebus\n",
              "14                                 Jus Pisang Kurma\n",
              "15                                       Bubur Apel\n",
              "16                                Bubur Jagung Susu\n",
              "17                             Bubur Buah dan Sayur\n",
              "18                                  Pure Ubi Kuning\n",
              "19                                   Biskuit Sereal\n",
              "20                               Kukis Oatmeal Keju\n",
              "21                               Bubur Labu Brokoli\n",
              "22                             Pure Apel dan Papaya\n",
              "23                         Bubur Kacang Hijau Kurma\n",
              "24                             Bubur Pisang Kentang\n",
              "25  Pure Tepung Beras Putih, Zukini, dan Ubi Kuning\n",
              "26                                     Pancake Labu\n",
              "27                                       Apel Rebus\n",
              "28                             Agar-agar Isi Blewah\n",
              "29                                Jus Alpukat Jeruk\n",
              "30                           Pure Pisang dan Pepaya\n",
              "31                                         Tim Lele\n",
              "32                                Jus Melon Alpukat\n",
              "33                        Bubur Makaroni Teri Bayam\n",
              "34                                Bubur Kembang Kol\n",
              "35                              Bubur Kacang Polong\n",
              "36                             Sup Mihun Ikan Gabus\n",
              "37                                     Bubur Pisang\n",
              "38                           Bubur Hunkwe Susu Keju\n",
              "39                                Bubur Tahu Wortel\n",
              "40                                     Bubur Pepaya"
            ],
            "text/html": [
              "\n",
              "  <div id=\"df-daaa7af2-b90b-4e24-8727-2d9603556654\">\n",
              "    <div class=\"colab-df-container\">\n",
              "      <div>\n",
              "<style scoped>\n",
              "    .dataframe tbody tr th:only-of-type {\n",
              "        vertical-align: middle;\n",
              "    }\n",
              "\n",
              "    .dataframe tbody tr th {\n",
              "        vertical-align: top;\n",
              "    }\n",
              "\n",
              "    .dataframe thead th {\n",
              "        text-align: right;\n",
              "    }\n",
              "</style>\n",
              "<table border=\"1\" class=\"dataframe\">\n",
              "  <thead>\n",
              "    <tr style=\"text-align: right;\">\n",
              "      <th></th>\n",
              "      <th>rekomendasi_resep</th>\n",
              "    </tr>\n",
              "  </thead>\n",
              "  <tbody>\n",
              "    <tr>\n",
              "      <th>0</th>\n",
              "      <td>Bubur Kentang Edamame</td>\n",
              "    </tr>\n",
              "    <tr>\n",
              "      <th>1</th>\n",
              "      <td>Pure Ubi Kuning dan Beras Merah</td>\n",
              "    </tr>\n",
              "    <tr>\n",
              "      <th>2</th>\n",
              "      <td>Bubur Susu Kacang Polong</td>\n",
              "    </tr>\n",
              "    <tr>\n",
              "      <th>3</th>\n",
              "      <td>Bubur Singkong Apel</td>\n",
              "    </tr>\n",
              "    <tr>\n",
              "      <th>4</th>\n",
              "      <td>Pure Tiga Rasa</td>\n",
              "    </tr>\n",
              "    <tr>\n",
              "      <th>5</th>\n",
              "      <td>Bubur Oatmeal</td>\n",
              "    </tr>\n",
              "    <tr>\n",
              "      <th>6</th>\n",
              "      <td>Perkedel Lele</td>\n",
              "    </tr>\n",
              "    <tr>\n",
              "      <th>7</th>\n",
              "      <td>Bubur Wortel</td>\n",
              "    </tr>\n",
              "    <tr>\n",
              "      <th>8</th>\n",
              "      <td>Daging Ungkep</td>\n",
              "    </tr>\n",
              "    <tr>\n",
              "      <th>9</th>\n",
              "      <td>Bola-bola Ubi</td>\n",
              "    </tr>\n",
              "    <tr>\n",
              "      <th>10</th>\n",
              "      <td>Bubur Ubi Kembang Kol</td>\n",
              "    </tr>\n",
              "    <tr>\n",
              "      <th>11</th>\n",
              "      <td>Bubur Pisang Ubi</td>\n",
              "    </tr>\n",
              "    <tr>\n",
              "      <th>12</th>\n",
              "      <td>Bubur Pisang Tomat</td>\n",
              "    </tr>\n",
              "    <tr>\n",
              "      <th>13</th>\n",
              "      <td>Pisang Mangga Rebus</td>\n",
              "    </tr>\n",
              "    <tr>\n",
              "      <th>14</th>\n",
              "      <td>Jus Pisang Kurma</td>\n",
              "    </tr>\n",
              "    <tr>\n",
              "      <th>15</th>\n",
              "      <td>Bubur Apel</td>\n",
              "    </tr>\n",
              "    <tr>\n",
              "      <th>16</th>\n",
              "      <td>Bubur Jagung Susu</td>\n",
              "    </tr>\n",
              "    <tr>\n",
              "      <th>17</th>\n",
              "      <td>Bubur Buah dan Sayur</td>\n",
              "    </tr>\n",
              "    <tr>\n",
              "      <th>18</th>\n",
              "      <td>Pure Ubi Kuning</td>\n",
              "    </tr>\n",
              "    <tr>\n",
              "      <th>19</th>\n",
              "      <td>Biskuit Sereal</td>\n",
              "    </tr>\n",
              "    <tr>\n",
              "      <th>20</th>\n",
              "      <td>Kukis Oatmeal Keju</td>\n",
              "    </tr>\n",
              "    <tr>\n",
              "      <th>21</th>\n",
              "      <td>Bubur Labu Brokoli</td>\n",
              "    </tr>\n",
              "    <tr>\n",
              "      <th>22</th>\n",
              "      <td>Pure Apel dan Papaya</td>\n",
              "    </tr>\n",
              "    <tr>\n",
              "      <th>23</th>\n",
              "      <td>Bubur Kacang Hijau Kurma</td>\n",
              "    </tr>\n",
              "    <tr>\n",
              "      <th>24</th>\n",
              "      <td>Bubur Pisang Kentang</td>\n",
              "    </tr>\n",
              "    <tr>\n",
              "      <th>25</th>\n",
              "      <td>Pure Tepung Beras Putih, Zukini, dan Ubi Kuning</td>\n",
              "    </tr>\n",
              "    <tr>\n",
              "      <th>26</th>\n",
              "      <td>Pancake Labu</td>\n",
              "    </tr>\n",
              "    <tr>\n",
              "      <th>27</th>\n",
              "      <td>Apel Rebus</td>\n",
              "    </tr>\n",
              "    <tr>\n",
              "      <th>28</th>\n",
              "      <td>Agar-agar Isi Blewah</td>\n",
              "    </tr>\n",
              "    <tr>\n",
              "      <th>29</th>\n",
              "      <td>Jus Alpukat Jeruk</td>\n",
              "    </tr>\n",
              "    <tr>\n",
              "      <th>30</th>\n",
              "      <td>Pure Pisang dan Pepaya</td>\n",
              "    </tr>\n",
              "    <tr>\n",
              "      <th>31</th>\n",
              "      <td>Tim Lele</td>\n",
              "    </tr>\n",
              "    <tr>\n",
              "      <th>32</th>\n",
              "      <td>Jus Melon Alpukat</td>\n",
              "    </tr>\n",
              "    <tr>\n",
              "      <th>33</th>\n",
              "      <td>Bubur Makaroni Teri Bayam</td>\n",
              "    </tr>\n",
              "    <tr>\n",
              "      <th>34</th>\n",
              "      <td>Bubur Kembang Kol</td>\n",
              "    </tr>\n",
              "    <tr>\n",
              "      <th>35</th>\n",
              "      <td>Bubur Kacang Polong</td>\n",
              "    </tr>\n",
              "    <tr>\n",
              "      <th>36</th>\n",
              "      <td>Sup Mihun Ikan Gabus</td>\n",
              "    </tr>\n",
              "    <tr>\n",
              "      <th>37</th>\n",
              "      <td>Bubur Pisang</td>\n",
              "    </tr>\n",
              "    <tr>\n",
              "      <th>38</th>\n",
              "      <td>Bubur Hunkwe Susu Keju</td>\n",
              "    </tr>\n",
              "    <tr>\n",
              "      <th>39</th>\n",
              "      <td>Bubur Tahu Wortel</td>\n",
              "    </tr>\n",
              "    <tr>\n",
              "      <th>40</th>\n",
              "      <td>Bubur Pepaya</td>\n",
              "    </tr>\n",
              "  </tbody>\n",
              "</table>\n",
              "</div>\n",
              "      <button class=\"colab-df-convert\" onclick=\"convertToInteractive('df-daaa7af2-b90b-4e24-8727-2d9603556654')\"\n",
              "              title=\"Convert this dataframe to an interactive table.\"\n",
              "              style=\"display:none;\">\n",
              "        \n",
              "  <svg xmlns=\"http://www.w3.org/2000/svg\" height=\"24px\"viewBox=\"0 0 24 24\"\n",
              "       width=\"24px\">\n",
              "    <path d=\"M0 0h24v24H0V0z\" fill=\"none\"/>\n",
              "    <path d=\"M18.56 5.44l.94 2.06.94-2.06 2.06-.94-2.06-.94-.94-2.06-.94 2.06-2.06.94zm-11 1L8.5 8.5l.94-2.06 2.06-.94-2.06-.94L8.5 2.5l-.94 2.06-2.06.94zm10 10l.94 2.06.94-2.06 2.06-.94-2.06-.94-.94-2.06-.94 2.06-2.06.94z\"/><path d=\"M17.41 7.96l-1.37-1.37c-.4-.4-.92-.59-1.43-.59-.52 0-1.04.2-1.43.59L10.3 9.45l-7.72 7.72c-.78.78-.78 2.05 0 2.83L4 21.41c.39.39.9.59 1.41.59.51 0 1.02-.2 1.41-.59l7.78-7.78 2.81-2.81c.8-.78.8-2.07 0-2.86zM5.41 20L4 18.59l7.72-7.72 1.47 1.35L5.41 20z\"/>\n",
              "  </svg>\n",
              "      </button>\n",
              "      \n",
              "  <style>\n",
              "    .colab-df-container {\n",
              "      display:flex;\n",
              "      flex-wrap:wrap;\n",
              "      gap: 12px;\n",
              "    }\n",
              "\n",
              "    .colab-df-convert {\n",
              "      background-color: #E8F0FE;\n",
              "      border: none;\n",
              "      border-radius: 50%;\n",
              "      cursor: pointer;\n",
              "      display: none;\n",
              "      fill: #1967D2;\n",
              "      height: 32px;\n",
              "      padding: 0 0 0 0;\n",
              "      width: 32px;\n",
              "    }\n",
              "\n",
              "    .colab-df-convert:hover {\n",
              "      background-color: #E2EBFA;\n",
              "      box-shadow: 0px 1px 2px rgba(60, 64, 67, 0.3), 0px 1px 3px 1px rgba(60, 64, 67, 0.15);\n",
              "      fill: #174EA6;\n",
              "    }\n",
              "\n",
              "    [theme=dark] .colab-df-convert {\n",
              "      background-color: #3B4455;\n",
              "      fill: #D2E3FC;\n",
              "    }\n",
              "\n",
              "    [theme=dark] .colab-df-convert:hover {\n",
              "      background-color: #434B5C;\n",
              "      box-shadow: 0px 1px 3px 1px rgba(0, 0, 0, 0.15);\n",
              "      filter: drop-shadow(0px 1px 2px rgba(0, 0, 0, 0.3));\n",
              "      fill: #FFFFFF;\n",
              "    }\n",
              "  </style>\n",
              "\n",
              "      <script>\n",
              "        const buttonEl =\n",
              "          document.querySelector('#df-daaa7af2-b90b-4e24-8727-2d9603556654 button.colab-df-convert');\n",
              "        buttonEl.style.display =\n",
              "          google.colab.kernel.accessAllowed ? 'block' : 'none';\n",
              "\n",
              "        async function convertToInteractive(key) {\n",
              "          const element = document.querySelector('#df-daaa7af2-b90b-4e24-8727-2d9603556654');\n",
              "          const dataTable =\n",
              "            await google.colab.kernel.invokeFunction('convertToInteractive',\n",
              "                                                     [key], {});\n",
              "          if (!dataTable) return;\n",
              "\n",
              "          const docLinkHtml = 'Like what you see? Visit the ' +\n",
              "            '<a target=\"_blank\" href=https://colab.research.google.com/notebooks/data_table.ipynb>data table notebook</a>'\n",
              "            + ' to learn more about interactive tables.';\n",
              "          element.innerHTML = '';\n",
              "          dataTable['output_type'] = 'display_data';\n",
              "          await google.colab.output.renderOutput(dataTable, element);\n",
              "          const docLink = document.createElement('div');\n",
              "          docLink.innerHTML = docLinkHtml;\n",
              "          element.appendChild(docLink);\n",
              "        }\n",
              "      </script>\n",
              "    </div>\n",
              "  </div>\n",
              "  "
            ]
          },
          "metadata": {},
          "execution_count": 71
        }
      ],
      "source": [
        "titles_numpy = np.array(titles).transpose().astype(str)\n",
        "\n",
        "rekomendasi = pd.DataFrame(titles_numpy, columns=[\"rekomendasi_resep\"])\n",
        "rekomendasi"
      ]
    },
    {
      "cell_type": "markdown",
      "metadata": {
        "id": "pQKljr2cLypQ"
      },
      "source": [
        "*italicized text*## *Sistem Rekomendasi Menu MPASI*"
      ]
    },
    {
      "cell_type": "code",
      "source": [
        "contextid_list = []\n",
        "userid_list = []\n",
        "labelid_list = []\n",
        "\n",
        "with open(feedback_sequential_dir, mode=\"r\") as x:\n",
        "  reader = csv.reader(x)\n",
        "  keys = next(reader)\n",
        "  for row in reader:\n",
        "    userid_list.append(row[0])\n",
        "    contextid_list.append([int(row[1]),int(row[2])])\n",
        "    labelid_list.append(int(row[3]))\n",
        "\n",
        "\n",
        "data = {keys[0]: userid_list, \"resep_context_id\": contextid_list, keys[3]:labelid_list }\n",
        "feedback_seq_df = pd.DataFrame.from_dict(data)\n",
        "print(len(feedback_seq_df))\n",
        "feedback_seq_df.head()"
      ],
      "metadata": {
        "colab": {
          "base_uri": "https://localhost:8080/",
          "height": 225
        },
        "id": "nZPvlUM7HUxJ",
        "outputId": "981422d4-d2c7-4397-d831-21780255167c"
      },
      "execution_count": null,
      "outputs": [
        {
          "output_type": "stream",
          "name": "stdout",
          "text": [
            "45\n"
          ]
        },
        {
          "output_type": "execute_result",
          "data": {
            "text/plain": [
              "  user_id resep_context_id  resep_label_id\n",
              "0       1         [26, 54]              22\n",
              "1       2         [67, 66]              63\n",
              "2       3          [8, 19]              44\n",
              "3       5         [36, 35]              69\n",
              "4       6         [76, 74]              73"
            ],
            "text/html": [
              "\n",
              "  <div id=\"df-c189ca3b-5b93-440c-9901-e691ed303640\">\n",
              "    <div class=\"colab-df-container\">\n",
              "      <div>\n",
              "<style scoped>\n",
              "    .dataframe tbody tr th:only-of-type {\n",
              "        vertical-align: middle;\n",
              "    }\n",
              "\n",
              "    .dataframe tbody tr th {\n",
              "        vertical-align: top;\n",
              "    }\n",
              "\n",
              "    .dataframe thead th {\n",
              "        text-align: right;\n",
              "    }\n",
              "</style>\n",
              "<table border=\"1\" class=\"dataframe\">\n",
              "  <thead>\n",
              "    <tr style=\"text-align: right;\">\n",
              "      <th></th>\n",
              "      <th>user_id</th>\n",
              "      <th>resep_context_id</th>\n",
              "      <th>resep_label_id</th>\n",
              "    </tr>\n",
              "  </thead>\n",
              "  <tbody>\n",
              "    <tr>\n",
              "      <th>0</th>\n",
              "      <td>1</td>\n",
              "      <td>[26, 54]</td>\n",
              "      <td>22</td>\n",
              "    </tr>\n",
              "    <tr>\n",
              "      <th>1</th>\n",
              "      <td>2</td>\n",
              "      <td>[67, 66]</td>\n",
              "      <td>63</td>\n",
              "    </tr>\n",
              "    <tr>\n",
              "      <th>2</th>\n",
              "      <td>3</td>\n",
              "      <td>[8, 19]</td>\n",
              "      <td>44</td>\n",
              "    </tr>\n",
              "    <tr>\n",
              "      <th>3</th>\n",
              "      <td>5</td>\n",
              "      <td>[36, 35]</td>\n",
              "      <td>69</td>\n",
              "    </tr>\n",
              "    <tr>\n",
              "      <th>4</th>\n",
              "      <td>6</td>\n",
              "      <td>[76, 74]</td>\n",
              "      <td>73</td>\n",
              "    </tr>\n",
              "  </tbody>\n",
              "</table>\n",
              "</div>\n",
              "      <button class=\"colab-df-convert\" onclick=\"convertToInteractive('df-c189ca3b-5b93-440c-9901-e691ed303640')\"\n",
              "              title=\"Convert this dataframe to an interactive table.\"\n",
              "              style=\"display:none;\">\n",
              "        \n",
              "  <svg xmlns=\"http://www.w3.org/2000/svg\" height=\"24px\"viewBox=\"0 0 24 24\"\n",
              "       width=\"24px\">\n",
              "    <path d=\"M0 0h24v24H0V0z\" fill=\"none\"/>\n",
              "    <path d=\"M18.56 5.44l.94 2.06.94-2.06 2.06-.94-2.06-.94-.94-2.06-.94 2.06-2.06.94zm-11 1L8.5 8.5l.94-2.06 2.06-.94-2.06-.94L8.5 2.5l-.94 2.06-2.06.94zm10 10l.94 2.06.94-2.06 2.06-.94-2.06-.94-.94-2.06-.94 2.06-2.06.94z\"/><path d=\"M17.41 7.96l-1.37-1.37c-.4-.4-.92-.59-1.43-.59-.52 0-1.04.2-1.43.59L10.3 9.45l-7.72 7.72c-.78.78-.78 2.05 0 2.83L4 21.41c.39.39.9.59 1.41.59.51 0 1.02-.2 1.41-.59l7.78-7.78 2.81-2.81c.8-.78.8-2.07 0-2.86zM5.41 20L4 18.59l7.72-7.72 1.47 1.35L5.41 20z\"/>\n",
              "  </svg>\n",
              "      </button>\n",
              "      \n",
              "  <style>\n",
              "    .colab-df-container {\n",
              "      display:flex;\n",
              "      flex-wrap:wrap;\n",
              "      gap: 12px;\n",
              "    }\n",
              "\n",
              "    .colab-df-convert {\n",
              "      background-color: #E8F0FE;\n",
              "      border: none;\n",
              "      border-radius: 50%;\n",
              "      cursor: pointer;\n",
              "      display: none;\n",
              "      fill: #1967D2;\n",
              "      height: 32px;\n",
              "      padding: 0 0 0 0;\n",
              "      width: 32px;\n",
              "    }\n",
              "\n",
              "    .colab-df-convert:hover {\n",
              "      background-color: #E2EBFA;\n",
              "      box-shadow: 0px 1px 2px rgba(60, 64, 67, 0.3), 0px 1px 3px 1px rgba(60, 64, 67, 0.15);\n",
              "      fill: #174EA6;\n",
              "    }\n",
              "\n",
              "    [theme=dark] .colab-df-convert {\n",
              "      background-color: #3B4455;\n",
              "      fill: #D2E3FC;\n",
              "    }\n",
              "\n",
              "    [theme=dark] .colab-df-convert:hover {\n",
              "      background-color: #434B5C;\n",
              "      box-shadow: 0px 1px 3px 1px rgba(0, 0, 0, 0.15);\n",
              "      filter: drop-shadow(0px 1px 2px rgba(0, 0, 0, 0.3));\n",
              "      fill: #FFFFFF;\n",
              "    }\n",
              "  </style>\n",
              "\n",
              "      <script>\n",
              "        const buttonEl =\n",
              "          document.querySelector('#df-c189ca3b-5b93-440c-9901-e691ed303640 button.colab-df-convert');\n",
              "        buttonEl.style.display =\n",
              "          google.colab.kernel.accessAllowed ? 'block' : 'none';\n",
              "\n",
              "        async function convertToInteractive(key) {\n",
              "          const element = document.querySelector('#df-c189ca3b-5b93-440c-9901-e691ed303640');\n",
              "          const dataTable =\n",
              "            await google.colab.kernel.invokeFunction('convertToInteractive',\n",
              "                                                     [key], {});\n",
              "          if (!dataTable) return;\n",
              "\n",
              "          const docLinkHtml = 'Like what you see? Visit the ' +\n",
              "            '<a target=\"_blank\" href=https://colab.research.google.com/notebooks/data_table.ipynb>data table notebook</a>'\n",
              "            + ' to learn more about interactive tables.';\n",
              "          element.innerHTML = '';\n",
              "          dataTable['output_type'] = 'display_data';\n",
              "          await google.colab.output.renderOutput(dataTable, element);\n",
              "          const docLink = document.createElement('div');\n",
              "          docLink.innerHTML = docLinkHtml;\n",
              "          element.appendChild(docLink);\n",
              "        }\n",
              "      </script>\n",
              "    </div>\n",
              "  </div>\n",
              "  "
            ]
          },
          "metadata": {},
          "execution_count": 8
        }
      ]
    },
    {
      "cell_type": "code",
      "source": [
        "OOV_MOVIE_ID = 0\n",
        "train_examples = []\n",
        "test_examples = []\n",
        "\n",
        "def generate_examples(df):\n",
        "  for item in range(len(df)):\n",
        "    context = df[\"resep_context_id\"].values[item]\n",
        "    while len(context) < 2:\n",
        "        context.append(OOV_MOVIE_ID)\n",
        "    label = df[\"resep_label_id\"].values[item]\n",
        "    feature = {\n",
        "        \"resep_context_id\":tf.train.Feature(int64_list=tf.train.Int64List(value=context)),\n",
        "        \"resep_label_id\":tf.train.Feature(int64_list=tf.train.Int64List(value=[label]))\n",
        "    }\n",
        "    tf_example = tf.train.Example(features=tf.train.Features(feature=feature))\n",
        "    print(tf_example)\n",
        "    if item > 30:\n",
        "      test_examples.append(tf_example.SerializeToString())\n",
        "    else:\n",
        "      train_examples.append(tf_example.SerializeToString())\n",
        "  return train_examples, test_examples\n"
      ],
      "metadata": {
        "id": "n_cR1LR-VQ-P"
      },
      "execution_count": null,
      "outputs": []
    },
    {
      "cell_type": "code",
      "source": [
        "train_examples, test_examples = generate_examples(feedback_seq_df)"
      ],
      "metadata": {
        "colab": {
          "base_uri": "https://localhost:8080/"
        },
        "id": "90jrGfphc-ne",
        "outputId": "b9a94fa8-4fe0-4f9c-aa3a-ff0f05a5db85"
      },
      "execution_count": null,
      "outputs": [
        {
          "output_type": "stream",
          "name": "stdout",
          "text": [
            "features {\n",
            "  feature {\n",
            "    key: \"resep_context_id\"\n",
            "    value {\n",
            "      int64_list {\n",
            "        value: 26\n",
            "        value: 54\n",
            "      }\n",
            "    }\n",
            "  }\n",
            "  feature {\n",
            "    key: \"resep_label_id\"\n",
            "    value {\n",
            "      int64_list {\n",
            "        value: 22\n",
            "      }\n",
            "    }\n",
            "  }\n",
            "}\n",
            "\n",
            "features {\n",
            "  feature {\n",
            "    key: \"resep_context_id\"\n",
            "    value {\n",
            "      int64_list {\n",
            "        value: 67\n",
            "        value: 66\n",
            "      }\n",
            "    }\n",
            "  }\n",
            "  feature {\n",
            "    key: \"resep_label_id\"\n",
            "    value {\n",
            "      int64_list {\n",
            "        value: 63\n",
            "      }\n",
            "    }\n",
            "  }\n",
            "}\n",
            "\n",
            "features {\n",
            "  feature {\n",
            "    key: \"resep_context_id\"\n",
            "    value {\n",
            "      int64_list {\n",
            "        value: 8\n",
            "        value: 19\n",
            "      }\n",
            "    }\n",
            "  }\n",
            "  feature {\n",
            "    key: \"resep_label_id\"\n",
            "    value {\n",
            "      int64_list {\n",
            "        value: 44\n",
            "      }\n",
            "    }\n",
            "  }\n",
            "}\n",
            "\n",
            "features {\n",
            "  feature {\n",
            "    key: \"resep_context_id\"\n",
            "    value {\n",
            "      int64_list {\n",
            "        value: 36\n",
            "        value: 35\n",
            "      }\n",
            "    }\n",
            "  }\n",
            "  feature {\n",
            "    key: \"resep_label_id\"\n",
            "    value {\n",
            "      int64_list {\n",
            "        value: 69\n",
            "      }\n",
            "    }\n",
            "  }\n",
            "}\n",
            "\n",
            "features {\n",
            "  feature {\n",
            "    key: \"resep_context_id\"\n",
            "    value {\n",
            "      int64_list {\n",
            "        value: 76\n",
            "        value: 74\n",
            "      }\n",
            "    }\n",
            "  }\n",
            "  feature {\n",
            "    key: \"resep_label_id\"\n",
            "    value {\n",
            "      int64_list {\n",
            "        value: 73\n",
            "      }\n",
            "    }\n",
            "  }\n",
            "}\n",
            "\n",
            "features {\n",
            "  feature {\n",
            "    key: \"resep_context_id\"\n",
            "    value {\n",
            "      int64_list {\n",
            "        value: 31\n",
            "        value: 11\n",
            "      }\n",
            "    }\n",
            "  }\n",
            "  feature {\n",
            "    key: \"resep_label_id\"\n",
            "    value {\n",
            "      int64_list {\n",
            "        value: 57\n",
            "      }\n",
            "    }\n",
            "  }\n",
            "}\n",
            "\n",
            "features {\n",
            "  feature {\n",
            "    key: \"resep_context_id\"\n",
            "    value {\n",
            "      int64_list {\n",
            "        value: 43\n",
            "        value: 41\n",
            "      }\n",
            "    }\n",
            "  }\n",
            "  feature {\n",
            "    key: \"resep_label_id\"\n",
            "    value {\n",
            "      int64_list {\n",
            "        value: 60\n",
            "      }\n",
            "    }\n",
            "  }\n",
            "}\n",
            "\n",
            "features {\n",
            "  feature {\n",
            "    key: \"resep_context_id\"\n",
            "    value {\n",
            "      int64_list {\n",
            "        value: 44\n",
            "        value: 67\n",
            "      }\n",
            "    }\n",
            "  }\n",
            "  feature {\n",
            "    key: \"resep_label_id\"\n",
            "    value {\n",
            "      int64_list {\n",
            "        value: 33\n",
            "      }\n",
            "    }\n",
            "  }\n",
            "}\n",
            "\n",
            "features {\n",
            "  feature {\n",
            "    key: \"resep_context_id\"\n",
            "    value {\n",
            "      int64_list {\n",
            "        value: 13\n",
            "        value: 29\n",
            "      }\n",
            "    }\n",
            "  }\n",
            "  feature {\n",
            "    key: \"resep_label_id\"\n",
            "    value {\n",
            "      int64_list {\n",
            "        value: 22\n",
            "      }\n",
            "    }\n",
            "  }\n",
            "}\n",
            "\n",
            "features {\n",
            "  feature {\n",
            "    key: \"resep_context_id\"\n",
            "    value {\n",
            "      int64_list {\n",
            "        value: 24\n",
            "        value: 31\n",
            "      }\n",
            "    }\n",
            "  }\n",
            "  feature {\n",
            "    key: \"resep_label_id\"\n",
            "    value {\n",
            "      int64_list {\n",
            "        value: 24\n",
            "      }\n",
            "    }\n",
            "  }\n",
            "}\n",
            "\n",
            "features {\n",
            "  feature {\n",
            "    key: \"resep_context_id\"\n",
            "    value {\n",
            "      int64_list {\n",
            "        value: 13\n",
            "        value: 75\n",
            "      }\n",
            "    }\n",
            "  }\n",
            "  feature {\n",
            "    key: \"resep_label_id\"\n",
            "    value {\n",
            "      int64_list {\n",
            "        value: 9\n",
            "      }\n",
            "    }\n",
            "  }\n",
            "}\n",
            "\n",
            "features {\n",
            "  feature {\n",
            "    key: \"resep_context_id\"\n",
            "    value {\n",
            "      int64_list {\n",
            "        value: 35\n",
            "        value: 36\n",
            "      }\n",
            "    }\n",
            "  }\n",
            "  feature {\n",
            "    key: \"resep_label_id\"\n",
            "    value {\n",
            "      int64_list {\n",
            "        value: 33\n",
            "      }\n",
            "    }\n",
            "  }\n",
            "}\n",
            "\n",
            "features {\n",
            "  feature {\n",
            "    key: \"resep_context_id\"\n",
            "    value {\n",
            "      int64_list {\n",
            "        value: 13\n",
            "        value: 42\n",
            "      }\n",
            "    }\n",
            "  }\n",
            "  feature {\n",
            "    key: \"resep_label_id\"\n",
            "    value {\n",
            "      int64_list {\n",
            "        value: 16\n",
            "      }\n",
            "    }\n",
            "  }\n",
            "}\n",
            "\n",
            "features {\n",
            "  feature {\n",
            "    key: \"resep_context_id\"\n",
            "    value {\n",
            "      int64_list {\n",
            "        value: 33\n",
            "        value: 8\n",
            "      }\n",
            "    }\n",
            "  }\n",
            "  feature {\n",
            "    key: \"resep_label_id\"\n",
            "    value {\n",
            "      int64_list {\n",
            "        value: 20\n",
            "      }\n",
            "    }\n",
            "  }\n",
            "}\n",
            "\n",
            "features {\n",
            "  feature {\n",
            "    key: \"resep_context_id\"\n",
            "    value {\n",
            "      int64_list {\n",
            "        value: 44\n",
            "        value: 68\n",
            "      }\n",
            "    }\n",
            "  }\n",
            "  feature {\n",
            "    key: \"resep_label_id\"\n",
            "    value {\n",
            "      int64_list {\n",
            "        value: 44\n",
            "      }\n",
            "    }\n",
            "  }\n",
            "}\n",
            "\n",
            "features {\n",
            "  feature {\n",
            "    key: \"resep_context_id\"\n",
            "    value {\n",
            "      int64_list {\n",
            "        value: 61\n",
            "        value: 31\n",
            "      }\n",
            "    }\n",
            "  }\n",
            "  feature {\n",
            "    key: \"resep_label_id\"\n",
            "    value {\n",
            "      int64_list {\n",
            "        value: 27\n",
            "      }\n",
            "    }\n",
            "  }\n",
            "}\n",
            "\n",
            "features {\n",
            "  feature {\n",
            "    key: \"resep_context_id\"\n",
            "    value {\n",
            "      int64_list {\n",
            "        value: 21\n",
            "        value: 29\n",
            "      }\n",
            "    }\n",
            "  }\n",
            "  feature {\n",
            "    key: \"resep_label_id\"\n",
            "    value {\n",
            "      int64_list {\n",
            "        value: 45\n",
            "      }\n",
            "    }\n",
            "  }\n",
            "}\n",
            "\n",
            "features {\n",
            "  feature {\n",
            "    key: \"resep_context_id\"\n",
            "    value {\n",
            "      int64_list {\n",
            "        value: 71\n",
            "        value: 42\n",
            "      }\n",
            "    }\n",
            "  }\n",
            "  feature {\n",
            "    key: \"resep_label_id\"\n",
            "    value {\n",
            "      int64_list {\n",
            "        value: 23\n",
            "      }\n",
            "    }\n",
            "  }\n",
            "}\n",
            "\n",
            "features {\n",
            "  feature {\n",
            "    key: \"resep_context_id\"\n",
            "    value {\n",
            "      int64_list {\n",
            "        value: 32\n",
            "        value: 17\n",
            "      }\n",
            "    }\n",
            "  }\n",
            "  feature {\n",
            "    key: \"resep_label_id\"\n",
            "    value {\n",
            "      int64_list {\n",
            "        value: 39\n",
            "      }\n",
            "    }\n",
            "  }\n",
            "}\n",
            "\n",
            "features {\n",
            "  feature {\n",
            "    key: \"resep_context_id\"\n",
            "    value {\n",
            "      int64_list {\n",
            "        value: 37\n",
            "        value: 17\n",
            "      }\n",
            "    }\n",
            "  }\n",
            "  feature {\n",
            "    key: \"resep_label_id\"\n",
            "    value {\n",
            "      int64_list {\n",
            "        value: 13\n",
            "      }\n",
            "    }\n",
            "  }\n",
            "}\n",
            "\n",
            "features {\n",
            "  feature {\n",
            "    key: \"resep_context_id\"\n",
            "    value {\n",
            "      int64_list {\n",
            "        value: 31\n",
            "        value: 40\n",
            "      }\n",
            "    }\n",
            "  }\n",
            "  feature {\n",
            "    key: \"resep_label_id\"\n",
            "    value {\n",
            "      int64_list {\n",
            "        value: 47\n",
            "      }\n",
            "    }\n",
            "  }\n",
            "}\n",
            "\n",
            "features {\n",
            "  feature {\n",
            "    key: \"resep_context_id\"\n",
            "    value {\n",
            "      int64_list {\n",
            "        value: 13\n",
            "        value: 39\n",
            "      }\n",
            "    }\n",
            "  }\n",
            "  feature {\n",
            "    key: \"resep_label_id\"\n",
            "    value {\n",
            "      int64_list {\n",
            "        value: 53\n",
            "      }\n",
            "    }\n",
            "  }\n",
            "}\n",
            "\n",
            "features {\n",
            "  feature {\n",
            "    key: \"resep_context_id\"\n",
            "    value {\n",
            "      int64_list {\n",
            "        value: 61\n",
            "        value: 3\n",
            "      }\n",
            "    }\n",
            "  }\n",
            "  feature {\n",
            "    key: \"resep_label_id\"\n",
            "    value {\n",
            "      int64_list {\n",
            "        value: 11\n",
            "      }\n",
            "    }\n",
            "  }\n",
            "}\n",
            "\n",
            "features {\n",
            "  feature {\n",
            "    key: \"resep_context_id\"\n",
            "    value {\n",
            "      int64_list {\n",
            "        value: 59\n",
            "        value: 56\n",
            "      }\n",
            "    }\n",
            "  }\n",
            "  feature {\n",
            "    key: \"resep_label_id\"\n",
            "    value {\n",
            "      int64_list {\n",
            "        value: 37\n",
            "      }\n",
            "    }\n",
            "  }\n",
            "}\n",
            "\n",
            "features {\n",
            "  feature {\n",
            "    key: \"resep_context_id\"\n",
            "    value {\n",
            "      int64_list {\n",
            "        value: 15\n",
            "        value: 29\n",
            "      }\n",
            "    }\n",
            "  }\n",
            "  feature {\n",
            "    key: \"resep_label_id\"\n",
            "    value {\n",
            "      int64_list {\n",
            "        value: 25\n",
            "      }\n",
            "    }\n",
            "  }\n",
            "}\n",
            "\n",
            "features {\n",
            "  feature {\n",
            "    key: \"resep_context_id\"\n",
            "    value {\n",
            "      int64_list {\n",
            "        value: 61\n",
            "        value: 76\n",
            "      }\n",
            "    }\n",
            "  }\n",
            "  feature {\n",
            "    key: \"resep_label_id\"\n",
            "    value {\n",
            "      int64_list {\n",
            "        value: 57\n",
            "      }\n",
            "    }\n",
            "  }\n",
            "}\n",
            "\n",
            "features {\n",
            "  feature {\n",
            "    key: \"resep_context_id\"\n",
            "    value {\n",
            "      int64_list {\n",
            "        value: 61\n",
            "        value: 72\n",
            "      }\n",
            "    }\n",
            "  }\n",
            "  feature {\n",
            "    key: \"resep_label_id\"\n",
            "    value {\n",
            "      int64_list {\n",
            "        value: 73\n",
            "      }\n",
            "    }\n",
            "  }\n",
            "}\n",
            "\n",
            "features {\n",
            "  feature {\n",
            "    key: \"resep_context_id\"\n",
            "    value {\n",
            "      int64_list {\n",
            "        value: 22\n",
            "        value: 25\n",
            "      }\n",
            "    }\n",
            "  }\n",
            "  feature {\n",
            "    key: \"resep_label_id\"\n",
            "    value {\n",
            "      int64_list {\n",
            "        value: 32\n",
            "      }\n",
            "    }\n",
            "  }\n",
            "}\n",
            "\n",
            "features {\n",
            "  feature {\n",
            "    key: \"resep_context_id\"\n",
            "    value {\n",
            "      int64_list {\n",
            "        value: 28\n",
            "        value: 12\n",
            "      }\n",
            "    }\n",
            "  }\n",
            "  feature {\n",
            "    key: \"resep_label_id\"\n",
            "    value {\n",
            "      int64_list {\n",
            "        value: 29\n",
            "      }\n",
            "    }\n",
            "  }\n",
            "}\n",
            "\n",
            "features {\n",
            "  feature {\n",
            "    key: \"resep_context_id\"\n",
            "    value {\n",
            "      int64_list {\n",
            "        value: 36\n",
            "        value: 70\n",
            "      }\n",
            "    }\n",
            "  }\n",
            "  feature {\n",
            "    key: \"resep_label_id\"\n",
            "    value {\n",
            "      int64_list {\n",
            "        value: 68\n",
            "      }\n",
            "    }\n",
            "  }\n",
            "}\n",
            "\n",
            "features {\n",
            "  feature {\n",
            "    key: \"resep_context_id\"\n",
            "    value {\n",
            "      int64_list {\n",
            "        value: 65\n",
            "        value: 63\n",
            "      }\n",
            "    }\n",
            "  }\n",
            "  feature {\n",
            "    key: \"resep_label_id\"\n",
            "    value {\n",
            "      int64_list {\n",
            "        value: 65\n",
            "      }\n",
            "    }\n",
            "  }\n",
            "}\n",
            "\n",
            "features {\n",
            "  feature {\n",
            "    key: \"resep_context_id\"\n",
            "    value {\n",
            "      int64_list {\n",
            "        value: 70\n",
            "        value: 36\n",
            "      }\n",
            "    }\n",
            "  }\n",
            "  feature {\n",
            "    key: \"resep_label_id\"\n",
            "    value {\n",
            "      int64_list {\n",
            "        value: 33\n",
            "      }\n",
            "    }\n",
            "  }\n",
            "}\n",
            "\n",
            "features {\n",
            "  feature {\n",
            "    key: \"resep_context_id\"\n",
            "    value {\n",
            "      int64_list {\n",
            "        value: 8\n",
            "        value: 12\n",
            "      }\n",
            "    }\n",
            "  }\n",
            "  feature {\n",
            "    key: \"resep_label_id\"\n",
            "    value {\n",
            "      int64_list {\n",
            "        value: 13\n",
            "      }\n",
            "    }\n",
            "  }\n",
            "}\n",
            "\n",
            "features {\n",
            "  feature {\n",
            "    key: \"resep_context_id\"\n",
            "    value {\n",
            "      int64_list {\n",
            "        value: 60\n",
            "        value: 42\n",
            "      }\n",
            "    }\n",
            "  }\n",
            "  feature {\n",
            "    key: \"resep_label_id\"\n",
            "    value {\n",
            "      int64_list {\n",
            "        value: 22\n",
            "      }\n",
            "    }\n",
            "  }\n",
            "}\n",
            "\n",
            "features {\n",
            "  feature {\n",
            "    key: \"resep_context_id\"\n",
            "    value {\n",
            "      int64_list {\n",
            "        value: 10\n",
            "        value: 49\n",
            "      }\n",
            "    }\n",
            "  }\n",
            "  feature {\n",
            "    key: \"resep_label_id\"\n",
            "    value {\n",
            "      int64_list {\n",
            "        value: 6\n",
            "      }\n",
            "    }\n",
            "  }\n",
            "}\n",
            "\n",
            "features {\n",
            "  feature {\n",
            "    key: \"resep_context_id\"\n",
            "    value {\n",
            "      int64_list {\n",
            "        value: 60\n",
            "        value: 71\n",
            "      }\n",
            "    }\n",
            "  }\n",
            "  feature {\n",
            "    key: \"resep_label_id\"\n",
            "    value {\n",
            "      int64_list {\n",
            "        value: 45\n",
            "      }\n",
            "    }\n",
            "  }\n",
            "}\n",
            "\n",
            "features {\n",
            "  feature {\n",
            "    key: \"resep_context_id\"\n",
            "    value {\n",
            "      int64_list {\n",
            "        value: 45\n",
            "        value: 17\n",
            "      }\n",
            "    }\n",
            "  }\n",
            "  feature {\n",
            "    key: \"resep_label_id\"\n",
            "    value {\n",
            "      int64_list {\n",
            "        value: 32\n",
            "      }\n",
            "    }\n",
            "  }\n",
            "}\n",
            "\n",
            "features {\n",
            "  feature {\n",
            "    key: \"resep_context_id\"\n",
            "    value {\n",
            "      int64_list {\n",
            "        value: 67\n",
            "        value: 64\n",
            "      }\n",
            "    }\n",
            "  }\n",
            "  feature {\n",
            "    key: \"resep_label_id\"\n",
            "    value {\n",
            "      int64_list {\n",
            "        value: 44\n",
            "      }\n",
            "    }\n",
            "  }\n",
            "}\n",
            "\n",
            "features {\n",
            "  feature {\n",
            "    key: \"resep_context_id\"\n",
            "    value {\n",
            "      int64_list {\n",
            "        value: 46\n",
            "        value: 59\n",
            "      }\n",
            "    }\n",
            "  }\n",
            "  feature {\n",
            "    key: \"resep_label_id\"\n",
            "    value {\n",
            "      int64_list {\n",
            "        value: 45\n",
            "      }\n",
            "    }\n",
            "  }\n",
            "}\n",
            "\n",
            "features {\n",
            "  feature {\n",
            "    key: \"resep_context_id\"\n",
            "    value {\n",
            "      int64_list {\n",
            "        value: 70\n",
            "        value: 35\n",
            "      }\n",
            "    }\n",
            "  }\n",
            "  feature {\n",
            "    key: \"resep_label_id\"\n",
            "    value {\n",
            "      int64_list {\n",
            "        value: 36\n",
            "      }\n",
            "    }\n",
            "  }\n",
            "}\n",
            "\n",
            "features {\n",
            "  feature {\n",
            "    key: \"resep_context_id\"\n",
            "    value {\n",
            "      int64_list {\n",
            "        value: 12\n",
            "        value: 41\n",
            "      }\n",
            "    }\n",
            "  }\n",
            "  feature {\n",
            "    key: \"resep_label_id\"\n",
            "    value {\n",
            "      int64_list {\n",
            "        value: 45\n",
            "      }\n",
            "    }\n",
            "  }\n",
            "}\n",
            "\n",
            "features {\n",
            "  feature {\n",
            "    key: \"resep_context_id\"\n",
            "    value {\n",
            "      int64_list {\n",
            "        value: 14\n",
            "        value: 31\n",
            "      }\n",
            "    }\n",
            "  }\n",
            "  feature {\n",
            "    key: \"resep_label_id\"\n",
            "    value {\n",
            "      int64_list {\n",
            "        value: 7\n",
            "      }\n",
            "    }\n",
            "  }\n",
            "}\n",
            "\n",
            "features {\n",
            "  feature {\n",
            "    key: \"resep_context_id\"\n",
            "    value {\n",
            "      int64_list {\n",
            "        value: 13\n",
            "        value: 42\n",
            "      }\n",
            "    }\n",
            "  }\n",
            "  feature {\n",
            "    key: \"resep_label_id\"\n",
            "    value {\n",
            "      int64_list {\n",
            "        value: 27\n",
            "      }\n",
            "    }\n",
            "  }\n",
            "}\n",
            "\n",
            "features {\n",
            "  feature {\n",
            "    key: \"resep_context_id\"\n",
            "    value {\n",
            "      int64_list {\n",
            "        value: 7\n",
            "        value: 62\n",
            "      }\n",
            "    }\n",
            "  }\n",
            "  feature {\n",
            "    key: \"resep_label_id\"\n",
            "    value {\n",
            "      int64_list {\n",
            "        value: 3\n",
            "      }\n",
            "    }\n",
            "  }\n",
            "}\n",
            "\n",
            "features {\n",
            "  feature {\n",
            "    key: \"resep_context_id\"\n",
            "    value {\n",
            "      int64_list {\n",
            "        value: 14\n",
            "        value: 48\n",
            "      }\n",
            "    }\n",
            "  }\n",
            "  feature {\n",
            "    key: \"resep_label_id\"\n",
            "    value {\n",
            "      int64_list {\n",
            "        value: 68\n",
            "      }\n",
            "    }\n",
            "  }\n",
            "}\n",
            "\n"
          ]
        }
      ]
    },
    {
      "cell_type": "code",
      "source": [
        "!git clone https://github.com/tensorflow/examples\n",
        "%cd examples/lite/examples/recommendation/ml/\n",
        "!pip install -r requirements.txt"
      ],
      "metadata": {
        "colab": {
          "base_uri": "https://localhost:8080/"
        },
        "id": "wrdJBxlzeYJN",
        "outputId": "5cd60d86-6f28-42dc-8404-a46fdf482520"
      },
      "execution_count": null,
      "outputs": [
        {
          "output_type": "stream",
          "name": "stdout",
          "text": [
            "Cloning into 'examples'...\n",
            "remote: Enumerating objects: 21552, done.\u001b[K\n",
            "remote: Counting objects: 100% (213/213), done.\u001b[K\n",
            "remote: Compressing objects: 100% (148/148), done.\u001b[K\n",
            "remote: Total 21552 (delta 73), reused 154 (delta 44), pack-reused 21339\u001b[K\n",
            "Receiving objects: 100% (21552/21552), 36.06 MiB | 26.06 MiB/s, done.\n",
            "Resolving deltas: 100% (11834/11834), done.\n",
            "/content/examples/lite/examples/recommendation/ml\n",
            "Looking in indexes: https://pypi.org/simple, https://us-python.pkg.dev/colab-wheels/public/simple/\n",
            "Requirement already satisfied: pandas>=1.0.5 in /usr/local/lib/python3.7/dist-packages (from -r requirements.txt (line 1)) (1.3.5)\n",
            "Requirement already satisfied: tensorflow>=2.2.0 in /usr/local/lib/python3.7/dist-packages (from -r requirements.txt (line 2)) (2.9.1)\n",
            "Requirement already satisfied: absl-py>=0.1.6 in /usr/local/lib/python3.7/dist-packages (from -r requirements.txt (line 3)) (1.0.0)\n",
            "Requirement already satisfied: numpy>=1.17.3 in /usr/local/lib/python3.7/dist-packages (from pandas>=1.0.5->-r requirements.txt (line 1)) (1.21.6)\n",
            "Requirement already satisfied: pytz>=2017.3 in /usr/local/lib/python3.7/dist-packages (from pandas>=1.0.5->-r requirements.txt (line 1)) (2022.1)\n",
            "Requirement already satisfied: python-dateutil>=2.7.3 in /usr/local/lib/python3.7/dist-packages (from pandas>=1.0.5->-r requirements.txt (line 1)) (2.8.2)\n",
            "Requirement already satisfied: keras-preprocessing>=1.1.1 in /usr/local/lib/python3.7/dist-packages (from tensorflow>=2.2.0->-r requirements.txt (line 2)) (1.1.2)\n",
            "Requirement already satisfied: flatbuffers<2,>=1.12 in /usr/local/lib/python3.7/dist-packages (from tensorflow>=2.2.0->-r requirements.txt (line 2)) (1.12)\n",
            "Requirement already satisfied: h5py>=2.9.0 in /usr/local/lib/python3.7/dist-packages (from tensorflow>=2.2.0->-r requirements.txt (line 2)) (3.1.0)\n",
            "Requirement already satisfied: opt-einsum>=2.3.2 in /usr/local/lib/python3.7/dist-packages (from tensorflow>=2.2.0->-r requirements.txt (line 2)) (3.3.0)\n",
            "Requirement already satisfied: protobuf<3.20,>=3.9.2 in /usr/local/lib/python3.7/dist-packages (from tensorflow>=2.2.0->-r requirements.txt (line 2)) (3.17.3)\n",
            "Requirement already satisfied: typing-extensions>=3.6.6 in /usr/local/lib/python3.7/dist-packages (from tensorflow>=2.2.0->-r requirements.txt (line 2)) (4.2.0)\n",
            "Requirement already satisfied: tensorflow-io-gcs-filesystem>=0.23.1 in /usr/local/lib/python3.7/dist-packages (from tensorflow>=2.2.0->-r requirements.txt (line 2)) (0.26.0)\n",
            "Requirement already satisfied: tensorflow-estimator<2.10.0,>=2.9.0rc0 in /usr/local/lib/python3.7/dist-packages (from tensorflow>=2.2.0->-r requirements.txt (line 2)) (2.9.0)\n",
            "Requirement already satisfied: google-pasta>=0.1.1 in /usr/local/lib/python3.7/dist-packages (from tensorflow>=2.2.0->-r requirements.txt (line 2)) (0.2.0)\n",
            "Requirement already satisfied: keras<2.10.0,>=2.9.0rc0 in /usr/local/lib/python3.7/dist-packages (from tensorflow>=2.2.0->-r requirements.txt (line 2)) (2.9.0)\n",
            "Requirement already satisfied: astunparse>=1.6.0 in /usr/local/lib/python3.7/dist-packages (from tensorflow>=2.2.0->-r requirements.txt (line 2)) (1.6.3)\n",
            "Requirement already satisfied: termcolor>=1.1.0 in /usr/local/lib/python3.7/dist-packages (from tensorflow>=2.2.0->-r requirements.txt (line 2)) (1.1.0)\n",
            "Requirement already satisfied: tensorboard<2.10,>=2.9 in /usr/local/lib/python3.7/dist-packages (from tensorflow>=2.2.0->-r requirements.txt (line 2)) (2.9.1)\n",
            "Requirement already satisfied: packaging in /usr/local/lib/python3.7/dist-packages (from tensorflow>=2.2.0->-r requirements.txt (line 2)) (20.9)\n",
            "Requirement already satisfied: gast<=0.4.0,>=0.2.1 in /usr/local/lib/python3.7/dist-packages (from tensorflow>=2.2.0->-r requirements.txt (line 2)) (0.4.0)\n",
            "Requirement already satisfied: setuptools in /usr/local/lib/python3.7/dist-packages (from tensorflow>=2.2.0->-r requirements.txt (line 2)) (57.4.0)\n",
            "Requirement already satisfied: six>=1.12.0 in /usr/local/lib/python3.7/dist-packages (from tensorflow>=2.2.0->-r requirements.txt (line 2)) (1.15.0)\n",
            "Requirement already satisfied: wrapt>=1.11.0 in /usr/local/lib/python3.7/dist-packages (from tensorflow>=2.2.0->-r requirements.txt (line 2)) (1.14.1)\n",
            "Requirement already satisfied: libclang>=13.0.0 in /usr/local/lib/python3.7/dist-packages (from tensorflow>=2.2.0->-r requirements.txt (line 2)) (14.0.1)\n",
            "Requirement already satisfied: grpcio<2.0,>=1.24.3 in /usr/local/lib/python3.7/dist-packages (from tensorflow>=2.2.0->-r requirements.txt (line 2)) (1.46.3)\n",
            "Requirement already satisfied: wheel<1.0,>=0.23.0 in /usr/local/lib/python3.7/dist-packages (from astunparse>=1.6.0->tensorflow>=2.2.0->-r requirements.txt (line 2)) (0.37.1)\n",
            "Requirement already satisfied: cached-property in /usr/local/lib/python3.7/dist-packages (from h5py>=2.9.0->tensorflow>=2.2.0->-r requirements.txt (line 2)) (1.5.2)\n",
            "Requirement already satisfied: tensorboard-data-server<0.7.0,>=0.6.0 in /usr/local/lib/python3.7/dist-packages (from tensorboard<2.10,>=2.9->tensorflow>=2.2.0->-r requirements.txt (line 2)) (0.6.1)\n",
            "Requirement already satisfied: requests<3,>=2.21.0 in /usr/local/lib/python3.7/dist-packages (from tensorboard<2.10,>=2.9->tensorflow>=2.2.0->-r requirements.txt (line 2)) (2.23.0)\n",
            "Requirement already satisfied: google-auth-oauthlib<0.5,>=0.4.1 in /usr/local/lib/python3.7/dist-packages (from tensorboard<2.10,>=2.9->tensorflow>=2.2.0->-r requirements.txt (line 2)) (0.4.6)\n",
            "Requirement already satisfied: markdown>=2.6.8 in /usr/local/lib/python3.7/dist-packages (from tensorboard<2.10,>=2.9->tensorflow>=2.2.0->-r requirements.txt (line 2)) (3.3.7)\n",
            "Requirement already satisfied: werkzeug>=1.0.1 in /usr/local/lib/python3.7/dist-packages (from tensorboard<2.10,>=2.9->tensorflow>=2.2.0->-r requirements.txt (line 2)) (1.0.1)\n",
            "Requirement already satisfied: tensorboard-plugin-wit>=1.6.0 in /usr/local/lib/python3.7/dist-packages (from tensorboard<2.10,>=2.9->tensorflow>=2.2.0->-r requirements.txt (line 2)) (1.8.1)\n",
            "Requirement already satisfied: google-auth<3,>=1.6.3 in /usr/local/lib/python3.7/dist-packages (from tensorboard<2.10,>=2.9->tensorflow>=2.2.0->-r requirements.txt (line 2)) (1.35.0)\n",
            "Requirement already satisfied: cachetools<5.0,>=2.0.0 in /usr/local/lib/python3.7/dist-packages (from google-auth<3,>=1.6.3->tensorboard<2.10,>=2.9->tensorflow>=2.2.0->-r requirements.txt (line 2)) (4.2.4)\n",
            "Requirement already satisfied: pyasn1-modules>=0.2.1 in /usr/local/lib/python3.7/dist-packages (from google-auth<3,>=1.6.3->tensorboard<2.10,>=2.9->tensorflow>=2.2.0->-r requirements.txt (line 2)) (0.2.8)\n",
            "Requirement already satisfied: rsa<5,>=3.1.4 in /usr/local/lib/python3.7/dist-packages (from google-auth<3,>=1.6.3->tensorboard<2.10,>=2.9->tensorflow>=2.2.0->-r requirements.txt (line 2)) (4.8)\n",
            "Requirement already satisfied: requests-oauthlib>=0.7.0 in /usr/local/lib/python3.7/dist-packages (from google-auth-oauthlib<0.5,>=0.4.1->tensorboard<2.10,>=2.9->tensorflow>=2.2.0->-r requirements.txt (line 2)) (1.3.1)\n",
            "Requirement already satisfied: importlib-metadata>=4.4 in /usr/local/lib/python3.7/dist-packages (from markdown>=2.6.8->tensorboard<2.10,>=2.9->tensorflow>=2.2.0->-r requirements.txt (line 2)) (4.11.4)\n",
            "Requirement already satisfied: zipp>=0.5 in /usr/local/lib/python3.7/dist-packages (from importlib-metadata>=4.4->markdown>=2.6.8->tensorboard<2.10,>=2.9->tensorflow>=2.2.0->-r requirements.txt (line 2)) (3.8.0)\n",
            "Requirement already satisfied: pyasn1<0.5.0,>=0.4.6 in /usr/local/lib/python3.7/dist-packages (from pyasn1-modules>=0.2.1->google-auth<3,>=1.6.3->tensorboard<2.10,>=2.9->tensorflow>=2.2.0->-r requirements.txt (line 2)) (0.4.8)\n",
            "Requirement already satisfied: idna<3,>=2.5 in /usr/local/lib/python3.7/dist-packages (from requests<3,>=2.21.0->tensorboard<2.10,>=2.9->tensorflow>=2.2.0->-r requirements.txt (line 2)) (2.10)\n",
            "Requirement already satisfied: chardet<4,>=3.0.2 in /usr/local/lib/python3.7/dist-packages (from requests<3,>=2.21.0->tensorboard<2.10,>=2.9->tensorflow>=2.2.0->-r requirements.txt (line 2)) (3.0.4)\n",
            "Requirement already satisfied: certifi>=2017.4.17 in /usr/local/lib/python3.7/dist-packages (from requests<3,>=2.21.0->tensorboard<2.10,>=2.9->tensorflow>=2.2.0->-r requirements.txt (line 2)) (2022.5.18.1)\n",
            "Requirement already satisfied: urllib3!=1.25.0,!=1.25.1,<1.26,>=1.21.1 in /usr/local/lib/python3.7/dist-packages (from requests<3,>=2.21.0->tensorboard<2.10,>=2.9->tensorflow>=2.2.0->-r requirements.txt (line 2)) (1.24.3)\n",
            "Requirement already satisfied: oauthlib>=3.0.0 in /usr/local/lib/python3.7/dist-packages (from requests-oauthlib>=0.7.0->google-auth-oauthlib<0.5,>=0.4.1->tensorboard<2.10,>=2.9->tensorflow>=2.2.0->-r requirements.txt (line 2)) (3.2.0)\n",
            "Requirement already satisfied: pyparsing>=2.0.2 in /usr/local/lib/python3.7/dist-packages (from packaging->tensorflow>=2.2.0->-r requirements.txt (line 2)) (3.0.9)\n"
          ]
        }
      ]
    },
    {
      "cell_type": "code",
      "source": [
        "!python -m data.example_generation_movielens \\\n",
        "  --data_dir=data/raw \\\n",
        "  --output_dir=data/examples \\\n",
        "  --min_timeline_length=3 \\\n",
        "  --max_context_length=10 \\\n",
        "  --max_context_movie_genre_length=32 \\\n",
        "  --min_rating=2 \\\n",
        "  --train_data_fraction=0.9 \\\n",
        "  --build_vocabs=True"
      ],
      "metadata": {
        "colab": {
          "base_uri": "https://localhost:8080/"
        },
        "id": "CJAwCX2mhXEW",
        "outputId": "c5e56ac0-8c76-411a-be09-2cacbe7028f1"
      },
      "execution_count": null,
      "outputs": [
        {
          "output_type": "stream",
          "name": "stdout",
          "text": [
            "2022-06-10 03:09:52.920084: E tensorflow/stream_executor/cuda/cuda_driver.cc:271] failed call to cuInit: CUDA_ERROR_NO_DEVICE: no CUDA-capable device is detected\n",
            "I0610 03:09:52.921065 140066213521280 example_generation_movielens.py:460] Downloading and extracting data.\n",
            "Downloading data from https://files.grouplens.org/datasets/movielens/ml-1m.zip\n",
            "5917549/5917549 [==============================] - 0s 0us/step\n",
            "I0610 03:09:54.077274 140066213521280 example_generation_movielens.py:406] Reading data to dataframes.\n",
            "/usr/local/lib/python3.7/dist-packages/pandas/util/_decorators.py:311: ParserWarning: Falling back to the 'python' engine because the 'c' engine does not support regex separators (separators > 1 char and different from '\\s+' are interpreted as regex); you can avoid this warning by specifying engine='python'.\n",
            "  return func(*args, **kwargs)\n",
            "I0610 03:10:13.296033 140066213521280 example_generation_movielens.py:408] Generating movie rating user timelines.\n",
            "I0610 03:10:20.746802 140066213521280 example_generation_movielens.py:410] Generating train and test examples.\n",
            " 911/6040 [===>..........................] - ETA: 1:27\n"
          ]
        }
      ]
    },
    {
      "cell_type": "code",
      "source": [
        "def write_tfrecords(tf_examples, filename):\n",
        "  \"\"\"Write tf examples to tfrecord file.\"\"\"\n",
        "  with tf.io.TFRecordWriter(filename) as file_writer:\n",
        "    for example in tf_examples:\n",
        "      file_writer.write(example)\n",
        "\n",
        "output_dir = '/content/examples/lite/examples/recommendation/ml/data'\n",
        "OUTPUT_TRAINING_DATA_FILENAME = \"train_resep.tfrecord\"\n",
        "OUTPUT_TESTING_DATA_FILENAME = \"test_resep.tfrecord\"\n",
        "\n",
        "if not tf.io.gfile.exists(output_dir):\n",
        "  tf.io.gfile.makedirs(output_dir)\n",
        "write_tfrecords(\n",
        "    tf_examples=train_examples,\n",
        "    filename=os.path.join(output_dir, OUTPUT_TRAINING_DATA_FILENAME))\n",
        "write_tfrecords(\n",
        "    tf_examples=test_examples,\n",
        "    filename=os.path.join(output_dir, OUTPUT_TESTING_DATA_FILENAME))"
      ],
      "metadata": {
        "id": "U664kY0xdeYB"
      },
      "execution_count": null,
      "outputs": []
    },
    {
      "cell_type": "code",
      "source": [
        "record_iterator = tf.compat.v1.io.tf_record_iterator(path=\"/content/examples/lite/examples/recommendation/ml/data/test_resep.tfrecord\")\n",
        "for string_record in record_iterator:\n",
        "    example = tf.train.Example()\n",
        "    example.ParseFromString(string_record)\n",
        "\n",
        "    i = (example.features.feature['resep_context_id'].int64_list.value)\n",
        "    data = (example.features.feature['resep_label_id'].int64_list.value)\n",
        "    print(i, data)"
      ],
      "metadata": {
        "colab": {
          "base_uri": "https://localhost:8080/"
        },
        "id": "FQ49IeDK0M2s",
        "outputId": "fdf8e468-b680-44d0-aa3d-fe7087d1c07e"
      },
      "execution_count": null,
      "outputs": [
        {
          "output_type": "stream",
          "name": "stdout",
          "text": [
            "WARNING:tensorflow:From <ipython-input-32-ded0e5d44d72>:1: tf_record_iterator (from tensorflow.python.lib.io.tf_record) is deprecated and will be removed in a future version.\n",
            "Instructions for updating:\n",
            "Use eager execution and: \n",
            "`tf.data.TFRecordDataset(path)`\n",
            "[70, 36] [33]\n",
            "[8, 12] [13]\n",
            "[60, 42] [22]\n",
            "[10, 49] [6]\n",
            "[60, 71] [45]\n",
            "[45, 17] [32]\n",
            "[67, 64] [44]\n",
            "[46, 59] [45]\n",
            "[70, 35] [36]\n",
            "[12, 41] [45]\n",
            "[14, 31] [7]\n",
            "[13, 42] [27]\n",
            "[7, 62] [3]\n",
            "[14, 48] [68]\n"
          ]
        }
      ]
    },
    {
      "cell_type": "code",
      "source": [
        "!python -m model.recommendation_model_launcher \\\n",
        "  --training_data_filepattern \"data/train_resep.tfrecord\" \\\n",
        "  --testing_data_filepattern \"data/test_resep.tfrecord\" \\\n",
        "  --model_dir \"model/model_dir\" \\\n",
        "  --export_dir \"model/model_dir/export_m1\" \\\n",
        "  --input_config_file \"/content/SIMPASIconfig.pbtxt\" \\\n",
        "  --batch_size 32 \\\n",
        "  --learning_rate 0.01 \\\n",
        "  --steps_per_epoch 2 \\\n",
        "  --num_epochs 2 \\\n",
        "  --num_eval_steps 2 \\\n",
        "  --run_mode \"train_and_eval\" \\\n",
        "  --gradient_clip_norm 1.0 \\\n",
        "  --num_predictions 10 \\\n",
        "  --hidden_layer_dims \"32,32\" \\\n",
        "  --eval_top_k \"1,5\" \\\n",
        "  --conv_num_filter_ratios \"2,4\" \\\n",
        "  --conv_kernel_size 4 \\\n",
        "  --lstm_num_units 16"
      ],
      "metadata": {
        "id": "j3Pc9F6gfEd9"
      },
      "execution_count": null,
      "outputs": []
    },
    {
      "cell_type": "code",
      "source": [
        "import os\n",
        "import tensorflow as tf\n",
        "\n",
        "# Use [0, 1, ... 9] as example input to represent 10 movies that user interacted with.\n",
        "context = tf.range(10)\n",
        "# Path to exported TensorFlow Lite model.\n",
        "tflite_model_path = \"/content/examples/lite/examples/recommendation/ml/model/model_dir/export_m1/model.tflite\" #@param {type:\"string\"}\n",
        "\n",
        "# Create TFLite interpreter.\n",
        "interpreter = tf.lite.Interpreter(tflite_model_path)\n",
        "interpreter.allocate_tensors()\n",
        "input_details = interpreter.get_input_details()\n",
        "output_details = interpreter.get_output_details()\n",
        "print('Display inputs and outputs:')\n",
        "print(input_details)\n",
        "print(output_details)"
      ],
      "metadata": {
        "id": "UKQUXNvX504u"
      },
      "execution_count": null,
      "outputs": []
    },
    {
      "cell_type": "code",
      "source": [
        "# Find indices.\n",
        "names = [\n",
        "  'serving_default_resep_context_id:0',\n",
        "]\n",
        "indices = {i['name']: i['index'] for i in input_details}\n",
        "\n",
        "# Fake inputs for illustration. Please change to the real data.\n",
        "# Use [0, 1, ... 9] to represent 2 recipes that user interacted with.\n",
        "ids = tf.range(2)\n",
        "print(ids)\n",
        "interpreter.set_tensor(indices[names[0]], ids)\n",
        "\n",
        "# Run inference.\n",
        "interpreter.invoke()\n",
        "\n",
        "# Get outputs.\n",
        "top_prediction_ids = interpreter.get_tensor(output_details[1]['index'])\n",
        "top_prediction_scores = interpreter.get_tensor(output_details[0]['index'])\n",
        "print('Predicted results:')\n",
        "print('Top ids: {}'.format(top_prediction_ids))\n",
        "print('Top scores: {}'.format(top_prediction_scores))\n",
        "\n",
        "print('{} input(s):'.format(len(input_details)))\n",
        "for i in range(0, len(input_details)):\n",
        "    print('{} {}'.format(input_details[i]['shape'], input_details[i]['dtype']))\n",
        "\n",
        "# Print output shape and type\n",
        "print('\\n{} output(s):'.format(len(output_details)))\n",
        "for i in range(0, len(output_details)):\n",
        "    print('{} {}'.format(output_details[i]['shape'], output_details[i]['dtype']))"
      ],
      "metadata": {
        "id": "x57yI7sS6Hjf"
      },
      "execution_count": null,
      "outputs": []
    },
    {
      "cell_type": "code",
      "source": [
        "#List Id rekomendasi resep\n",
        "id_rekomendasi = []\n",
        "\n",
        "for i in range(0, len(top_prediction_ids)):\n",
        "    id_rekomendasi.append(top_prediction_ids[i])\n",
        "\n",
        "print(id_rekomendasi)"
      ],
      "metadata": {
        "id": "CfRNNeDM9FDe"
      },
      "execution_count": null,
      "outputs": []
    },
    {
      "cell_type": "code",
      "source": [
        "#List Nama Rekomendasi Resep\n",
        "nama_rekomendasi= []\n",
        "\n",
        "for x in rekomendasi:\n",
        "  index_x = komposisi_resep_pd.index[komposisi_resep_pd[\"id_resep\"] == x].tolist()\n",
        "  result = komposisi_resep_pd.loc[index_x, [\"nama_resep\"]]\n",
        "  nama_rekomendasi.append(result.nama_resep.values[0])\n",
        "\n",
        "print(nama_rekomendasi)"
      ],
      "metadata": {
        "id": "wjdie16rByJF"
      },
      "execution_count": null,
      "outputs": []
    },
    {
      "cell_type": "code",
      "source": [
        "#Filter Hasil Rekomendasi Berdasar Alergi dan Tidak Suka\n",
        "alergi = [\"Kerang\"]\n",
        "tidak_suka = []\n",
        "id_rekomendasi_nonalergen = []\n",
        "nama_rekomendasi_nonalergen = []\n",
        "\n",
        "for x in nama_rekomendasi:\n",
        "  index_x = komposisi_resep_pd.index[komposisi_resep_pd[\"nama_resep\"] == x].tolist()\n",
        "  result = komposisi_resep_pd.loc[index_x, [\"nama_bahan\"]]\n",
        "  mask = result.nama_bahan.str.contains(search_list(alergi))\n",
        "  if ~mask.any():\n",
        "    id_rekomendasi_nonalergen.append(int(index_x[0]))\n",
        "    nama_rekomendasi_nonalergen.append(x)\n",
        "\n",
        "for x in nama_rekomendasi_nonalergen:\n",
        "  index_x = komposisi_resep_pd.index[komposisi_resep_pd[\"nama_resep\"] == x].tolist()\n",
        "  result = komposisi_resep_pd.loc[index_x, [\"nama_bahan\"]]\n",
        "  mask = result.nama_bahan.str.contains(search_list(tidak_suka))\n",
        "  if ~mask.any():\n",
        "    id_rekomendasi_nonalergen.append(int(index_x[0]))\n",
        "    nama_rekomendasi_nonalergen.append(x)\n",
        "\n",
        "print(id_rekomendasi_nonalergen)\n",
        "print(nama_rekomendasi_nonalergen)"
      ],
      "metadata": {
        "id": "3IHSQ4wjEGYO"
      },
      "execution_count": null,
      "outputs": []
    }
  ],
  "metadata": {
    "colab": {
      "provenance": [],
      "toc_visible": true
    },
    "kernelspec": {
      "display_name": "Python 3",
      "name": "python3"
    },
    "language_info": {
      "name": "python"
    }
  },
  "nbformat": 4,
  "nbformat_minor": 0
}